{
 "cells": [
  {
   "cell_type": "markdown",
   "source": [
    "<img src=\"./images/ub_si.png\" height=\"225\" width=\"100%\" />"
   ],
   "metadata": {}
  },
  {
   "cell_type": "markdown",
   "source": [
    "# **N. W. Kusuma** || **`Big Data Final Exam`**"
   ],
   "metadata": {}
  },
  {
   "cell_type": "markdown",
   "source": [
    "***\r\n",
    "# **Libraries**\r\n",
    "***\r\n",
    "## Import common libraries"
   ],
   "metadata": {}
  },
  {
   "cell_type": "code",
   "execution_count": 147,
   "source": [
    "import pandas as pd \r\n",
    "import numpy as np \r\n",
    "import seaborn as sns\r\n",
    "\r\n",
    "import matplotlib.pyplot as plt\r\n",
    "%matplotlib inline "
   ],
   "outputs": [],
   "metadata": {}
  },
  {
   "cell_type": "markdown",
   "source": [
    "## Setting compiler options\r\n",
    "***"
   ],
   "metadata": {}
  },
  {
   "cell_type": "code",
   "execution_count": 148,
   "source": [
    "import warnings\r\n",
    "#warnings.filterwarnings('ignore')\r\n",
    "warnings.simplefilter(action='ignore', category=FutureWarning)\r\n",
    "\r\n",
    "import os\r\n",
    "print(os.listdir(\"./datasets\"))\r\n",
    "\r\n",
    "import xlrd\r\n",
    "\r\n",
    "plt.style.use('bmh')\r\n",
    "sns.set_style('whitegrid')\r\n",
    "pd.set_option(\"display.float_format\", '{:.2f}'.format)"
   ],
   "outputs": [
    {
     "output_type": "stream",
     "name": "stdout",
     "text": [
      "['UAS_PCA dan Multi Linear Regression.xlsx', 'UAS_RFM.xlsx', 'UAS_SVM.xlsx']\n"
     ]
    }
   ],
   "metadata": {}
  },
  {
   "cell_type": "markdown",
   "source": [
    "***\r\n",
    "# **Data Understanding**\r\n",
    "***\r\n",
    "## Get the data\r\n",
    "- ### Load data files (`UAS_SVM.xlsx`)\r\n",
    "- ### And display the first five row subset."
   ],
   "metadata": {}
  },
  {
   "cell_type": "code",
   "execution_count": 149,
   "source": [
    "dataset = pd.read_excel(\"./datasets/UAS_SVM.xlsx\")\r\n",
    "\r\n",
    "dataset.head()"
   ],
   "outputs": [
    {
     "output_type": "execute_result",
     "data": {
      "text/plain": [
       "   Customer ID  Age  Income  Education  Occupation  Income.1  Average Balance  \\\n",
       "0   1234561427    2       4          4           5         5                5   \n",
       "1   1234561518    1       5          2           5         4                3   \n",
       "2   1234561282    1       5          5           4         5                3   \n",
       "3   1234561064    1       2          3           1         4                2   \n",
       "4   1234561043    5       4          2           3         4                3   \n",
       "\n",
       "   Appraisal  Industri  Pelunasan Kredit  \n",
       "0          1         1                 1  \n",
       "1          4         3                 0  \n",
       "2          3         4                 1  \n",
       "3          2         3                 0  \n",
       "4          1         4                 1  "
      ],
      "text/html": [
       "<div>\n",
       "<style scoped>\n",
       "    .dataframe tbody tr th:only-of-type {\n",
       "        vertical-align: middle;\n",
       "    }\n",
       "\n",
       "    .dataframe tbody tr th {\n",
       "        vertical-align: top;\n",
       "    }\n",
       "\n",
       "    .dataframe thead th {\n",
       "        text-align: right;\n",
       "    }\n",
       "</style>\n",
       "<table border=\"1\" class=\"dataframe\">\n",
       "  <thead>\n",
       "    <tr style=\"text-align: right;\">\n",
       "      <th></th>\n",
       "      <th>Customer ID</th>\n",
       "      <th>Age</th>\n",
       "      <th>Income</th>\n",
       "      <th>Education</th>\n",
       "      <th>Occupation</th>\n",
       "      <th>Income.1</th>\n",
       "      <th>Average Balance</th>\n",
       "      <th>Appraisal</th>\n",
       "      <th>Industri</th>\n",
       "      <th>Pelunasan Kredit</th>\n",
       "    </tr>\n",
       "  </thead>\n",
       "  <tbody>\n",
       "    <tr>\n",
       "      <th>0</th>\n",
       "      <td>1234561427</td>\n",
       "      <td>2</td>\n",
       "      <td>4</td>\n",
       "      <td>4</td>\n",
       "      <td>5</td>\n",
       "      <td>5</td>\n",
       "      <td>5</td>\n",
       "      <td>1</td>\n",
       "      <td>1</td>\n",
       "      <td>1</td>\n",
       "    </tr>\n",
       "    <tr>\n",
       "      <th>1</th>\n",
       "      <td>1234561518</td>\n",
       "      <td>1</td>\n",
       "      <td>5</td>\n",
       "      <td>2</td>\n",
       "      <td>5</td>\n",
       "      <td>4</td>\n",
       "      <td>3</td>\n",
       "      <td>4</td>\n",
       "      <td>3</td>\n",
       "      <td>0</td>\n",
       "    </tr>\n",
       "    <tr>\n",
       "      <th>2</th>\n",
       "      <td>1234561282</td>\n",
       "      <td>1</td>\n",
       "      <td>5</td>\n",
       "      <td>5</td>\n",
       "      <td>4</td>\n",
       "      <td>5</td>\n",
       "      <td>3</td>\n",
       "      <td>3</td>\n",
       "      <td>4</td>\n",
       "      <td>1</td>\n",
       "    </tr>\n",
       "    <tr>\n",
       "      <th>3</th>\n",
       "      <td>1234561064</td>\n",
       "      <td>1</td>\n",
       "      <td>2</td>\n",
       "      <td>3</td>\n",
       "      <td>1</td>\n",
       "      <td>4</td>\n",
       "      <td>2</td>\n",
       "      <td>2</td>\n",
       "      <td>3</td>\n",
       "      <td>0</td>\n",
       "    </tr>\n",
       "    <tr>\n",
       "      <th>4</th>\n",
       "      <td>1234561043</td>\n",
       "      <td>5</td>\n",
       "      <td>4</td>\n",
       "      <td>2</td>\n",
       "      <td>3</td>\n",
       "      <td>4</td>\n",
       "      <td>3</td>\n",
       "      <td>1</td>\n",
       "      <td>4</td>\n",
       "      <td>1</td>\n",
       "    </tr>\n",
       "  </tbody>\n",
       "</table>\n",
       "</div>"
      ]
     },
     "metadata": {},
     "execution_count": 149
    }
   ],
   "metadata": {}
  },
  {
   "cell_type": "markdown",
   "source": [
    "## Explore the data\r\n",
    "***\r\n",
    "- ### Rename the `Income.1` columns to `Income` and replace the `whitespace` in the column\\`s names with `underscore`.\r\n",
    "- ### Inspect data structures, data desciption summary, missing values, etc."
   ],
   "metadata": {}
  },
  {
   "cell_type": "code",
   "execution_count": 150,
   "source": [
    "def inspect_data(df, note=None):\r\n",
    "      try:\r\n",
    "            pd.set_option(\"display.width\", 150)\r\n",
    "            print(f\"{'*'*115}\\n\\tPermata Syariah Bank`s credit repayment acceleration modeling for KPR (Home Loan/Mortgage).\\n\"\r\n",
    "                  f\"{'='*115}\\n\\t\\tThe data contains of `{df.shape[0]}` entries and `{df.shape[1]}` columns.\\n\"      \r\n",
    "                  f\"{'-'*115}\\n\\t\\tColumns:\\t\\tdtypes:\\t\\t# Unique:\\t# NaN:\")\r\n",
    "            for i in range(len(df.columns)):\r\n",
    "                  if len(df.columns.values[i]) >= 16: s = '\\t'\r\n",
    "                  elif len(df.columns.values[i]) >= 8: s = '\\t\\t'\r\n",
    "                  else: s = '\\t\\t\\t'\r\n",
    "                  print(f\"\\t\\t{df.columns.values[i]}{s}\"\r\n",
    "                        f\"{np.dtype(df.iloc[:,i])}\\t\\t\"\r\n",
    "                        f\"{df.iloc[:,i].nunique()}\\t\\t\"\r\n",
    "                        f\"{df.iloc[:,i].isnull().sum()}\") \r\n",
    "            print(f\"{'='*115}\\n{df.describe().T}\")\r\n",
    "      finally:\r\n",
    "            if note != None: print(f\"{'='*115}\\nNote:\\n{note}\\n{'*'*115}\")\r\n",
    "            else: print('*'*115)\r\n",
    "            pd.reset_option(\"display.width\")"
   ],
   "outputs": [],
   "metadata": {}
  },
  {
   "cell_type": "code",
   "execution_count": 151,
   "source": [
    "dataset.rename(columns={'Income.1':'Income'}, inplace=True)\r\n",
    "dataset.columns = dataset.columns.str.replace(' ','_')"
   ],
   "outputs": [],
   "metadata": {}
  },
  {
   "cell_type": "code",
   "execution_count": 152,
   "source": [
    "inspect_data(dataset)"
   ],
   "outputs": [
    {
     "output_type": "stream",
     "name": "stdout",
     "text": [
      "*******************************************************************************************************************\n",
      "\tPermata Syariah Bank`s credit repayment acceleration modeling for KPR (Home Loan/Mortgage).\n",
      "===================================================================================================================\n",
      "\t\tThe data contains of `999` entries and `10` columns.\n",
      "-------------------------------------------------------------------------------------------------------------------\n",
      "\t\tColumns:\t\tdtypes:\t\t# Unique:\t# NaN:\n",
      "\t\tCustomer_ID\t\tint64\t\t631\t\t0\n",
      "\t\tAge\t\t\tint64\t\t5\t\t0\n",
      "\t\tIncome\t\t\tint64\t\t5\t\t0\n",
      "\t\tEducation\t\tint64\t\t5\t\t0\n",
      "\t\tOccupation\t\tint64\t\t5\t\t0\n",
      "\t\tIncome\t\t\tint64\t\t5\t\t0\n",
      "\t\tAverage_Balance\t\tint64\t\t5\t\t0\n",
      "\t\tAppraisal\t\tint64\t\t5\t\t0\n",
      "\t\tIndustri\t\tint64\t\t5\t\t0\n",
      "\t\tPelunasan_Kredit\tint64\t\t2\t\t0\n",
      "===================================================================================================================\n",
      "                  count          mean    std           min           25%           50%           75%           max\n",
      "Customer_ID      999.00 1234561509.12 289.84 1234561000.00 1234561259.00 1234561503.00 1234561774.00 1234561998.00\n",
      "Age              999.00          2.94   1.45          1.00          2.00          3.00          4.00          5.00\n",
      "Income           999.00          2.95   1.43          1.00          2.00          3.00          4.00          5.00\n",
      "Education        999.00          3.03   1.45          1.00          2.00          3.00          4.00          5.00\n",
      "Occupation       999.00          2.99   1.40          1.00          2.00          3.00          4.00          5.00\n",
      "Income           999.00          2.94   1.44          1.00          2.00          3.00          4.00          5.00\n",
      "Average_Balance  999.00          2.95   1.39          1.00          2.00          3.00          4.00          5.00\n",
      "Appraisal        999.00          2.99   1.42          1.00          2.00          3.00          4.00          5.00\n",
      "Industri         999.00          3.07   1.40          1.00          2.00          3.00          4.00          5.00\n",
      "Pelunasan_Kredit 999.00          0.52   0.50          0.00          0.00          1.00          1.00          1.00\n",
      "*******************************************************************************************************************\n"
     ]
    }
   ],
   "metadata": {}
  },
  {
   "cell_type": "markdown",
   "source": [
    "## Visualize the data\r\n",
    "***\r\n",
    "- ### Display the correlation matrix between features.\r\n",
    "- ### Visualize the count of `target` feature."
   ],
   "metadata": {}
  },
  {
   "cell_type": "code",
   "execution_count": 153,
   "source": [
    "#Generate correlation matrix\r\n",
    "corr = dataset.corr()\r\n",
    "#print(f\"Correlations matrix between features:\\n{corr}\")\r\n",
    "print(f\"Correlations matrix between features:\")\r\n",
    "\r\n",
    "#Set the width and hieght of the plot\r\n",
    "f, ax = plt.subplots(figsize=(8, 5))\r\n",
    "sns.heatmap(corr, mask=np.zeros_like(corr, dtype=bool), \r\n",
    "            cmap=sns.diverging_palette(220, 10, as_cmap=True),\r\n",
    "            square=True, ax=ax, annot=True, fmt='.2f', linewidths=0.5);\r\n",
    "#sns.countplot(dataset['Pelunasan_Kredit'], label = \"Count\");"
   ],
   "outputs": [
    {
     "output_type": "stream",
     "name": "stdout",
     "text": [
      "Correlations matrix between features:\n"
     ]
    },
    {
     "output_type": "display_data",
     "data": {
      "text/plain": [
       "<Figure size 576x360 with 2 Axes>"
      ],
      "image/png": "[encoded data removed]"
     },
     "metadata": {}
    }
   ],
   "metadata": {}
  },
  {
   "cell_type": "code",
   "execution_count": 154,
   "source": [
    "f, ax = plt.subplots(figsize=(6.7, 5))\r\n",
    "sns.countplot(dataset['Pelunasan_Kredit'], label = \"Count\");"
   ],
   "outputs": [
    {
     "output_type": "display_data",
     "data": {
      "text/plain": [
       "<Figure size 482.4x360 with 1 Axes>"
      ],
      "image/png": "[encoded data removed]"
     },
     "metadata": {}
    }
   ],
   "metadata": {}
  },
  {
   "cell_type": "markdown",
   "source": [
    "***\r\n",
    "# **Data Preparation**\r\n",
    "***\r\n",
    "## Assign `target` feature\r\n",
    "- ### Choose the `Pelunasan_Kredit` column as the `target` feature."
   ],
   "metadata": {}
  },
  {
   "cell_type": "code",
   "execution_count": 155,
   "source": [
    "# Determine target feature\r\n",
    "y = dataset['Pelunasan_Kredit']\r\n",
    "X = dataset.drop('Pelunasan_Kredit', axis=1)\r\n",
    "\r\n",
    "print(f\"{'-'*40}\\n Dimension of the target: {y.shape}\\n\\tand the features: {X.shape}\\n{'-'*40}\")"
   ],
   "outputs": [
    {
     "output_type": "stream",
     "name": "stdout",
     "text": [
      "----------------------------------------\n",
      " Dimension of the target: (999,)\n",
      "\tand the features: (999, 9)\n",
      "----------------------------------------\n"
     ]
    }
   ],
   "metadata": {}
  },
  {
   "cell_type": "markdown",
   "source": [
    "## Splitting the data\r\n",
    "***\r\n",
    "- ### Dividing the dataset into `training` and `testing` sets with `70%` and `30%` proportion respectively.."
   ],
   "metadata": {}
  },
  {
   "cell_type": "code",
   "execution_count": 156,
   "source": [
    "from sklearn.model_selection import train_test_split\r\n",
    "\r\n",
    "# Split dataset into training and testing set with 70% and 30% proportion respectively.\r\n",
    "X_train, X_test, y_train, y_test = train_test_split(X, y, test_size=0.3, random_state=0)\r\n",
    "\r\n",
    "print(f\"{'*'*45}\\n  The dimension of y_train : {y_train.shape}\\n\\t     \"\r\n",
    "      f\"  and X_train : {X_train.shape}\\n{'-'*45}\\n\"\r\n",
    "      f\"  The dimension of y_test  : {y_test.shape}\\n\\t     \"\r\n",
    "      f\"  and X_test  : {X_test.shape}\\n{'*'*45}\")"
   ],
   "outputs": [
    {
     "output_type": "stream",
     "name": "stdout",
     "text": [
      "*********************************************\n",
      "  The dimension of y_train : (699,)\n",
      "\t       and X_train : (699, 9)\n",
      "---------------------------------------------\n",
      "  The dimension of y_test  : (300,)\n",
      "\t       and X_test  : (300, 9)\n",
      "*********************************************\n"
     ]
    }
   ],
   "metadata": {}
  },
  {
   "cell_type": "markdown",
   "source": [
    "## Scalling the data\r\n",
    "***\r\n",
    "- ### We first need to scale and standardize our dataset so we can apply `PCA` to it.\r\n",
    "- ### I will use `StandarScaler` to do it."
   ],
   "metadata": {}
  },
  {
   "cell_type": "code",
   "execution_count": 157,
   "source": [
    "from sklearn.preprocessing import MinMaxScaler\r\n",
    "\r\n",
    "sc = MinMaxScaler()\r\n",
    "X_train = sc.fit_transform(X_train)\r\n",
    "X_test = sc.transform(X_test)\r\n",
    "\r\n",
    "print(f\"{'*'*75}\\n\\tDimension of the training X after scaling: {X_train.shape}\\n{'-'*75}\\n\"\r\n",
    "      f\"\\t\\t  And the testing X after scaling: {X_test.shape}\\n{'*'*75}\")"
   ],
   "outputs": [
    {
     "output_type": "stream",
     "name": "stdout",
     "text": [
      "***************************************************************************\n",
      "\tDimension of the training X after scaling: (699, 9)\n",
      "---------------------------------------------------------------------------\n",
      "\t\t  And the testing X after scaling: (300, 9)\n",
      "***************************************************************************\n"
     ]
    }
   ],
   "metadata": {}
  },
  {
   "cell_type": "markdown",
   "source": [
    "***\r\n",
    "# **Data Modeling** \r\n",
    "***\r\n",
    "## Applying Support Vector Machines (Kernels)\r\n",
    "- `C parameter`: Controlls trade-off between classifying training points correctly and having a smooth decision boundary.\r\n",
    "    - Small C (loose) makes cost (penalty) of misclassification low (soft margin)\r\n",
    "    - Large C (strict) makes cost of misclassification high (hard margin), forcing the model to explain input data stricter and potentially over it.\r\n",
    "- `gamma parameter`: Controlls how far the influence of a single training set reaches.\r\n",
    "    - Large gamma: close reach (closer data points have high weight)\r\n",
    "    - Small gamma: far reach (more generalized solution)\r\n",
    "- `degree parameter` : Degree of the polynomial kernel function (`'poly'`). Ignored by all other kernels."
   ],
   "metadata": {}
  },
  {
   "cell_type": "code",
   "execution_count": 158,
   "source": [
    "from sklearn.metrics import accuracy_score, classification_report, confusion_matrix, f1_score, precision_score, recall_score\r\n",
    "from sklearn.svm import SVC\r\n",
    "\r\n",
    "def eval_model(clf, X_df, y_df, ln=54):\r\n",
    "    try:\r\n",
    "        clf.fit(X_df,y_df)\r\n",
    "        pred = clf.predict(X_df)\r\n",
    "    finally:\r\n",
    "        print(f\"{'*'*ln}\\nAccuracy Score: {accuracy_score(y_df, pred):.3f}\\n\"\r\n",
    "              f\"{'='*54}\\nClassification Report:\\n{'-'*54}\\n\"\r\n",
    "              f\"{classification_report(y_df, pred, zero_division=1)}\\n\"\r\n",
    "              f\"{'='*54}\\nConfusion Matrix:\\n{'-'*54}\\n{confusion_matrix(y_df, pred)}\\n{'*'*ln}\\n\")\r\n",
    "    "
   ],
   "outputs": [],
   "metadata": {}
  },
  {
   "cell_type": "markdown",
   "source": [
    "## **Linear Kernel SVM**\r\n",
    "****"
   ],
   "metadata": {}
  },
  {
   "cell_type": "code",
   "execution_count": 159,
   "source": [
    "print(f\"\\n:: Linear Kernel SVM {'='*33}\")\r\n",
    "model = SVC(kernel='linear')\r\n",
    "\r\n",
    "eval_model(model, X_train, y_train)"
   ],
   "outputs": [
    {
     "output_type": "stream",
     "name": "stdout",
     "text": [
      "\n",
      ":: Linear Kernel SVM =================================\n",
      "******************************************************\n",
      "Accuracy Score: 0.538\n",
      "======================================================\n",
      "Classification Report:\n",
      "------------------------------------------------------\n",
      "              precision    recall  f1-score   support\n",
      "\n",
      "           0       1.00      0.00      0.00       323\n",
      "           1       0.54      1.00      0.70       376\n",
      "\n",
      "    accuracy                           0.54       699\n",
      "   macro avg       0.77      0.50      0.35       699\n",
      "weighted avg       0.75      0.54      0.38       699\n",
      "\n",
      "======================================================\n",
      "Confusion Matrix:\n",
      "------------------------------------------------------\n",
      "[[  0 323]\n",
      " [  0 376]]\n",
      "******************************************************\n",
      "\n"
     ]
    }
   ],
   "metadata": {}
  },
  {
   "cell_type": "markdown",
   "source": [
    "## **Polynomial Kernel SVM**\r\n",
    "***"
   ],
   "metadata": {}
  },
  {
   "cell_type": "code",
   "execution_count": 160,
   "source": [
    "print(f\"\\n:: Polynomial Kernel SVM {'='*29}\")\r\n",
    "model = SVC(kernel='poly', degree=2, gamma='auto')\r\n",
    "\r\n",
    "eval_model(model, X_train, y_train)"
   ],
   "outputs": [
    {
     "output_type": "stream",
     "name": "stdout",
     "text": [
      "\n",
      ":: Polynomial Kernel SVM =============================\n",
      "******************************************************\n",
      "Accuracy Score: 0.538\n",
      "======================================================\n",
      "Classification Report:\n",
      "------------------------------------------------------\n",
      "              precision    recall  f1-score   support\n",
      "\n",
      "           0       1.00      0.00      0.00       323\n",
      "           1       0.54      1.00      0.70       376\n",
      "\n",
      "    accuracy                           0.54       699\n",
      "   macro avg       0.77      0.50      0.35       699\n",
      "weighted avg       0.75      0.54      0.38       699\n",
      "\n",
      "======================================================\n",
      "Confusion Matrix:\n",
      "------------------------------------------------------\n",
      "[[  0 323]\n",
      " [  0 376]]\n",
      "******************************************************\n",
      "\n"
     ]
    }
   ],
   "metadata": {}
  },
  {
   "cell_type": "markdown",
   "source": [
    "## **Radial Kernel SVM**\r\n",
    "***"
   ],
   "metadata": {}
  },
  {
   "cell_type": "code",
   "execution_count": 161,
   "source": [
    "print(f\"\\n:: Radial Kernel SVM {'='*33}\")\r\n",
    "model = SVC(kernel='rbf', gamma=1)\r\n",
    "\r\n",
    "eval_model(model,X_test, y_test)"
   ],
   "outputs": [
    {
     "output_type": "stream",
     "name": "stdout",
     "text": [
      "\n",
      ":: Radial Kernel SVM =================================\n",
      "******************************************************\n",
      "Accuracy Score: 0.757\n",
      "======================================================\n",
      "Classification Report:\n",
      "------------------------------------------------------\n",
      "              precision    recall  f1-score   support\n",
      "\n",
      "           0       0.77      0.74      0.76       153\n",
      "           1       0.74      0.78      0.76       147\n",
      "\n",
      "    accuracy                           0.76       300\n",
      "   macro avg       0.76      0.76      0.76       300\n",
      "weighted avg       0.76      0.76      0.76       300\n",
      "\n",
      "======================================================\n",
      "Confusion Matrix:\n",
      "------------------------------------------------------\n",
      "[[113  40]\n",
      " [ 33 114]]\n",
      "******************************************************\n",
      "\n"
     ]
    }
   ],
   "metadata": {}
  },
  {
   "cell_type": "markdown",
   "source": [
    "***\r\n",
    "# **Evaluation**\r\n",
    "***\r\n",
    "### Aplying SVM model to testing datasets"
   ],
   "metadata": {}
  },
  {
   "cell_type": "code",
   "execution_count": 162,
   "source": [
    "from sklearn.svm import SVC\r\n",
    "\r\n",
    "print(f\"\\n:: Linear Kernel SVM {'='*33}\")\r\n",
    "model = SVC(kernel='linear')\r\n",
    "\r\n",
    "eval_model(model, X_test, y_test)"
   ],
   "outputs": [
    {
     "output_type": "stream",
     "name": "stdout",
     "text": [
      "\n",
      ":: Linear Kernel SVM =================================\n",
      "******************************************************\n",
      "Accuracy Score: 0.563\n",
      "======================================================\n",
      "Classification Report:\n",
      "------------------------------------------------------\n",
      "              precision    recall  f1-score   support\n",
      "\n",
      "           0       0.57      0.59      0.58       153\n",
      "           1       0.56      0.54      0.55       147\n",
      "\n",
      "    accuracy                           0.56       300\n",
      "   macro avg       0.56      0.56      0.56       300\n",
      "weighted avg       0.56      0.56      0.56       300\n",
      "\n",
      "======================================================\n",
      "Confusion Matrix:\n",
      "------------------------------------------------------\n",
      "[[90 63]\n",
      " [68 79]]\n",
      "******************************************************\n",
      "\n"
     ]
    }
   ],
   "metadata": {}
  },
  {
   "cell_type": "code",
   "execution_count": 163,
   "source": [
    "print(f\"\\n:: Polynomial Kernel SVM {'='*29}\")\r\n",
    "model = SVC(kernel='poly', degree=2, gamma='auto')\r\n",
    "\r\n",
    "eval_model(model, X_test, y_test)"
   ],
   "outputs": [
    {
     "output_type": "stream",
     "name": "stdout",
     "text": [
      "\n",
      ":: Polynomial Kernel SVM =============================\n",
      "******************************************************\n",
      "Accuracy Score: 0.530\n",
      "======================================================\n",
      "Classification Report:\n",
      "------------------------------------------------------\n",
      "              precision    recall  f1-score   support\n",
      "\n",
      "           0       0.52      0.99      0.68       153\n",
      "           1       0.80      0.05      0.10       147\n",
      "\n",
      "    accuracy                           0.53       300\n",
      "   macro avg       0.66      0.52      0.39       300\n",
      "weighted avg       0.66      0.53      0.40       300\n",
      "\n",
      "======================================================\n",
      "Confusion Matrix:\n",
      "------------------------------------------------------\n",
      "[[151   2]\n",
      " [139   8]]\n",
      "******************************************************\n",
      "\n"
     ]
    }
   ],
   "metadata": {}
  },
  {
   "cell_type": "code",
   "execution_count": 164,
   "source": [
    "print(f\"\\n:: Radial Kernel SVM {'='*33}\")\r\n",
    "model = SVC(kernel='rbf', gamma=1)\r\n",
    "\r\n",
    "eval_model(model, X_test, y_test)"
   ],
   "outputs": [
    {
     "output_type": "stream",
     "name": "stdout",
     "text": [
      "\n",
      ":: Radial Kernel SVM =================================\n",
      "******************************************************\n",
      "Accuracy Score: 0.757\n",
      "======================================================\n",
      "Classification Report:\n",
      "------------------------------------------------------\n",
      "              precision    recall  f1-score   support\n",
      "\n",
      "           0       0.77      0.74      0.76       153\n",
      "           1       0.74      0.78      0.76       147\n",
      "\n",
      "    accuracy                           0.76       300\n",
      "   macro avg       0.76      0.76      0.76       300\n",
      "weighted avg       0.76      0.76      0.76       300\n",
      "\n",
      "======================================================\n",
      "Confusion Matrix:\n",
      "------------------------------------------------------\n",
      "[[113  40]\n",
      " [ 33 114]]\n",
      "******************************************************\n",
      "\n"
     ]
    }
   ],
   "metadata": {}
  },
  {
   "cell_type": "markdown",
   "source": [
    "# Support Vector Machine Hyperparameter tuning\r\n",
    "***"
   ],
   "metadata": {}
  },
  {
   "cell_type": "code",
   "execution_count": 165,
   "source": [
    "from sklearn.model_selection import GridSearchCV\r\n",
    "\r\n",
    "param_grid = {'C': [0.01, 0.1, 0.5, 1, 10, 100], \r\n",
    "              'gamma': [1, 0.75, 0.5, 0.25, 0.1, 0.01, 0.001], \r\n",
    "              'kernel': ['rbf', 'poly', 'linear']} \r\n",
    "\r\n",
    "print(\"-\"*80)\r\n",
    "grid = GridSearchCV(SVC(), param_grid, refit=True, verbose=1, cv=5, iid=True)\r\n",
    "\r\n",
    "eval_model(grid, X_train, y_train, 80)\r\n",
    "eval_model(grid, X_test, y_test, 80)"
   ],
   "outputs": [
    {
     "output_type": "stream",
     "name": "stdout",
     "text": [
      "--------------------------------------------------------------------------------\n",
      "Fitting 5 folds for each of 126 candidates, totalling 630 fits\n"
     ]
    },
    {
     "output_type": "stream",
     "name": "stderr",
     "text": [
      "[Parallel(n_jobs=1)]: Using backend SequentialBackend with 1 concurrent workers.\n",
      "[Parallel(n_jobs=1)]: Done 630 out of 630 | elapsed:  8.3min finished\n",
      "[Parallel(n_jobs=1)]: Using backend SequentialBackend with 1 concurrent workers.\n"
     ]
    },
    {
     "output_type": "stream",
     "name": "stdout",
     "text": [
      "********************************************************************************\n",
      "Accuracy Score: 0.641\n",
      "======================================================\n",
      "Classification Report:\n",
      "------------------------------------------------------\n",
      "              precision    recall  f1-score   support\n",
      "\n",
      "           0       0.78      0.31      0.44       323\n",
      "           1       0.61      0.93      0.73       376\n",
      "\n",
      "    accuracy                           0.64       699\n",
      "   macro avg       0.70      0.62      0.59       699\n",
      "weighted avg       0.69      0.64      0.60       699\n",
      "\n",
      "======================================================\n",
      "Confusion Matrix:\n",
      "------------------------------------------------------\n",
      "[[100 223]\n",
      " [ 28 348]]\n",
      "********************************************************************************\n",
      "\n",
      "Fitting 5 folds for each of 126 candidates, totalling 630 fits\n",
      "********************************************************************************\n",
      "Accuracy Score: 0.510\n",
      "======================================================\n",
      "Classification Report:\n",
      "------------------------------------------------------\n",
      "              precision    recall  f1-score   support\n",
      "\n",
      "           0       0.51      1.00      0.68       153\n",
      "           1       1.00      0.00      0.00       147\n",
      "\n",
      "    accuracy                           0.51       300\n",
      "   macro avg       0.76      0.50      0.34       300\n",
      "weighted avg       0.75      0.51      0.34       300\n",
      "\n",
      "======================================================\n",
      "Confusion Matrix:\n",
      "------------------------------------------------------\n",
      "[[153   0]\n",
      " [147   0]]\n",
      "********************************************************************************\n",
      "\n"
     ]
    },
    {
     "output_type": "stream",
     "name": "stderr",
     "text": [
      "[Parallel(n_jobs=1)]: Done 630 out of 630 | elapsed:   30.7s finished\n"
     ]
    }
   ],
   "metadata": {}
  }
 ],
 "metadata": {
  "orig_nbformat": 4,
  "language_info": {
   "name": "python"
  }
 },
 "nbformat": 4,
 "nbformat_minor": 2
}