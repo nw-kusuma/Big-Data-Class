{
 "cells": [
  {
   "cell_type": "markdown",
   "metadata": {},
   "source": [
    "# **Libraries**\r\n",
    "***\r\n",
    "\r\n",
    "Import needed common libraries"
   ]
  },
  {
   "cell_type": "code",
   "execution_count": 6,
   "metadata": {},
   "outputs": [],
   "source": [
    "# import required libraries\r\n",
    "import pandas as pd\r\n",
    "import numpy as np\r\n",
    "\r\n",
    "import matplotlib.pyplot as plt\r\n",
    "%matplotlib inline "
   ]
  },
  {
   "cell_type": "markdown",
   "metadata": {},
   "source": [
    "\r\n",
    "# **Data Understanding**\r\n",
    "***\r\n",
    "\r\n",
    "## **Data Information:**\r\n",
    "I have downloaded a fuel consumption dataset from Canada Open Data repository, [Dataset source](http://open.canada.ca/data/en/dataset/98f1a129-f628-4ce4-b24d-6f16bf24dd64).\r\n",
    "\r\n",
    "Its contains vehicle's fuel consumption ratings and carbon dioxide (CO2) emissions for retail sale in Canada. \r\n",
    "\r\n",
    "## **Understanding the table**\t\r\n",
    "01. **Year:** Vehicle's model year (2021)\r\n",
    "02. **Make:** Vehicle's makes (i.e. brands)\r\n",
    "03. **Model:** 4WD/4X4 = *Four-wheel drive*, AWD = *All-wheel drive*, FFV = *Flexible-fuel vehicle*, SWB = *Short wheelbase*, LWB = *Long wheelbase*, EWB = *Extended wheelbase*\r\n",
    "04. **Class:** Vehicle's classes (i.e. SUV, Van, Pickup, Compact, etc)\r\n",
    "05. **Transmission:** A = *automatic*, AM = *automated manual*, AS = *automatic with select shift*, AV = *continuously variable*, M = *manual*, 3 – 10 = *Number of gears*\r\n",
    "\r\n",
    "06. **Fuel type:** X = *regular gasoline*, Z = *premium gasoline*, D = *diesel*, E = *ethanol (E85)*, N = *natural gas*\r\n",
    "\r\n",
    "07. **Fuel consumption:** *City* and *highway* fuel consumption ratings are shown in litres per 100 kilometres (L/100 km), The combined rating (55% city, 45% hwy) is shown in L/100 km and in miles per imperial gallon (mpg)\r\n",
    "\r\n",
    "08. **CO2 emissions:** The tailpipe emissions of carbon dioxide (in grams per kilometre) for combined city and highway driving\r\n",
    "\r\n",
    "09. **CO2 rating:** The tailpipe emissions of carbon dioxide rated on a scale from 1 (worst) to 10 (best)\r\n",
    "\r\n",
    "10. **Smog rating:** The tailpipe emissions of smog-forming pollutants rated on a scale from 1 (worst) to 10 (best)\r\n",
    "\r\n",
    "## **Load dataset:** \r\n",
    "### `MY2021 Fuel Consumption Ratings.csv`\r\n",
    "######################################################################################################################"
   ]
  },
  {
   "cell_type": "code",
   "execution_count": 7,
   "metadata": {},
   "outputs": [
    {
     "name": "stdout",
     "output_type": "stream",
     "text": [
      "<class 'pandas.core.frame.DataFrame'>\n",
      "RangeIndex: 917 entries, 0 to 916\n",
      "Data columns (total 15 columns):\n",
      " #   Column         Non-Null Count  Dtype  \n",
      "---  ------         --------------  -----  \n",
      " 0   Year           917 non-null    int64  \n",
      " 1   Make           917 non-null    object \n",
      " 2   Model          917 non-null    object \n",
      " 3   Class          917 non-null    object \n",
      " 4   Engine         917 non-null    float64\n",
      " 5   Cylinders      917 non-null    int64  \n",
      " 6   Transmission   917 non-null    object \n",
      " 7   Fuel           917 non-null    object \n",
      " 8   FC_City        917 non-null    float64\n",
      " 9   FC_Highway     917 non-null    float64\n",
      " 10  FC_Comb        917 non-null    float64\n",
      " 11  FC_MPG         917 non-null    int64  \n",
      " 12  CO2_Emissions  917 non-null    int64  \n",
      " 13  CO2_Ratings    917 non-null    int64  \n",
      " 14  Smog_Rating    917 non-null    int64  \n",
      "dtypes: float64(4), int64(6), object(5)\n",
      "memory usage: 107.6+ KB\n"
     ]
    }
   ],
   "source": [
    "df = pd.read_csv(\"../BD00-Datasets/csv-datasets/MY2021-FuelConsumptionRatings.csv\")\r\n",
    "df.info();"
   ]
  },
  {
   "cell_type": "markdown",
   "metadata": {},
   "source": [
    "# **Exploratory Data Analysys (EDA)**\r\n",
    "***\r\n",
    "## **Data Exploration**\r\n",
    "######################################################################################################################"
   ]
  },
  {
   "cell_type": "code",
   "execution_count": 8,
   "metadata": {},
   "outputs": [
    {
     "data": {
      "text/html": [
       "<div>\n",
       "<style scoped>\n",
       "    .dataframe tbody tr th:only-of-type {\n",
       "        vertical-align: middle;\n",
       "    }\n",
       "\n",
       "    .dataframe tbody tr th {\n",
       "        vertical-align: top;\n",
       "    }\n",
       "\n",
       "    .dataframe thead th {\n",
       "        text-align: right;\n",
       "    }\n",
       "</style>\n",
       "<table border=\"1\" class=\"dataframe\">\n",
       "  <thead>\n",
       "    <tr style=\"text-align: right;\">\n",
       "      <th></th>\n",
       "      <th>Year</th>\n",
       "      <th>Make</th>\n",
       "      <th>Model</th>\n",
       "      <th>Class</th>\n",
       "      <th>Engine</th>\n",
       "      <th>Cylinders</th>\n",
       "      <th>Transmission</th>\n",
       "      <th>Fuel</th>\n",
       "      <th>FC_City</th>\n",
       "      <th>FC_Highway</th>\n",
       "      <th>FC_Comb</th>\n",
       "      <th>FC_MPG</th>\n",
       "      <th>CO2_Emissions</th>\n",
       "      <th>CO2_Ratings</th>\n",
       "      <th>Smog_Rating</th>\n",
       "    </tr>\n",
       "  </thead>\n",
       "  <tbody>\n",
       "    <tr>\n",
       "      <th>0</th>\n",
       "      <td>2021</td>\n",
       "      <td>Acura</td>\n",
       "      <td>ILX</td>\n",
       "      <td>Compact</td>\n",
       "      <td>2.4</td>\n",
       "      <td>4</td>\n",
       "      <td>AM8</td>\n",
       "      <td>Z</td>\n",
       "      <td>9.9</td>\n",
       "      <td>7.0</td>\n",
       "      <td>8.6</td>\n",
       "      <td>33</td>\n",
       "      <td>199</td>\n",
       "      <td>6</td>\n",
       "      <td>3</td>\n",
       "    </tr>\n",
       "    <tr>\n",
       "      <th>1</th>\n",
       "      <td>2021</td>\n",
       "      <td>Acura</td>\n",
       "      <td>NSX</td>\n",
       "      <td>Two-seater</td>\n",
       "      <td>3.5</td>\n",
       "      <td>6</td>\n",
       "      <td>AM9</td>\n",
       "      <td>Z</td>\n",
       "      <td>11.1</td>\n",
       "      <td>10.8</td>\n",
       "      <td>11.0</td>\n",
       "      <td>26</td>\n",
       "      <td>256</td>\n",
       "      <td>4</td>\n",
       "      <td>3</td>\n",
       "    </tr>\n",
       "    <tr>\n",
       "      <th>2</th>\n",
       "      <td>2021</td>\n",
       "      <td>Acura</td>\n",
       "      <td>RDX SH-AWD</td>\n",
       "      <td>SUV: Small</td>\n",
       "      <td>2.0</td>\n",
       "      <td>4</td>\n",
       "      <td>AS10</td>\n",
       "      <td>Z</td>\n",
       "      <td>11.0</td>\n",
       "      <td>8.6</td>\n",
       "      <td>9.9</td>\n",
       "      <td>29</td>\n",
       "      <td>232</td>\n",
       "      <td>5</td>\n",
       "      <td>6</td>\n",
       "    </tr>\n",
       "    <tr>\n",
       "      <th>3</th>\n",
       "      <td>2021</td>\n",
       "      <td>Acura</td>\n",
       "      <td>RDX SH-AWD A-SPEC</td>\n",
       "      <td>SUV: Small</td>\n",
       "      <td>2.0</td>\n",
       "      <td>4</td>\n",
       "      <td>AS10</td>\n",
       "      <td>Z</td>\n",
       "      <td>11.3</td>\n",
       "      <td>9.1</td>\n",
       "      <td>10.3</td>\n",
       "      <td>27</td>\n",
       "      <td>242</td>\n",
       "      <td>5</td>\n",
       "      <td>6</td>\n",
       "    </tr>\n",
       "    <tr>\n",
       "      <th>4</th>\n",
       "      <td>2021</td>\n",
       "      <td>Acura</td>\n",
       "      <td>TLX SH-AWD</td>\n",
       "      <td>Compact</td>\n",
       "      <td>2.0</td>\n",
       "      <td>4</td>\n",
       "      <td>AS10</td>\n",
       "      <td>Z</td>\n",
       "      <td>11.2</td>\n",
       "      <td>8.0</td>\n",
       "      <td>9.8</td>\n",
       "      <td>29</td>\n",
       "      <td>230</td>\n",
       "      <td>5</td>\n",
       "      <td>7</td>\n",
       "    </tr>\n",
       "  </tbody>\n",
       "</table>\n",
       "</div>"
      ],
      "text/plain": [
       "   Year   Make              Model       Class  Engine  Cylinders Transmission  \\\n",
       "0  2021  Acura                ILX     Compact     2.4          4          AM8   \n",
       "1  2021  Acura                NSX  Two-seater     3.5          6          AM9   \n",
       "2  2021  Acura         RDX SH-AWD  SUV: Small     2.0          4         AS10   \n",
       "3  2021  Acura  RDX SH-AWD A-SPEC  SUV: Small     2.0          4         AS10   \n",
       "4  2021  Acura         TLX SH-AWD     Compact     2.0          4         AS10   \n",
       "\n",
       "  Fuel  FC_City  FC_Highway  FC_Comb  FC_MPG  CO2_Emissions  CO2_Ratings  \\\n",
       "0    Z      9.9         7.0      8.6      33            199            6   \n",
       "1    Z     11.1        10.8     11.0      26            256            4   \n",
       "2    Z     11.0         8.6      9.9      29            232            5   \n",
       "3    Z     11.3         9.1     10.3      27            242            5   \n",
       "4    Z     11.2         8.0      9.8      29            230            5   \n",
       "\n",
       "   Smog_Rating  \n",
       "0            3  \n",
       "1            3  \n",
       "2            6  \n",
       "3            6  \n",
       "4            7  "
      ]
     },
     "execution_count": 8,
     "metadata": {},
     "output_type": "execute_result"
    }
   ],
   "source": [
    "df.head()"
   ]
  },
  {
   "cell_type": "code",
   "execution_count": 9,
   "metadata": {},
   "outputs": [
    {
     "data": {
      "text/plain": [
       "Year               1\n",
       "Make              38\n",
       "Model            690\n",
       "Class             15\n",
       "Engine            37\n",
       "Cylinders          8\n",
       "Transmission      23\n",
       "Fuel               4\n",
       "FC_City          145\n",
       "FC_Highway       108\n",
       "FC_Comb          129\n",
       "FC_MPG            49\n",
       "CO2_Emissions    235\n",
       "CO2_Ratings       10\n",
       "Smog_Rating        5\n",
       "dtype: int64"
      ]
     },
     "execution_count": 9,
     "metadata": {},
     "output_type": "execute_result"
    }
   ],
   "source": [
    "df.nunique()"
   ]
  },
  {
   "cell_type": "code",
   "execution_count": 10,
   "metadata": {},
   "outputs": [
    {
     "data": {
      "text/html": [
       "<div>\n",
       "<style scoped>\n",
       "    .dataframe tbody tr th:only-of-type {\n",
       "        vertical-align: middle;\n",
       "    }\n",
       "\n",
       "    .dataframe tbody tr th {\n",
       "        vertical-align: top;\n",
       "    }\n",
       "\n",
       "    .dataframe thead th {\n",
       "        text-align: right;\n",
       "    }\n",
       "</style>\n",
       "<table border=\"1\" class=\"dataframe\">\n",
       "  <thead>\n",
       "    <tr style=\"text-align: right;\">\n",
       "      <th></th>\n",
       "      <th>count</th>\n",
       "      <th>mean</th>\n",
       "      <th>std</th>\n",
       "      <th>min</th>\n",
       "      <th>25%</th>\n",
       "      <th>50%</th>\n",
       "      <th>75%</th>\n",
       "      <th>max</th>\n",
       "    </tr>\n",
       "  </thead>\n",
       "  <tbody>\n",
       "    <tr>\n",
       "      <th>Year</th>\n",
       "      <td>917.0</td>\n",
       "      <td>2021.000000</td>\n",
       "      <td>0.000000</td>\n",
       "      <td>2021.0</td>\n",
       "      <td>2021.0</td>\n",
       "      <td>2021.0</td>\n",
       "      <td>2021.0</td>\n",
       "      <td>2021.0</td>\n",
       "    </tr>\n",
       "    <tr>\n",
       "      <th>Engine</th>\n",
       "      <td>917.0</td>\n",
       "      <td>3.199891</td>\n",
       "      <td>1.393470</td>\n",
       "      <td>1.0</td>\n",
       "      <td>2.0</td>\n",
       "      <td>3.0</td>\n",
       "      <td>4.0</td>\n",
       "      <td>8.0</td>\n",
       "    </tr>\n",
       "    <tr>\n",
       "      <th>Cylinders</th>\n",
       "      <td>917.0</td>\n",
       "      <td>5.693566</td>\n",
       "      <td>1.984903</td>\n",
       "      <td>3.0</td>\n",
       "      <td>4.0</td>\n",
       "      <td>6.0</td>\n",
       "      <td>8.0</td>\n",
       "      <td>16.0</td>\n",
       "    </tr>\n",
       "    <tr>\n",
       "      <th>FC_City</th>\n",
       "      <td>917.0</td>\n",
       "      <td>12.440785</td>\n",
       "      <td>3.480676</td>\n",
       "      <td>4.0</td>\n",
       "      <td>10.1</td>\n",
       "      <td>12.0</td>\n",
       "      <td>14.7</td>\n",
       "      <td>30.3</td>\n",
       "    </tr>\n",
       "    <tr>\n",
       "      <th>FC_Highway</th>\n",
       "      <td>917.0</td>\n",
       "      <td>9.258670</td>\n",
       "      <td>2.195719</td>\n",
       "      <td>3.9</td>\n",
       "      <td>7.7</td>\n",
       "      <td>9.0</td>\n",
       "      <td>10.7</td>\n",
       "      <td>20.9</td>\n",
       "    </tr>\n",
       "    <tr>\n",
       "      <th>FC_Comb</th>\n",
       "      <td>917.0</td>\n",
       "      <td>11.006652</td>\n",
       "      <td>2.856344</td>\n",
       "      <td>4.0</td>\n",
       "      <td>9.1</td>\n",
       "      <td>10.6</td>\n",
       "      <td>12.9</td>\n",
       "      <td>26.1</td>\n",
       "    </tr>\n",
       "    <tr>\n",
       "      <th>FC_MPG</th>\n",
       "      <td>917.0</td>\n",
       "      <td>27.471101</td>\n",
       "      <td>7.741913</td>\n",
       "      <td>11.0</td>\n",
       "      <td>22.0</td>\n",
       "      <td>27.0</td>\n",
       "      <td>31.0</td>\n",
       "      <td>71.0</td>\n",
       "    </tr>\n",
       "    <tr>\n",
       "      <th>CO2_Emissions</th>\n",
       "      <td>917.0</td>\n",
       "      <td>257.516903</td>\n",
       "      <td>64.491587</td>\n",
       "      <td>94.0</td>\n",
       "      <td>212.0</td>\n",
       "      <td>253.0</td>\n",
       "      <td>301.0</td>\n",
       "      <td>608.0</td>\n",
       "    </tr>\n",
       "    <tr>\n",
       "      <th>CO2_Ratings</th>\n",
       "      <td>917.0</td>\n",
       "      <td>4.383860</td>\n",
       "      <td>1.643726</td>\n",
       "      <td>1.0</td>\n",
       "      <td>3.0</td>\n",
       "      <td>4.0</td>\n",
       "      <td>5.0</td>\n",
       "      <td>10.0</td>\n",
       "    </tr>\n",
       "    <tr>\n",
       "      <th>Smog_Rating</th>\n",
       "      <td>917.0</td>\n",
       "      <td>4.709924</td>\n",
       "      <td>1.720300</td>\n",
       "      <td>1.0</td>\n",
       "      <td>3.0</td>\n",
       "      <td>5.0</td>\n",
       "      <td>6.0</td>\n",
       "      <td>7.0</td>\n",
       "    </tr>\n",
       "  </tbody>\n",
       "</table>\n",
       "</div>"
      ],
      "text/plain": [
       "               count         mean        std     min     25%     50%     75%  \\\n",
       "Year           917.0  2021.000000   0.000000  2021.0  2021.0  2021.0  2021.0   \n",
       "Engine         917.0     3.199891   1.393470     1.0     2.0     3.0     4.0   \n",
       "Cylinders      917.0     5.693566   1.984903     3.0     4.0     6.0     8.0   \n",
       "FC_City        917.0    12.440785   3.480676     4.0    10.1    12.0    14.7   \n",
       "FC_Highway     917.0     9.258670   2.195719     3.9     7.7     9.0    10.7   \n",
       "FC_Comb        917.0    11.006652   2.856344     4.0     9.1    10.6    12.9   \n",
       "FC_MPG         917.0    27.471101   7.741913    11.0    22.0    27.0    31.0   \n",
       "CO2_Emissions  917.0   257.516903  64.491587    94.0   212.0   253.0   301.0   \n",
       "CO2_Ratings    917.0     4.383860   1.643726     1.0     3.0     4.0     5.0   \n",
       "Smog_Rating    917.0     4.709924   1.720300     1.0     3.0     5.0     6.0   \n",
       "\n",
       "                  max  \n",
       "Year           2021.0  \n",
       "Engine            8.0  \n",
       "Cylinders        16.0  \n",
       "FC_City          30.3  \n",
       "FC_Highway       20.9  \n",
       "FC_Comb          26.1  \n",
       "FC_MPG           71.0  \n",
       "CO2_Emissions   608.0  \n",
       "CO2_Ratings      10.0  \n",
       "Smog_Rating       7.0  "
      ]
     },
     "execution_count": 10,
     "metadata": {},
     "output_type": "execute_result"
    }
   ],
   "source": [
    "df.describe().T"
   ]
  },
  {
   "cell_type": "code",
   "execution_count": 11,
   "metadata": {},
   "outputs": [
    {
     "data": {
      "text/plain": [
       "Year             0\n",
       "Make             0\n",
       "Model            0\n",
       "Class            0\n",
       "Engine           0\n",
       "Cylinders        0\n",
       "Transmission     0\n",
       "Fuel             0\n",
       "FC_City          0\n",
       "FC_Highway       0\n",
       "FC_Comb          0\n",
       "FC_MPG           0\n",
       "CO2_Emissions    0\n",
       "CO2_Ratings      0\n",
       "Smog_Rating      0\n",
       "dtype: int64"
      ]
     },
     "execution_count": 11,
     "metadata": {},
     "output_type": "execute_result"
    }
   ],
   "source": [
    "df.isnull().sum()"
   ]
  },
  {
   "cell_type": "markdown",
   "metadata": {},
   "source": [
    "# **Data Preparation**\r\n",
    "***\r\n",
    "## **Outliers Analysis:** Continuous features check\r\n",
    "######################################################################################################################\r\n"
   ]
  },
  {
   "cell_type": "code",
   "execution_count": 12,
   "metadata": {},
   "outputs": [
    {
     "data": {
      "image/png": "[encoded data removed]",
      "text/plain": [
       "<Figure size 1260x360 with 5 Axes>"
      ]
     },
     "metadata": {
      "needs_background": "light"
     },
     "output_type": "display_data"
    }
   ],
   "source": [
    "import seaborn as sns\r\n",
    "\r\n",
    "#sns.pairplot(df, x_vars= ['Make', 'Model', 'Class', 'Engine', 'Cylinders', 'Transmission', 'Fuel', 'FC_City', 'FC_Highway', 'CO2_Emissions'], \r\n",
    "sns.pairplot(df, x_vars= ['Year', 'Engine', 'Cylinders', 'FC_City', 'FC_Highway'], \r\n",
    "                 y_vars='FC_Comb', height=5, aspect=0.7, kind='scatter');"
   ]
  },
  {
   "cell_type": "code",
   "execution_count": 13,
   "metadata": {},
   "outputs": [
    {
     "name": "stdout",
     "output_type": "stream",
     "text": [
      "0.9016775399289725\n"
     ]
    },
    {
     "data": {
      "image/png": "[encoded data removed]",
      "text/plain": [
       "<Figure size 432x288 with 1 Axes>"
      ]
     },
     "metadata": {
      "needs_background": "light"
     },
     "output_type": "display_data"
    }
   ],
   "source": [
    "print(df['Engine'].skew())\r\n",
    "sns.boxplot(x=\"Engine\", data=df);"
   ]
  },
  {
   "cell_type": "code",
   "execution_count": 14,
   "metadata": {},
   "outputs": [
    {
     "name": "stdout",
     "output_type": "stream",
     "text": [
      "1.1596844006115434\n"
     ]
    },
    {
     "data": {
      "image/png": "[encoded data removed]",
      "text/plain": [
       "<Figure size 432x288 with 1 Axes>"
      ]
     },
     "metadata": {
      "needs_background": "light"
     },
     "output_type": "display_data"
    }
   ],
   "source": [
    "print(df['Cylinders'].skew())\r\n",
    "sns.boxplot(x=\"Cylinders\", data=df);"
   ]
  },
  {
   "cell_type": "code",
   "execution_count": 15,
   "metadata": {},
   "outputs": [
    {
     "name": "stdout",
     "output_type": "stream",
     "text": [
      "0.7843363143675736\n"
     ]
    },
    {
     "data": {
      "image/png": "[encoded data removed]",
      "text/plain": [
       "<Figure size 432x288 with 1 Axes>"
      ]
     },
     "metadata": {
      "needs_background": "light"
     },
     "output_type": "display_data"
    }
   ],
   "source": [
    "print(df['FC_City'].skew())\r\n",
    "sns.boxplot(x=\"FC_City\", data=df);"
   ]
  },
  {
   "cell_type": "code",
   "execution_count": 16,
   "metadata": {},
   "outputs": [
    {
     "name": "stdout",
     "output_type": "stream",
     "text": [
      "0.6880410919709732\n"
     ]
    },
    {
     "data": {
      "image/png": "[encoded data removed]",
      "text/plain": [
       "<Figure size 432x288 with 1 Axes>"
      ]
     },
     "metadata": {
      "needs_background": "light"
     },
     "output_type": "display_data"
    }
   ],
   "source": [
    "print(df['FC_Highway'].skew())\r\n",
    "sns.boxplot(x=\"FC_Highway\", data=df);"
   ]
  },
  {
   "cell_type": "code",
   "execution_count": 17,
   "metadata": {},
   "outputs": [
    {
     "name": "stdout",
     "output_type": "stream",
     "text": [
      "0.582423719012515\n"
     ]
    },
    {
     "data": {
      "image/png": "[encoded data removed]",
      "text/plain": [
       "<Figure size 432x288 with 1 Axes>"
      ]
     },
     "metadata": {
      "needs_background": "light"
     },
     "output_type": "display_data"
    }
   ],
   "source": [
    "print(df['CO2_Emissions'].skew())\r\n",
    "sns.boxplot(x=\"CO2_Emissions\", data=df);"
   ]
  },
  {
   "cell_type": "markdown",
   "metadata": {},
   "source": [
    "### **Removing outliers**\r\n",
    "######################################################################################################################"
   ]
  },
  {
   "cell_type": "code",
   "execution_count": 18,
   "metadata": {},
   "outputs": [
    {
     "name": "stdout",
     "output_type": "stream",
     "text": [
      "Engine\n",
      "Min: -1.0\n",
      "Max: 7.0\n",
      "\n",
      "Cylinders\n",
      "Min: -2.0\n",
      "Max: 14.0\n",
      "\n",
      "FC_City\n",
      "Min: 3.2\n",
      "Max: 21.599999999999998\n",
      "\n",
      "FC_Highway\n",
      "Min: 3.3500000000000005\n",
      "Max: 14.95\n",
      "\n"
     ]
    }
   ],
   "source": [
    "#cdf = ['Engine','Cylinders','FC_City','FC_Highway','FC_Comb','FC_MPG']\r\n",
    "cdf = ['Engine','Cylinders','FC_City','FC_Highway']\r\n",
    "for i in cdf:\r\n",
    "    print(i)\r\n",
    "    q75, q25 = np.percentile(df.loc[:,i], [75 ,25])\r\n",
    "    iqr = q75 - q25\r\n",
    "\r\n",
    "    min = q25 - (iqr*1.5)\r\n",
    "    max = q75 + (iqr*1.5)\r\n",
    "    print(F\"Min: {min}\")\r\n",
    "    print(f\"Max: {max}\\n\")\r\n",
    "    \r\n",
    "    df = df.drop(df[df.loc[:,i] < min].index)\r\n",
    "    df = df.drop(df[df.loc[:,i] > max].index)"
   ]
  },
  {
   "cell_type": "code",
   "execution_count": 19,
   "metadata": {},
   "outputs": [
    {
     "data": {
      "text/html": [
       "<div>\n",
       "<style scoped>\n",
       "    .dataframe tbody tr th:only-of-type {\n",
       "        vertical-align: middle;\n",
       "    }\n",
       "\n",
       "    .dataframe tbody tr th {\n",
       "        vertical-align: top;\n",
       "    }\n",
       "\n",
       "    .dataframe thead th {\n",
       "        text-align: right;\n",
       "    }\n",
       "</style>\n",
       "<table border=\"1\" class=\"dataframe\">\n",
       "  <thead>\n",
       "    <tr style=\"text-align: right;\">\n",
       "      <th></th>\n",
       "      <th>Year</th>\n",
       "      <th>Make</th>\n",
       "      <th>Model</th>\n",
       "      <th>Class</th>\n",
       "      <th>Engine</th>\n",
       "      <th>Cylinders</th>\n",
       "      <th>Transmission</th>\n",
       "      <th>Fuel</th>\n",
       "      <th>FC_City</th>\n",
       "      <th>FC_Highway</th>\n",
       "      <th>FC_Comb</th>\n",
       "      <th>FC_MPG</th>\n",
       "      <th>CO2_Emissions</th>\n",
       "      <th>CO2_Ratings</th>\n",
       "      <th>Smog_Rating</th>\n",
       "    </tr>\n",
       "  </thead>\n",
       "  <tbody>\n",
       "    <tr>\n",
       "      <th>0</th>\n",
       "      <td>2021</td>\n",
       "      <td>Acura</td>\n",
       "      <td>ILX</td>\n",
       "      <td>Compact</td>\n",
       "      <td>2.4</td>\n",
       "      <td>4</td>\n",
       "      <td>AM8</td>\n",
       "      <td>Z</td>\n",
       "      <td>9.9</td>\n",
       "      <td>7.0</td>\n",
       "      <td>8.6</td>\n",
       "      <td>33</td>\n",
       "      <td>199</td>\n",
       "      <td>6</td>\n",
       "      <td>3</td>\n",
       "    </tr>\n",
       "    <tr>\n",
       "      <th>1</th>\n",
       "      <td>2021</td>\n",
       "      <td>Acura</td>\n",
       "      <td>NSX</td>\n",
       "      <td>Two-seater</td>\n",
       "      <td>3.5</td>\n",
       "      <td>6</td>\n",
       "      <td>AM9</td>\n",
       "      <td>Z</td>\n",
       "      <td>11.1</td>\n",
       "      <td>10.8</td>\n",
       "      <td>11.0</td>\n",
       "      <td>26</td>\n",
       "      <td>256</td>\n",
       "      <td>4</td>\n",
       "      <td>3</td>\n",
       "    </tr>\n",
       "    <tr>\n",
       "      <th>2</th>\n",
       "      <td>2021</td>\n",
       "      <td>Acura</td>\n",
       "      <td>RDX SH-AWD</td>\n",
       "      <td>SUV: Small</td>\n",
       "      <td>2.0</td>\n",
       "      <td>4</td>\n",
       "      <td>AS10</td>\n",
       "      <td>Z</td>\n",
       "      <td>11.0</td>\n",
       "      <td>8.6</td>\n",
       "      <td>9.9</td>\n",
       "      <td>29</td>\n",
       "      <td>232</td>\n",
       "      <td>5</td>\n",
       "      <td>6</td>\n",
       "    </tr>\n",
       "    <tr>\n",
       "      <th>3</th>\n",
       "      <td>2021</td>\n",
       "      <td>Acura</td>\n",
       "      <td>RDX SH-AWD A-SPEC</td>\n",
       "      <td>SUV: Small</td>\n",
       "      <td>2.0</td>\n",
       "      <td>4</td>\n",
       "      <td>AS10</td>\n",
       "      <td>Z</td>\n",
       "      <td>11.3</td>\n",
       "      <td>9.1</td>\n",
       "      <td>10.3</td>\n",
       "      <td>27</td>\n",
       "      <td>242</td>\n",
       "      <td>5</td>\n",
       "      <td>6</td>\n",
       "    </tr>\n",
       "    <tr>\n",
       "      <th>4</th>\n",
       "      <td>2021</td>\n",
       "      <td>Acura</td>\n",
       "      <td>TLX SH-AWD</td>\n",
       "      <td>Compact</td>\n",
       "      <td>2.0</td>\n",
       "      <td>4</td>\n",
       "      <td>AS10</td>\n",
       "      <td>Z</td>\n",
       "      <td>11.2</td>\n",
       "      <td>8.0</td>\n",
       "      <td>9.8</td>\n",
       "      <td>29</td>\n",
       "      <td>230</td>\n",
       "      <td>5</td>\n",
       "      <td>7</td>\n",
       "    </tr>\n",
       "  </tbody>\n",
       "</table>\n",
       "</div>"
      ],
      "text/plain": [
       "   Year   Make              Model       Class  Engine  Cylinders Transmission  \\\n",
       "0  2021  Acura                ILX     Compact     2.4          4          AM8   \n",
       "1  2021  Acura                NSX  Two-seater     3.5          6          AM9   \n",
       "2  2021  Acura         RDX SH-AWD  SUV: Small     2.0          4         AS10   \n",
       "3  2021  Acura  RDX SH-AWD A-SPEC  SUV: Small     2.0          4         AS10   \n",
       "4  2021  Acura         TLX SH-AWD     Compact     2.0          4         AS10   \n",
       "\n",
       "  Fuel  FC_City  FC_Highway  FC_Comb  FC_MPG  CO2_Emissions  CO2_Ratings  \\\n",
       "0    Z      9.9         7.0      8.6      33            199            6   \n",
       "1    Z     11.1        10.8     11.0      26            256            4   \n",
       "2    Z     11.0         8.6      9.9      29            232            5   \n",
       "3    Z     11.3         9.1     10.3      27            242            5   \n",
       "4    Z     11.2         8.0      9.8      29            230            5   \n",
       "\n",
       "   Smog_Rating  \n",
       "0            3  \n",
       "1            3  \n",
       "2            6  \n",
       "3            6  \n",
       "4            7  "
      ]
     },
     "execution_count": 19,
     "metadata": {},
     "output_type": "execute_result"
    }
   ],
   "source": [
    "df.head()"
   ]
  },
  {
   "cell_type": "markdown",
   "metadata": {},
   "source": [
    "### **Correlation analysis**\r\n",
    "######################################################################################################################"
   ]
  },
  {
   "cell_type": "code",
   "execution_count": 20,
   "metadata": {},
   "outputs": [
    {
     "name": "stdout",
     "output_type": "stream",
     "text": [
      "              Engine  Cylinders   FC_City  FC_Highway\n",
      "Engine      1.000000   0.917130  0.837016    0.749184\n",
      "Cylinders   0.917130   1.000000  0.838298    0.738917\n",
      "FC_City     0.837016   0.838298  1.000000    0.919517\n",
      "FC_Highway  0.749184   0.738917  0.919517    1.000000\n"
     ]
    },
    {
     "data": {
      "image/png": "[encoded data removed]",
      "text/plain": [
       "<Figure size 504x360 with 2 Axes>"
      ]
     },
     "metadata": {
      "needs_background": "light"
     },
     "output_type": "display_data"
    }
   ],
   "source": [
    "df_corr = df.loc[:,cdf]\r\n",
    "#Set the width and hieght of the plot\r\n",
    "f, ax = plt.subplots(figsize=(7, 5))\r\n",
    "\r\n",
    "#Generate correlation matrix\r\n",
    "corr = df_corr.corr()\r\n",
    "\r\n",
    "#Plot using seaborn library\r\n",
    "sns.heatmap(corr, mask=np.zeros_like(corr, dtype=bool), cmap=sns.diverging_palette(220, 10, as_cmap=True),\r\n",
    "            square=True, ax=ax, annot=True)\r\n",
    "print(corr)"
   ]
  },
  {
   "cell_type": "markdown",
   "metadata": {},
   "source": [
    "### **Dropping unneeded columns**\r\n",
    "######################################################################################################################"
   ]
  },
  {
   "cell_type": "code",
   "execution_count": 21,
   "metadata": {},
   "outputs": [
    {
     "data": {
      "text/html": [
       "<div>\n",
       "<style scoped>\n",
       "    .dataframe tbody tr th:only-of-type {\n",
       "        vertical-align: middle;\n",
       "    }\n",
       "\n",
       "    .dataframe tbody tr th {\n",
       "        vertical-align: top;\n",
       "    }\n",
       "\n",
       "    .dataframe thead th {\n",
       "        text-align: right;\n",
       "    }\n",
       "</style>\n",
       "<table border=\"1\" class=\"dataframe\">\n",
       "  <thead>\n",
       "    <tr style=\"text-align: right;\">\n",
       "      <th></th>\n",
       "      <th>Make</th>\n",
       "      <th>Class</th>\n",
       "      <th>Engine</th>\n",
       "      <th>Cylinders</th>\n",
       "      <th>Transmission</th>\n",
       "      <th>Fuel</th>\n",
       "      <th>FC_City</th>\n",
       "      <th>FC_Highway</th>\n",
       "      <th>FC_Comb</th>\n",
       "    </tr>\n",
       "  </thead>\n",
       "  <tbody>\n",
       "    <tr>\n",
       "      <th>0</th>\n",
       "      <td>Acura</td>\n",
       "      <td>Compact</td>\n",
       "      <td>2.4</td>\n",
       "      <td>4</td>\n",
       "      <td>AM8</td>\n",
       "      <td>Z</td>\n",
       "      <td>9.9</td>\n",
       "      <td>7.0</td>\n",
       "      <td>8.6</td>\n",
       "    </tr>\n",
       "    <tr>\n",
       "      <th>1</th>\n",
       "      <td>Acura</td>\n",
       "      <td>Two-seater</td>\n",
       "      <td>3.5</td>\n",
       "      <td>6</td>\n",
       "      <td>AM9</td>\n",
       "      <td>Z</td>\n",
       "      <td>11.1</td>\n",
       "      <td>10.8</td>\n",
       "      <td>11.0</td>\n",
       "    </tr>\n",
       "    <tr>\n",
       "      <th>2</th>\n",
       "      <td>Acura</td>\n",
       "      <td>SUV: Small</td>\n",
       "      <td>2.0</td>\n",
       "      <td>4</td>\n",
       "      <td>AS10</td>\n",
       "      <td>Z</td>\n",
       "      <td>11.0</td>\n",
       "      <td>8.6</td>\n",
       "      <td>9.9</td>\n",
       "    </tr>\n",
       "    <tr>\n",
       "      <th>3</th>\n",
       "      <td>Acura</td>\n",
       "      <td>SUV: Small</td>\n",
       "      <td>2.0</td>\n",
       "      <td>4</td>\n",
       "      <td>AS10</td>\n",
       "      <td>Z</td>\n",
       "      <td>11.3</td>\n",
       "      <td>9.1</td>\n",
       "      <td>10.3</td>\n",
       "    </tr>\n",
       "    <tr>\n",
       "      <th>4</th>\n",
       "      <td>Acura</td>\n",
       "      <td>Compact</td>\n",
       "      <td>2.0</td>\n",
       "      <td>4</td>\n",
       "      <td>AS10</td>\n",
       "      <td>Z</td>\n",
       "      <td>11.2</td>\n",
       "      <td>8.0</td>\n",
       "      <td>9.8</td>\n",
       "    </tr>\n",
       "  </tbody>\n",
       "</table>\n",
       "</div>"
      ],
      "text/plain": [
       "    Make       Class  Engine  Cylinders Transmission Fuel  FC_City  \\\n",
       "0  Acura     Compact     2.4          4          AM8    Z      9.9   \n",
       "1  Acura  Two-seater     3.5          6          AM9    Z     11.1   \n",
       "2  Acura  SUV: Small     2.0          4         AS10    Z     11.0   \n",
       "3  Acura  SUV: Small     2.0          4         AS10    Z     11.3   \n",
       "4  Acura     Compact     2.0          4         AS10    Z     11.2   \n",
       "\n",
       "   FC_Highway  FC_Comb  \n",
       "0         7.0      8.6  \n",
       "1        10.8     11.0  \n",
       "2         8.6      9.9  \n",
       "3         9.1     10.3  \n",
       "4         8.0      9.8  "
      ]
     },
     "execution_count": 21,
     "metadata": {},
     "output_type": "execute_result"
    }
   ],
   "source": [
    "#df = df.drop(['Year','Make','Model','FC_MPG'], axis=1)\r\n",
    "df = df.drop(['Year', 'Model', 'FC_MPG', 'CO2_Emissions', 'CO2_Ratings', 'Smog_Rating'], axis=1)\r\n",
    "df.head()"
   ]
  },
  {
   "cell_type": "markdown",
   "metadata": {},
   "source": [
    "## **Categorical features check**\r\n",
    "######################################################################################################################"
   ]
  },
  {
   "cell_type": "code",
   "execution_count": 22,
   "metadata": {},
   "outputs": [],
   "source": [
    "# Helper procedure for displaying bar plot\r\n",
    "def b_plot(data=None, col=None):\r\n",
    "    df_count = data[col].value_counts()\r\n",
    "    sns.set(style=\"darkgrid\")\r\n",
    "    sns.barplot(x=df_count.index, y=df_count.values, alpha=.9)\r\n",
    "    if (col=='Class' or col=='Make'):\r\n",
    "        label = f\"Vehicle {col}\"\r\n",
    "    elif (col=='Fuel' or col=='Model'):\r\n",
    "        label = f\"{col} Type\"\r\n",
    "    else: label = col\r\n",
    "    \r\n",
    "    plt.title(f\"Frequency Distribution of {label}\")\r\n",
    "    plt.ylabel('Number of Occurrences', fontsize=12)\r\n",
    "    plt.xlabel(label, fontsize=12)\r\n",
    "    plt.show()"
   ]
  },
  {
   "cell_type": "code",
   "execution_count": 23,
   "metadata": {},
   "outputs": [
    {
     "data": {
      "image/png": "[encoded data removed]",
      "text/plain": [
       "<Figure size 432x288 with 1 Axes>"
      ]
     },
     "metadata": {},
     "output_type": "display_data"
    }
   ],
   "source": [
    "b_plot(df, 'Make')"
   ]
  },
  {
   "cell_type": "code",
   "execution_count": 24,
   "metadata": {},
   "outputs": [
    {
     "data": {
      "image/png": "[encoded data removed]",
      "text/plain": [
       "<Figure size 432x288 with 1 Axes>"
      ]
     },
     "metadata": {},
     "output_type": "display_data"
    }
   ],
   "source": [
    "b_plot(df, 'Class')"
   ]
  },
  {
   "cell_type": "code",
   "execution_count": 25,
   "metadata": {},
   "outputs": [
    {
     "data": {
      "image/png": "[encoded data removed]",
      "text/plain": [
       "<Figure size 432x288 with 1 Axes>"
      ]
     },
     "metadata": {},
     "output_type": "display_data"
    }
   ],
   "source": [
    "b_plot(df, 'Transmission')"
   ]
  },
  {
   "cell_type": "code",
   "execution_count": 26,
   "metadata": {},
   "outputs": [
    {
     "data": {
      "image/png": "[encoded data removed]",
      "text/plain": [
       "<Figure size 432x288 with 1 Axes>"
      ]
     },
     "metadata": {},
     "output_type": "display_data"
    }
   ],
   "source": [
    "b_plot(df, 'Fuel')"
   ]
  },
  {
   "cell_type": "markdown",
   "metadata": {},
   "source": [
    "### **Analysis of Variance (ANOVA)** of categorical features with linearOLS model\r\n",
    "######################################################################################################################"
   ]
  },
  {
   "cell_type": "code",
   "execution_count": 77,
   "metadata": {},
   "outputs": [
    {
     "data": {
      "application/vnd.code.notebook.stdout": [
       "ANOVA result of model's total variation, degree of freedom,\n",
       "and F-Stats & P-value significance:\n",
       "\n",
       "                      sum_sq     df          F        PR(>F)\n",
       "C(Make)           892.768222   36.0  12.181053  7.908225e-55\n",
       "C(Class)          439.938151   14.0  15.435198  1.252752e-33\n",
       "C(Transmission)   445.572870   22.0   9.948204  5.577249e-30\n",
       "C(Fuel)           395.126244    3.0  64.693884  1.395682e-37\n",
       "Residual         1683.669734  827.0        NaN           NaN\n"
      ]
     },
     "output_type": "unknown"
    }
   ],
   "source": [
    "from scipy import stats\r\n",
    "import statsmodels.api as sm\r\n",
    "from statsmodels.formula.api import ols\r\n",
    "\r\n",
    "#Anova\r\n",
    "lm_fit = ols('FC_Comb ~ C(Make) + C(Class) + C(Transmission) + C(Fuel)', data = df).fit()\r\n",
    "\r\n",
    "#print(f\"{sm.stats.anova_lm(lm_fit, typ=2)}\\n\\n{lm_fit.summary()}\")\r\n",
    "print(f\"ANOVA result of model\\'s total variation, degree of freedom,\\nand F-Stats & P-value significance:\\n\\n{sm.stats.anova_lm(lm_fit, typ=2)}\")\r\n"
   ]
  },
  {
   "cell_type": "markdown",
   "metadata": {},
   "source": [
    "### **Encoding categorical features**\r\n",
    "######################################################################################################################"
   ]
  },
  {
   "cell_type": "code",
   "execution_count": 40,
   "metadata": {},
   "outputs": [],
   "source": [
    "from sklearn.preprocessing import LabelBinarizer\r\n",
    "\r\n",
    "# Helper function for encoding categorical variabels\r\n",
    "def lb_results(data=None):\r\n",
    "    lb = LabelBinarizer()\r\n",
    "    lb_fit = lb.fit_transform(data)\r\n",
    "    lb_result = pd.DataFrame(lb_fit, columns=lb.classes_)\r\n",
    "    return lb_result"
   ]
  },
  {
   "cell_type": "code",
   "execution_count": 39,
   "metadata": {},
   "outputs": [
    {
     "data": {
      "text/plain": [
       "(903, 4)"
      ]
     },
     "output_type": "unknown"
    }
   ],
   "source": [
    "cat_df= df.select_dtypes(include=['object']).copy()\r\n",
    "cat_df.shape"
   ]
  },
  {
   "cell_type": "code",
   "execution_count": 41,
   "metadata": {},
   "outputs": [
    {
     "name": "stdout",
     "output_type": "stream",
     "text": [
      "(903, 37)\n"
     ]
    },
    {
     "data": {
      "text/html": [
       "<div>\n",
       "<style scoped>\n",
       "    .dataframe tbody tr th:only-of-type {\n",
       "        vertical-align: middle;\n",
       "    }\n",
       "\n",
       "    .dataframe tbody tr th {\n",
       "        vertical-align: top;\n",
       "    }\n",
       "\n",
       "    .dataframe thead th {\n",
       "        text-align: right;\n",
       "    }\n",
       "</style>\n",
       "<table border=\"1\" class=\"dataframe\">\n",
       "  <thead>\n",
       "    <tr style=\"text-align: right;\">\n",
       "      <th></th>\n",
       "      <th>Acura</th>\n",
       "      <th>Alfa Romeo</th>\n",
       "      <th>Aston Martin</th>\n",
       "      <th>Audi</th>\n",
       "      <th>BMW</th>\n",
       "      <th>Bentley</th>\n",
       "      <th>Buick</th>\n",
       "      <th>Cadillac</th>\n",
       "      <th>Chevrolet</th>\n",
       "      <th>Chrysler</th>\n",
       "      <th>...</th>\n",
       "      <th>Mercedes-Benz</th>\n",
       "      <th>Mitsubishi</th>\n",
       "      <th>Nissan</th>\n",
       "      <th>Porsche</th>\n",
       "      <th>Ram</th>\n",
       "      <th>Rolls-Royce</th>\n",
       "      <th>Subaru</th>\n",
       "      <th>Toyota</th>\n",
       "      <th>Volkswagen</th>\n",
       "      <th>Volvo</th>\n",
       "    </tr>\n",
       "  </thead>\n",
       "  <tbody>\n",
       "    <tr>\n",
       "      <th>0</th>\n",
       "      <td>1</td>\n",
       "      <td>0</td>\n",
       "      <td>0</td>\n",
       "      <td>0</td>\n",
       "      <td>0</td>\n",
       "      <td>0</td>\n",
       "      <td>0</td>\n",
       "      <td>0</td>\n",
       "      <td>0</td>\n",
       "      <td>0</td>\n",
       "      <td>...</td>\n",
       "      <td>0</td>\n",
       "      <td>0</td>\n",
       "      <td>0</td>\n",
       "      <td>0</td>\n",
       "      <td>0</td>\n",
       "      <td>0</td>\n",
       "      <td>0</td>\n",
       "      <td>0</td>\n",
       "      <td>0</td>\n",
       "      <td>0</td>\n",
       "    </tr>\n",
       "    <tr>\n",
       "      <th>1</th>\n",
       "      <td>1</td>\n",
       "      <td>0</td>\n",
       "      <td>0</td>\n",
       "      <td>0</td>\n",
       "      <td>0</td>\n",
       "      <td>0</td>\n",
       "      <td>0</td>\n",
       "      <td>0</td>\n",
       "      <td>0</td>\n",
       "      <td>0</td>\n",
       "      <td>...</td>\n",
       "      <td>0</td>\n",
       "      <td>0</td>\n",
       "      <td>0</td>\n",
       "      <td>0</td>\n",
       "      <td>0</td>\n",
       "      <td>0</td>\n",
       "      <td>0</td>\n",
       "      <td>0</td>\n",
       "      <td>0</td>\n",
       "      <td>0</td>\n",
       "    </tr>\n",
       "    <tr>\n",
       "      <th>2</th>\n",
       "      <td>1</td>\n",
       "      <td>0</td>\n",
       "      <td>0</td>\n",
       "      <td>0</td>\n",
       "      <td>0</td>\n",
       "      <td>0</td>\n",
       "      <td>0</td>\n",
       "      <td>0</td>\n",
       "      <td>0</td>\n",
       "      <td>0</td>\n",
       "      <td>...</td>\n",
       "      <td>0</td>\n",
       "      <td>0</td>\n",
       "      <td>0</td>\n",
       "      <td>0</td>\n",
       "      <td>0</td>\n",
       "      <td>0</td>\n",
       "      <td>0</td>\n",
       "      <td>0</td>\n",
       "      <td>0</td>\n",
       "      <td>0</td>\n",
       "    </tr>\n",
       "    <tr>\n",
       "      <th>3</th>\n",
       "      <td>1</td>\n",
       "      <td>0</td>\n",
       "      <td>0</td>\n",
       "      <td>0</td>\n",
       "      <td>0</td>\n",
       "      <td>0</td>\n",
       "      <td>0</td>\n",
       "      <td>0</td>\n",
       "      <td>0</td>\n",
       "      <td>0</td>\n",
       "      <td>...</td>\n",
       "      <td>0</td>\n",
       "      <td>0</td>\n",
       "      <td>0</td>\n",
       "      <td>0</td>\n",
       "      <td>0</td>\n",
       "      <td>0</td>\n",
       "      <td>0</td>\n",
       "      <td>0</td>\n",
       "      <td>0</td>\n",
       "      <td>0</td>\n",
       "    </tr>\n",
       "    <tr>\n",
       "      <th>4</th>\n",
       "      <td>1</td>\n",
       "      <td>0</td>\n",
       "      <td>0</td>\n",
       "      <td>0</td>\n",
       "      <td>0</td>\n",
       "      <td>0</td>\n",
       "      <td>0</td>\n",
       "      <td>0</td>\n",
       "      <td>0</td>\n",
       "      <td>0</td>\n",
       "      <td>...</td>\n",
       "      <td>0</td>\n",
       "      <td>0</td>\n",
       "      <td>0</td>\n",
       "      <td>0</td>\n",
       "      <td>0</td>\n",
       "      <td>0</td>\n",
       "      <td>0</td>\n",
       "      <td>0</td>\n",
       "      <td>0</td>\n",
       "      <td>0</td>\n",
       "    </tr>\n",
       "  </tbody>\n",
       "</table>\n",
       "<p>5 rows × 37 columns</p>\n",
       "</div>"
      ],
      "text/plain": [
       "   Acura  Alfa Romeo  Aston Martin  Audi  BMW  Bentley  Buick  Cadillac  \\\n",
       "0      1           0             0     0    0        0      0         0   \n",
       "1      1           0             0     0    0        0      0         0   \n",
       "2      1           0             0     0    0        0      0         0   \n",
       "3      1           0             0     0    0        0      0         0   \n",
       "4      1           0             0     0    0        0      0         0   \n",
       "\n",
       "   Chevrolet  Chrysler  ...  Mercedes-Benz  Mitsubishi  Nissan  Porsche  Ram  \\\n",
       "0          0         0  ...              0           0       0        0    0   \n",
       "1          0         0  ...              0           0       0        0    0   \n",
       "2          0         0  ...              0           0       0        0    0   \n",
       "3          0         0  ...              0           0       0        0    0   \n",
       "4          0         0  ...              0           0       0        0    0   \n",
       "\n",
       "   Rolls-Royce  Subaru  Toyota  Volkswagen  Volvo  \n",
       "0            0       0       0           0      0  \n",
       "1            0       0       0           0      0  \n",
       "2            0       0       0           0      0  \n",
       "3            0       0       0           0      0  \n",
       "4            0       0       0           0      0  \n",
       "\n",
       "[5 rows x 37 columns]"
      ]
     },
     "execution_count": 41,
     "metadata": {},
     "output_type": "execute_result"
    }
   ],
   "source": [
    "lb_make = lb_results(cat_df['Make'])\r\n",
    "\r\n",
    "print(lb_make.shape)\r\n",
    "lb_make.head()"
   ]
  },
  {
   "cell_type": "code",
   "execution_count": 42,
   "metadata": {},
   "outputs": [
    {
     "name": "stdout",
     "output_type": "stream",
     "text": [
      "(903, 15)\n"
     ]
    },
    {
     "data": {
      "text/html": [
       "<div>\n",
       "<style scoped>\n",
       "    .dataframe tbody tr th:only-of-type {\n",
       "        vertical-align: middle;\n",
       "    }\n",
       "\n",
       "    .dataframe tbody tr th {\n",
       "        vertical-align: top;\n",
       "    }\n",
       "\n",
       "    .dataframe thead th {\n",
       "        text-align: right;\n",
       "    }\n",
       "</style>\n",
       "<table border=\"1\" class=\"dataframe\">\n",
       "  <thead>\n",
       "    <tr style=\"text-align: right;\">\n",
       "      <th></th>\n",
       "      <th>Compact</th>\n",
       "      <th>Full-size</th>\n",
       "      <th>Mid-size</th>\n",
       "      <th>Minicompact</th>\n",
       "      <th>Minivan</th>\n",
       "      <th>Pickup truck: Small</th>\n",
       "      <th>Pickup truck: Standard</th>\n",
       "      <th>SUV: Small</th>\n",
       "      <th>SUV: Standard</th>\n",
       "      <th>Special purpose vehicle</th>\n",
       "      <th>Station wagon: Mid-size</th>\n",
       "      <th>Station wagon: Small</th>\n",
       "      <th>Subcompact</th>\n",
       "      <th>Two-seater</th>\n",
       "      <th>Van: Passenger</th>\n",
       "    </tr>\n",
       "  </thead>\n",
       "  <tbody>\n",
       "    <tr>\n",
       "      <th>0</th>\n",
       "      <td>1</td>\n",
       "      <td>0</td>\n",
       "      <td>0</td>\n",
       "      <td>0</td>\n",
       "      <td>0</td>\n",
       "      <td>0</td>\n",
       "      <td>0</td>\n",
       "      <td>0</td>\n",
       "      <td>0</td>\n",
       "      <td>0</td>\n",
       "      <td>0</td>\n",
       "      <td>0</td>\n",
       "      <td>0</td>\n",
       "      <td>0</td>\n",
       "      <td>0</td>\n",
       "    </tr>\n",
       "    <tr>\n",
       "      <th>1</th>\n",
       "      <td>0</td>\n",
       "      <td>0</td>\n",
       "      <td>0</td>\n",
       "      <td>0</td>\n",
       "      <td>0</td>\n",
       "      <td>0</td>\n",
       "      <td>0</td>\n",
       "      <td>0</td>\n",
       "      <td>0</td>\n",
       "      <td>0</td>\n",
       "      <td>0</td>\n",
       "      <td>0</td>\n",
       "      <td>0</td>\n",
       "      <td>1</td>\n",
       "      <td>0</td>\n",
       "    </tr>\n",
       "    <tr>\n",
       "      <th>2</th>\n",
       "      <td>0</td>\n",
       "      <td>0</td>\n",
       "      <td>0</td>\n",
       "      <td>0</td>\n",
       "      <td>0</td>\n",
       "      <td>0</td>\n",
       "      <td>0</td>\n",
       "      <td>1</td>\n",
       "      <td>0</td>\n",
       "      <td>0</td>\n",
       "      <td>0</td>\n",
       "      <td>0</td>\n",
       "      <td>0</td>\n",
       "      <td>0</td>\n",
       "      <td>0</td>\n",
       "    </tr>\n",
       "    <tr>\n",
       "      <th>3</th>\n",
       "      <td>0</td>\n",
       "      <td>0</td>\n",
       "      <td>0</td>\n",
       "      <td>0</td>\n",
       "      <td>0</td>\n",
       "      <td>0</td>\n",
       "      <td>0</td>\n",
       "      <td>1</td>\n",
       "      <td>0</td>\n",
       "      <td>0</td>\n",
       "      <td>0</td>\n",
       "      <td>0</td>\n",
       "      <td>0</td>\n",
       "      <td>0</td>\n",
       "      <td>0</td>\n",
       "    </tr>\n",
       "    <tr>\n",
       "      <th>4</th>\n",
       "      <td>1</td>\n",
       "      <td>0</td>\n",
       "      <td>0</td>\n",
       "      <td>0</td>\n",
       "      <td>0</td>\n",
       "      <td>0</td>\n",
       "      <td>0</td>\n",
       "      <td>0</td>\n",
       "      <td>0</td>\n",
       "      <td>0</td>\n",
       "      <td>0</td>\n",
       "      <td>0</td>\n",
       "      <td>0</td>\n",
       "      <td>0</td>\n",
       "      <td>0</td>\n",
       "    </tr>\n",
       "  </tbody>\n",
       "</table>\n",
       "</div>"
      ],
      "text/plain": [
       "   Compact  Full-size  Mid-size  Minicompact  Minivan  Pickup truck: Small  \\\n",
       "0        1          0         0            0        0                    0   \n",
       "1        0          0         0            0        0                    0   \n",
       "2        0          0         0            0        0                    0   \n",
       "3        0          0         0            0        0                    0   \n",
       "4        1          0         0            0        0                    0   \n",
       "\n",
       "   Pickup truck: Standard  SUV: Small  SUV: Standard  Special purpose vehicle  \\\n",
       "0                       0           0              0                        0   \n",
       "1                       0           0              0                        0   \n",
       "2                       0           1              0                        0   \n",
       "3                       0           1              0                        0   \n",
       "4                       0           0              0                        0   \n",
       "\n",
       "   Station wagon: Mid-size  Station wagon: Small  Subcompact  Two-seater  \\\n",
       "0                        0                     0           0           0   \n",
       "1                        0                     0           0           1   \n",
       "2                        0                     0           0           0   \n",
       "3                        0                     0           0           0   \n",
       "4                        0                     0           0           0   \n",
       "\n",
       "   Van: Passenger  \n",
       "0               0  \n",
       "1               0  \n",
       "2               0  \n",
       "3               0  \n",
       "4               0  "
      ]
     },
     "execution_count": 42,
     "metadata": {},
     "output_type": "execute_result"
    }
   ],
   "source": [
    "lb_class = lb_results(cat_df['Class'])\r\n",
    "\r\n",
    "print(lb_class.shape)\r\n",
    "lb_class.head()"
   ]
  },
  {
   "cell_type": "code",
   "execution_count": 43,
   "metadata": {},
   "outputs": [
    {
     "name": "stdout",
     "output_type": "stream",
     "text": [
      "(903, 23)\n"
     ]
    },
    {
     "data": {
      "text/html": [
       "<div>\n",
       "<style scoped>\n",
       "    .dataframe tbody tr th:only-of-type {\n",
       "        vertical-align: middle;\n",
       "    }\n",
       "\n",
       "    .dataframe tbody tr th {\n",
       "        vertical-align: top;\n",
       "    }\n",
       "\n",
       "    .dataframe thead th {\n",
       "        text-align: right;\n",
       "    }\n",
       "</style>\n",
       "<table border=\"1\" class=\"dataframe\">\n",
       "  <thead>\n",
       "    <tr style=\"text-align: right;\">\n",
       "      <th></th>\n",
       "      <th>A10</th>\n",
       "      <th>A6</th>\n",
       "      <th>A8</th>\n",
       "      <th>A9</th>\n",
       "      <th>AM6</th>\n",
       "      <th>AM7</th>\n",
       "      <th>AM8</th>\n",
       "      <th>AM9</th>\n",
       "      <th>AS10</th>\n",
       "      <th>AS5</th>\n",
       "      <th>...</th>\n",
       "      <th>AS9</th>\n",
       "      <th>AV</th>\n",
       "      <th>AV1</th>\n",
       "      <th>AV10</th>\n",
       "      <th>AV6</th>\n",
       "      <th>AV7</th>\n",
       "      <th>AV8</th>\n",
       "      <th>M5</th>\n",
       "      <th>M6</th>\n",
       "      <th>M7</th>\n",
       "    </tr>\n",
       "  </thead>\n",
       "  <tbody>\n",
       "    <tr>\n",
       "      <th>0</th>\n",
       "      <td>0</td>\n",
       "      <td>0</td>\n",
       "      <td>0</td>\n",
       "      <td>0</td>\n",
       "      <td>0</td>\n",
       "      <td>0</td>\n",
       "      <td>1</td>\n",
       "      <td>0</td>\n",
       "      <td>0</td>\n",
       "      <td>0</td>\n",
       "      <td>...</td>\n",
       "      <td>0</td>\n",
       "      <td>0</td>\n",
       "      <td>0</td>\n",
       "      <td>0</td>\n",
       "      <td>0</td>\n",
       "      <td>0</td>\n",
       "      <td>0</td>\n",
       "      <td>0</td>\n",
       "      <td>0</td>\n",
       "      <td>0</td>\n",
       "    </tr>\n",
       "    <tr>\n",
       "      <th>1</th>\n",
       "      <td>0</td>\n",
       "      <td>0</td>\n",
       "      <td>0</td>\n",
       "      <td>0</td>\n",
       "      <td>0</td>\n",
       "      <td>0</td>\n",
       "      <td>0</td>\n",
       "      <td>1</td>\n",
       "      <td>0</td>\n",
       "      <td>0</td>\n",
       "      <td>...</td>\n",
       "      <td>0</td>\n",
       "      <td>0</td>\n",
       "      <td>0</td>\n",
       "      <td>0</td>\n",
       "      <td>0</td>\n",
       "      <td>0</td>\n",
       "      <td>0</td>\n",
       "      <td>0</td>\n",
       "      <td>0</td>\n",
       "      <td>0</td>\n",
       "    </tr>\n",
       "    <tr>\n",
       "      <th>2</th>\n",
       "      <td>0</td>\n",
       "      <td>0</td>\n",
       "      <td>0</td>\n",
       "      <td>0</td>\n",
       "      <td>0</td>\n",
       "      <td>0</td>\n",
       "      <td>0</td>\n",
       "      <td>0</td>\n",
       "      <td>1</td>\n",
       "      <td>0</td>\n",
       "      <td>...</td>\n",
       "      <td>0</td>\n",
       "      <td>0</td>\n",
       "      <td>0</td>\n",
       "      <td>0</td>\n",
       "      <td>0</td>\n",
       "      <td>0</td>\n",
       "      <td>0</td>\n",
       "      <td>0</td>\n",
       "      <td>0</td>\n",
       "      <td>0</td>\n",
       "    </tr>\n",
       "    <tr>\n",
       "      <th>3</th>\n",
       "      <td>0</td>\n",
       "      <td>0</td>\n",
       "      <td>0</td>\n",
       "      <td>0</td>\n",
       "      <td>0</td>\n",
       "      <td>0</td>\n",
       "      <td>0</td>\n",
       "      <td>0</td>\n",
       "      <td>1</td>\n",
       "      <td>0</td>\n",
       "      <td>...</td>\n",
       "      <td>0</td>\n",
       "      <td>0</td>\n",
       "      <td>0</td>\n",
       "      <td>0</td>\n",
       "      <td>0</td>\n",
       "      <td>0</td>\n",
       "      <td>0</td>\n",
       "      <td>0</td>\n",
       "      <td>0</td>\n",
       "      <td>0</td>\n",
       "    </tr>\n",
       "    <tr>\n",
       "      <th>4</th>\n",
       "      <td>0</td>\n",
       "      <td>0</td>\n",
       "      <td>0</td>\n",
       "      <td>0</td>\n",
       "      <td>0</td>\n",
       "      <td>0</td>\n",
       "      <td>0</td>\n",
       "      <td>0</td>\n",
       "      <td>1</td>\n",
       "      <td>0</td>\n",
       "      <td>...</td>\n",
       "      <td>0</td>\n",
       "      <td>0</td>\n",
       "      <td>0</td>\n",
       "      <td>0</td>\n",
       "      <td>0</td>\n",
       "      <td>0</td>\n",
       "      <td>0</td>\n",
       "      <td>0</td>\n",
       "      <td>0</td>\n",
       "      <td>0</td>\n",
       "    </tr>\n",
       "  </tbody>\n",
       "</table>\n",
       "<p>5 rows × 23 columns</p>\n",
       "</div>"
      ],
      "text/plain": [
       "   A10  A6  A8  A9  AM6  AM7  AM8  AM9  AS10  AS5  ...  AS9  AV  AV1  AV10  \\\n",
       "0    0   0   0   0    0    0    1    0     0    0  ...    0   0    0     0   \n",
       "1    0   0   0   0    0    0    0    1     0    0  ...    0   0    0     0   \n",
       "2    0   0   0   0    0    0    0    0     1    0  ...    0   0    0     0   \n",
       "3    0   0   0   0    0    0    0    0     1    0  ...    0   0    0     0   \n",
       "4    0   0   0   0    0    0    0    0     1    0  ...    0   0    0     0   \n",
       "\n",
       "   AV6  AV7  AV8  M5  M6  M7  \n",
       "0    0    0    0   0   0   0  \n",
       "1    0    0    0   0   0   0  \n",
       "2    0    0    0   0   0   0  \n",
       "3    0    0    0   0   0   0  \n",
       "4    0    0    0   0   0   0  \n",
       "\n",
       "[5 rows x 23 columns]"
      ]
     },
     "execution_count": 43,
     "metadata": {},
     "output_type": "execute_result"
    }
   ],
   "source": [
    "lb_trans = lb_results(cat_df['Transmission'])\r\n",
    "\r\n",
    "print(lb_trans.shape)\r\n",
    "lb_trans.head()"
   ]
  },
  {
   "cell_type": "code",
   "execution_count": 44,
   "metadata": {},
   "outputs": [
    {
     "name": "stdout",
     "output_type": "stream",
     "text": [
      "(903, 4)\n"
     ]
    },
    {
     "data": {
      "text/html": [
       "<div>\n",
       "<style scoped>\n",
       "    .dataframe tbody tr th:only-of-type {\n",
       "        vertical-align: middle;\n",
       "    }\n",
       "\n",
       "    .dataframe tbody tr th {\n",
       "        vertical-align: top;\n",
       "    }\n",
       "\n",
       "    .dataframe thead th {\n",
       "        text-align: right;\n",
       "    }\n",
       "</style>\n",
       "<table border=\"1\" class=\"dataframe\">\n",
       "  <thead>\n",
       "    <tr style=\"text-align: right;\">\n",
       "      <th></th>\n",
       "      <th>D</th>\n",
       "      <th>E</th>\n",
       "      <th>X</th>\n",
       "      <th>Z</th>\n",
       "    </tr>\n",
       "  </thead>\n",
       "  <tbody>\n",
       "    <tr>\n",
       "      <th>0</th>\n",
       "      <td>0</td>\n",
       "      <td>0</td>\n",
       "      <td>0</td>\n",
       "      <td>1</td>\n",
       "    </tr>\n",
       "    <tr>\n",
       "      <th>1</th>\n",
       "      <td>0</td>\n",
       "      <td>0</td>\n",
       "      <td>0</td>\n",
       "      <td>1</td>\n",
       "    </tr>\n",
       "    <tr>\n",
       "      <th>2</th>\n",
       "      <td>0</td>\n",
       "      <td>0</td>\n",
       "      <td>0</td>\n",
       "      <td>1</td>\n",
       "    </tr>\n",
       "    <tr>\n",
       "      <th>3</th>\n",
       "      <td>0</td>\n",
       "      <td>0</td>\n",
       "      <td>0</td>\n",
       "      <td>1</td>\n",
       "    </tr>\n",
       "    <tr>\n",
       "      <th>4</th>\n",
       "      <td>0</td>\n",
       "      <td>0</td>\n",
       "      <td>0</td>\n",
       "      <td>1</td>\n",
       "    </tr>\n",
       "  </tbody>\n",
       "</table>\n",
       "</div>"
      ],
      "text/plain": [
       "   D  E  X  Z\n",
       "0  0  0  0  1\n",
       "1  0  0  0  1\n",
       "2  0  0  0  1\n",
       "3  0  0  0  1\n",
       "4  0  0  0  1"
      ]
     },
     "execution_count": 44,
     "metadata": {},
     "output_type": "execute_result"
    }
   ],
   "source": [
    "lb_fuel = lb_results(cat_df['Fuel'])\r\n",
    "\r\n",
    "print(lb_fuel.shape)\r\n",
    "lb_fuel.head()"
   ]
  },
  {
   "cell_type": "markdown",
   "metadata": {},
   "source": [
    "### **Rebuilt final dataframe**\r\n",
    "######################################################################################################################"
   ]
  },
  {
   "cell_type": "code",
   "execution_count": 71,
   "metadata": {},
   "outputs": [
    {
     "name": "stdout",
     "output_type": "stream",
     "text": [
      "Encoded categorical variables shape: (903, 79)\n"
     ]
    }
   ],
   "source": [
    "# Combining encoded categorical variabels dataframe\r\n",
    "encoded_df = pd.concat([lb_make, lb_class, lb_trans, lb_fuel], axis=1)\r\n",
    "\r\n",
    "print(f\"Encoded categorical variables shape: {encoded_df.shape}\")"
   ]
  },
  {
   "cell_type": "code",
   "execution_count": 72,
   "metadata": {},
   "outputs": [
    {
     "name": "stdout",
     "output_type": "stream",
     "text": [
      "Encoded categorical variables shape: (903, 5)\n"
     ]
    }
   ],
   "source": [
    "# Get the continous variabels\r\n",
    "cont_df = df[['Engine','Cylinders','FC_City','FC_Highway','FC_Comb']]\r\n",
    "\r\n",
    "print(f\"Encoded categorical variables shape: {cont_df.shape}\")"
   ]
  },
  {
   "cell_type": "code",
   "execution_count": 82,
   "metadata": {},
   "outputs": [
    {
     "name": "stdout",
     "output_type": "stream",
     "text": [
      "Combined final dataframe shape: (917, 84)\n",
      "And missing values checks:\n"
     ]
    },
    {
     "data": {
      "text/plain": [
       "Engine        14\n",
       "Cylinders     14\n",
       "FC_City       14\n",
       "FC_Highway    14\n",
       "FC_Comb       14\n",
       "              ..\n",
       "M7            14\n",
       "D             14\n",
       "E             14\n",
       "X             14\n",
       "Z             14\n",
       "Length: 84, dtype: int64"
      ]
     },
     "execution_count": 82,
     "metadata": {},
     "output_type": "execute_result"
    }
   ],
   "source": [
    "# Built final dataframe from combination of continous and categorical variabels dataframes\r\n",
    "final_df = pd.concat([cont_df, encoded_df], axis=1)\r\n",
    "\r\n",
    "print(f\"Combined final dataframe shape: {final_df.shape}\")\r\n",
    "# Missing values checks\r\n",
    "print(\"And missing values checks:\")\r\n",
    "final_df.isna().sum()"
   ]
  },
  {
   "cell_type": "code",
   "execution_count": 83,
   "metadata": {},
   "outputs": [
    {
     "name": "stdout",
     "output_type": "stream",
     "text": [
      "Final dataframe shape: (889, 84)\n",
      "And lookup first 5 rows:\n"
     ]
    },
    {
     "data": {
      "text/html": [
       "<div>\n",
       "<style scoped>\n",
       "    .dataframe tbody tr th:only-of-type {\n",
       "        vertical-align: middle;\n",
       "    }\n",
       "\n",
       "    .dataframe tbody tr th {\n",
       "        vertical-align: top;\n",
       "    }\n",
       "\n",
       "    .dataframe thead th {\n",
       "        text-align: right;\n",
       "    }\n",
       "</style>\n",
       "<table border=\"1\" class=\"dataframe\">\n",
       "  <thead>\n",
       "    <tr style=\"text-align: right;\">\n",
       "      <th></th>\n",
       "      <th>Engine</th>\n",
       "      <th>Cylinders</th>\n",
       "      <th>FC_City</th>\n",
       "      <th>FC_Highway</th>\n",
       "      <th>FC_Comb</th>\n",
       "      <th>Acura</th>\n",
       "      <th>Alfa Romeo</th>\n",
       "      <th>Aston Martin</th>\n",
       "      <th>Audi</th>\n",
       "      <th>BMW</th>\n",
       "      <th>...</th>\n",
       "      <th>AV6</th>\n",
       "      <th>AV7</th>\n",
       "      <th>AV8</th>\n",
       "      <th>M5</th>\n",
       "      <th>M6</th>\n",
       "      <th>M7</th>\n",
       "      <th>D</th>\n",
       "      <th>E</th>\n",
       "      <th>X</th>\n",
       "      <th>Z</th>\n",
       "    </tr>\n",
       "  </thead>\n",
       "  <tbody>\n",
       "    <tr>\n",
       "      <th>0</th>\n",
       "      <td>2.4</td>\n",
       "      <td>4.0</td>\n",
       "      <td>9.9</td>\n",
       "      <td>7.0</td>\n",
       "      <td>8.6</td>\n",
       "      <td>1.0</td>\n",
       "      <td>0.0</td>\n",
       "      <td>0.0</td>\n",
       "      <td>0.0</td>\n",
       "      <td>0.0</td>\n",
       "      <td>...</td>\n",
       "      <td>0.0</td>\n",
       "      <td>0.0</td>\n",
       "      <td>0.0</td>\n",
       "      <td>0.0</td>\n",
       "      <td>0.0</td>\n",
       "      <td>0.0</td>\n",
       "      <td>0.0</td>\n",
       "      <td>0.0</td>\n",
       "      <td>0.0</td>\n",
       "      <td>1.0</td>\n",
       "    </tr>\n",
       "    <tr>\n",
       "      <th>1</th>\n",
       "      <td>3.5</td>\n",
       "      <td>6.0</td>\n",
       "      <td>11.1</td>\n",
       "      <td>10.8</td>\n",
       "      <td>11.0</td>\n",
       "      <td>1.0</td>\n",
       "      <td>0.0</td>\n",
       "      <td>0.0</td>\n",
       "      <td>0.0</td>\n",
       "      <td>0.0</td>\n",
       "      <td>...</td>\n",
       "      <td>0.0</td>\n",
       "      <td>0.0</td>\n",
       "      <td>0.0</td>\n",
       "      <td>0.0</td>\n",
       "      <td>0.0</td>\n",
       "      <td>0.0</td>\n",
       "      <td>0.0</td>\n",
       "      <td>0.0</td>\n",
       "      <td>0.0</td>\n",
       "      <td>1.0</td>\n",
       "    </tr>\n",
       "    <tr>\n",
       "      <th>2</th>\n",
       "      <td>2.0</td>\n",
       "      <td>4.0</td>\n",
       "      <td>11.0</td>\n",
       "      <td>8.6</td>\n",
       "      <td>9.9</td>\n",
       "      <td>1.0</td>\n",
       "      <td>0.0</td>\n",
       "      <td>0.0</td>\n",
       "      <td>0.0</td>\n",
       "      <td>0.0</td>\n",
       "      <td>...</td>\n",
       "      <td>0.0</td>\n",
       "      <td>0.0</td>\n",
       "      <td>0.0</td>\n",
       "      <td>0.0</td>\n",
       "      <td>0.0</td>\n",
       "      <td>0.0</td>\n",
       "      <td>0.0</td>\n",
       "      <td>0.0</td>\n",
       "      <td>0.0</td>\n",
       "      <td>1.0</td>\n",
       "    </tr>\n",
       "    <tr>\n",
       "      <th>3</th>\n",
       "      <td>2.0</td>\n",
       "      <td>4.0</td>\n",
       "      <td>11.3</td>\n",
       "      <td>9.1</td>\n",
       "      <td>10.3</td>\n",
       "      <td>1.0</td>\n",
       "      <td>0.0</td>\n",
       "      <td>0.0</td>\n",
       "      <td>0.0</td>\n",
       "      <td>0.0</td>\n",
       "      <td>...</td>\n",
       "      <td>0.0</td>\n",
       "      <td>0.0</td>\n",
       "      <td>0.0</td>\n",
       "      <td>0.0</td>\n",
       "      <td>0.0</td>\n",
       "      <td>0.0</td>\n",
       "      <td>0.0</td>\n",
       "      <td>0.0</td>\n",
       "      <td>0.0</td>\n",
       "      <td>1.0</td>\n",
       "    </tr>\n",
       "    <tr>\n",
       "      <th>4</th>\n",
       "      <td>2.0</td>\n",
       "      <td>4.0</td>\n",
       "      <td>11.2</td>\n",
       "      <td>8.0</td>\n",
       "      <td>9.8</td>\n",
       "      <td>1.0</td>\n",
       "      <td>0.0</td>\n",
       "      <td>0.0</td>\n",
       "      <td>0.0</td>\n",
       "      <td>0.0</td>\n",
       "      <td>...</td>\n",
       "      <td>0.0</td>\n",
       "      <td>0.0</td>\n",
       "      <td>0.0</td>\n",
       "      <td>0.0</td>\n",
       "      <td>0.0</td>\n",
       "      <td>0.0</td>\n",
       "      <td>0.0</td>\n",
       "      <td>0.0</td>\n",
       "      <td>0.0</td>\n",
       "      <td>1.0</td>\n",
       "    </tr>\n",
       "  </tbody>\n",
       "</table>\n",
       "<p>5 rows × 84 columns</p>\n",
       "</div>"
      ],
      "text/plain": [
       "   Engine  Cylinders  FC_City  FC_Highway  FC_Comb  Acura  Alfa Romeo  \\\n",
       "0     2.4        4.0      9.9         7.0      8.6    1.0         0.0   \n",
       "1     3.5        6.0     11.1        10.8     11.0    1.0         0.0   \n",
       "2     2.0        4.0     11.0         8.6      9.9    1.0         0.0   \n",
       "3     2.0        4.0     11.3         9.1     10.3    1.0         0.0   \n",
       "4     2.0        4.0     11.2         8.0      9.8    1.0         0.0   \n",
       "\n",
       "   Aston Martin  Audi  BMW  ...  AV6  AV7  AV8   M5   M6   M7    D    E    X  \\\n",
       "0           0.0   0.0  0.0  ...  0.0  0.0  0.0  0.0  0.0  0.0  0.0  0.0  0.0   \n",
       "1           0.0   0.0  0.0  ...  0.0  0.0  0.0  0.0  0.0  0.0  0.0  0.0  0.0   \n",
       "2           0.0   0.0  0.0  ...  0.0  0.0  0.0  0.0  0.0  0.0  0.0  0.0  0.0   \n",
       "3           0.0   0.0  0.0  ...  0.0  0.0  0.0  0.0  0.0  0.0  0.0  0.0  0.0   \n",
       "4           0.0   0.0  0.0  ...  0.0  0.0  0.0  0.0  0.0  0.0  0.0  0.0  0.0   \n",
       "\n",
       "     Z  \n",
       "0  1.0  \n",
       "1  1.0  \n",
       "2  1.0  \n",
       "3  1.0  \n",
       "4  1.0  \n",
       "\n",
       "[5 rows x 84 columns]"
      ]
     },
     "execution_count": 83,
     "metadata": {},
     "output_type": "execute_result"
    }
   ],
   "source": [
    "# Removing missing values since its only a insignificant numbers\r\n",
    "final_df = final_df.dropna()\r\n",
    "\r\n",
    "print(f\"Final dataframe shape: {final_df.shape}\\nAnd lookup first 5 rows:\")\r\n",
    "final_df.head()"
   ]
  },
  {
   "cell_type": "markdown",
   "metadata": {},
   "source": [
    "### **Continuous feature scaling**\r\n",
    "######################################################################################################################"
   ]
  },
  {
   "cell_type": "code",
   "execution_count": 84,
   "metadata": {},
   "outputs": [
    {
     "name": "stdout",
     "output_type": "stream",
     "text": [
      "Final dataframe first 5 rows:\n"
     ]
    },
    {
     "data": {
      "text/html": [
       "<div>\n",
       "<style scoped>\n",
       "    .dataframe tbody tr th:only-of-type {\n",
       "        vertical-align: middle;\n",
       "    }\n",
       "\n",
       "    .dataframe tbody tr th {\n",
       "        vertical-align: top;\n",
       "    }\n",
       "\n",
       "    .dataframe thead th {\n",
       "        text-align: right;\n",
       "    }\n",
       "</style>\n",
       "<table border=\"1\" class=\"dataframe\">\n",
       "  <thead>\n",
       "    <tr style=\"text-align: right;\">\n",
       "      <th></th>\n",
       "      <th>Engine</th>\n",
       "      <th>Cylinders</th>\n",
       "      <th>FC_City</th>\n",
       "      <th>FC_Highway</th>\n",
       "      <th>FC_Comb</th>\n",
       "      <th>Acura</th>\n",
       "      <th>Alfa Romeo</th>\n",
       "      <th>Aston Martin</th>\n",
       "      <th>Audi</th>\n",
       "      <th>BMW</th>\n",
       "      <th>...</th>\n",
       "      <th>AV6</th>\n",
       "      <th>AV7</th>\n",
       "      <th>AV8</th>\n",
       "      <th>M5</th>\n",
       "      <th>M6</th>\n",
       "      <th>M7</th>\n",
       "      <th>D</th>\n",
       "      <th>E</th>\n",
       "      <th>X</th>\n",
       "      <th>Z</th>\n",
       "    </tr>\n",
       "  </thead>\n",
       "  <tbody>\n",
       "    <tr>\n",
       "      <th>0</th>\n",
       "      <td>-0.572857</td>\n",
       "      <td>-0.875459</td>\n",
       "      <td>-0.749740</td>\n",
       "      <td>-1.074490</td>\n",
       "      <td>8.6</td>\n",
       "      <td>1.0</td>\n",
       "      <td>0.0</td>\n",
       "      <td>0.0</td>\n",
       "      <td>0.0</td>\n",
       "      <td>0.0</td>\n",
       "      <td>...</td>\n",
       "      <td>0.0</td>\n",
       "      <td>0.0</td>\n",
       "      <td>0.0</td>\n",
       "      <td>0.0</td>\n",
       "      <td>0.0</td>\n",
       "      <td>0.0</td>\n",
       "      <td>0.0</td>\n",
       "      <td>0.0</td>\n",
       "      <td>0.0</td>\n",
       "      <td>1.0</td>\n",
       "    </tr>\n",
       "    <tr>\n",
       "      <th>1</th>\n",
       "      <td>0.236325</td>\n",
       "      <td>0.184150</td>\n",
       "      <td>-0.371341</td>\n",
       "      <td>0.808501</td>\n",
       "      <td>11.0</td>\n",
       "      <td>1.0</td>\n",
       "      <td>0.0</td>\n",
       "      <td>0.0</td>\n",
       "      <td>0.0</td>\n",
       "      <td>0.0</td>\n",
       "      <td>...</td>\n",
       "      <td>0.0</td>\n",
       "      <td>0.0</td>\n",
       "      <td>0.0</td>\n",
       "      <td>0.0</td>\n",
       "      <td>0.0</td>\n",
       "      <td>0.0</td>\n",
       "      <td>0.0</td>\n",
       "      <td>0.0</td>\n",
       "      <td>0.0</td>\n",
       "      <td>1.0</td>\n",
       "    </tr>\n",
       "    <tr>\n",
       "      <th>2</th>\n",
       "      <td>-0.867105</td>\n",
       "      <td>-0.875459</td>\n",
       "      <td>-0.402874</td>\n",
       "      <td>-0.281652</td>\n",
       "      <td>9.9</td>\n",
       "      <td>1.0</td>\n",
       "      <td>0.0</td>\n",
       "      <td>0.0</td>\n",
       "      <td>0.0</td>\n",
       "      <td>0.0</td>\n",
       "      <td>...</td>\n",
       "      <td>0.0</td>\n",
       "      <td>0.0</td>\n",
       "      <td>0.0</td>\n",
       "      <td>0.0</td>\n",
       "      <td>0.0</td>\n",
       "      <td>0.0</td>\n",
       "      <td>0.0</td>\n",
       "      <td>0.0</td>\n",
       "      <td>0.0</td>\n",
       "      <td>1.0</td>\n",
       "    </tr>\n",
       "    <tr>\n",
       "      <th>3</th>\n",
       "      <td>-0.867105</td>\n",
       "      <td>-0.875459</td>\n",
       "      <td>-0.308274</td>\n",
       "      <td>-0.033890</td>\n",
       "      <td>10.3</td>\n",
       "      <td>1.0</td>\n",
       "      <td>0.0</td>\n",
       "      <td>0.0</td>\n",
       "      <td>0.0</td>\n",
       "      <td>0.0</td>\n",
       "      <td>...</td>\n",
       "      <td>0.0</td>\n",
       "      <td>0.0</td>\n",
       "      <td>0.0</td>\n",
       "      <td>0.0</td>\n",
       "      <td>0.0</td>\n",
       "      <td>0.0</td>\n",
       "      <td>0.0</td>\n",
       "      <td>0.0</td>\n",
       "      <td>0.0</td>\n",
       "      <td>1.0</td>\n",
       "    </tr>\n",
       "    <tr>\n",
       "      <th>4</th>\n",
       "      <td>-0.867105</td>\n",
       "      <td>-0.875459</td>\n",
       "      <td>-0.339807</td>\n",
       "      <td>-0.578966</td>\n",
       "      <td>9.8</td>\n",
       "      <td>1.0</td>\n",
       "      <td>0.0</td>\n",
       "      <td>0.0</td>\n",
       "      <td>0.0</td>\n",
       "      <td>0.0</td>\n",
       "      <td>...</td>\n",
       "      <td>0.0</td>\n",
       "      <td>0.0</td>\n",
       "      <td>0.0</td>\n",
       "      <td>0.0</td>\n",
       "      <td>0.0</td>\n",
       "      <td>0.0</td>\n",
       "      <td>0.0</td>\n",
       "      <td>0.0</td>\n",
       "      <td>0.0</td>\n",
       "      <td>1.0</td>\n",
       "    </tr>\n",
       "  </tbody>\n",
       "</table>\n",
       "<p>5 rows × 84 columns</p>\n",
       "</div>"
      ],
      "text/plain": [
       "     Engine  Cylinders   FC_City  FC_Highway  FC_Comb  Acura  Alfa Romeo  \\\n",
       "0 -0.572857  -0.875459 -0.749740   -1.074490      8.6    1.0         0.0   \n",
       "1  0.236325   0.184150 -0.371341    0.808501     11.0    1.0         0.0   \n",
       "2 -0.867105  -0.875459 -0.402874   -0.281652      9.9    1.0         0.0   \n",
       "3 -0.867105  -0.875459 -0.308274   -0.033890     10.3    1.0         0.0   \n",
       "4 -0.867105  -0.875459 -0.339807   -0.578966      9.8    1.0         0.0   \n",
       "\n",
       "   Aston Martin  Audi  BMW  ...  AV6  AV7  AV8   M5   M6   M7    D    E    X  \\\n",
       "0           0.0   0.0  0.0  ...  0.0  0.0  0.0  0.0  0.0  0.0  0.0  0.0  0.0   \n",
       "1           0.0   0.0  0.0  ...  0.0  0.0  0.0  0.0  0.0  0.0  0.0  0.0  0.0   \n",
       "2           0.0   0.0  0.0  ...  0.0  0.0  0.0  0.0  0.0  0.0  0.0  0.0  0.0   \n",
       "3           0.0   0.0  0.0  ...  0.0  0.0  0.0  0.0  0.0  0.0  0.0  0.0  0.0   \n",
       "4           0.0   0.0  0.0  ...  0.0  0.0  0.0  0.0  0.0  0.0  0.0  0.0  0.0   \n",
       "\n",
       "     Z  \n",
       "0  1.0  \n",
       "1  1.0  \n",
       "2  1.0  \n",
       "3  1.0  \n",
       "4  1.0  \n",
       "\n",
       "[5 rows x 84 columns]"
      ]
     },
     "execution_count": 84,
     "metadata": {},
     "output_type": "execute_result"
    }
   ],
   "source": [
    "cnames = ['Engine','Cylinders', 'FC_City', 'FC_Highway']\r\n",
    "for i in cnames:\r\n",
    "    #print(i)\r\n",
    "    final_df[i] = (final_df[i] - final_df[i].mean())/final_df[i].std()\r\n",
    "\r\n",
    "print(\"Final dataframe first 5 rows:\")\r\n",
    "final_df.head()"
   ]
  },
  {
   "cell_type": "markdown",
   "metadata": {},
   "source": [
    "# **Data Modeling**\r\n",
    "***\r\n",
    "## **Feature Selection**\r\n",
    "######################################################################################################################"
   ]
  },
  {
   "cell_type": "code",
   "execution_count": 85,
   "metadata": {},
   "outputs": [
    {
     "name": "stdout",
     "output_type": "stream",
     "text": [
      "X features shape: (889, 83)\n",
      "y target shape  : (889,)\n"
     ]
    }
   ],
   "source": [
    "X = final_df.drop(['FC_Comb'], axis=1)\r\n",
    "y = final_df['FC_Comb']\r\n",
    "\r\n",
    "print(f\"X features shape: {X.shape}\")\r\n",
    "print(f\"y target shape  : {y.shape}\")"
   ]
  },
  {
   "cell_type": "markdown",
   "metadata": {},
   "source": [
    "## **Splitting dataframe into train and test**\r\n",
    "######################################################################################################################"
   ]
  },
  {
   "cell_type": "code",
   "execution_count": 86,
   "metadata": {},
   "outputs": [
    {
     "name": "stdout",
     "output_type": "stream",
     "text": [
      "X_train shape: (711, 83), y_train shape: (711,)\n",
      "X_test shape : (178, 83), y_test shape : (178,)\n"
     ]
    }
   ],
   "source": [
    "#random_state is the seed used by the random number generator. It can be any integer.\r\n",
    "from sklearn.model_selection import train_test_split\r\n",
    "X_train, X_test, y_train, y_test = train_test_split(X, y, test_size=0.2 , random_state=42)\r\n",
    "\r\n",
    "print(f\"X_train shape: {X_train.shape}, y_train shape: {y_train.shape}\\nX_test shape : {X_test.shape}, y_test shape : {y_test.shape}\")"
   ]
  },
  {
   "cell_type": "markdown",
   "metadata": {},
   "source": [
    "## **Multilinear regression on model**\r\n",
    "######################################################################################################################"
   ]
  },
  {
   "cell_type": "code",
   "execution_count": 87,
   "metadata": {},
   "outputs": [
    {
     "name": "stdout",
     "output_type": "stream",
     "text": [
      "Intercept: 11277528153.53302\n"
     ]
    },
    {
     "data": {
      "text/plain": [
       "array([-6.78397533e-03,  4.02878261e-03,  1.73845381e+00,  9.14920836e-01,\n",
       "        8.82736302e+09,  8.82736302e+09,  8.82736302e+09,  8.82736302e+09,\n",
       "        8.82736302e+09,  8.82736302e+09,  8.82736302e+09,  8.82736302e+09,\n",
       "        8.82736302e+09,  8.82736302e+09,  8.82736302e+09,  8.82736302e+09,\n",
       "        8.82736302e+09,  8.82736302e+09,  8.82736302e+09,  8.82736302e+09,\n",
       "        8.82736302e+09,  8.82736302e+09,  8.82736302e+09,  8.82736302e+09,\n",
       "        8.82736302e+09,  8.82736302e+09,  8.82736302e+09,  8.82736302e+09,\n",
       "        8.82736302e+09,  8.82736302e+09,  8.82736302e+09,  8.82736302e+09,\n",
       "        8.82736302e+09,  8.82736302e+09,  8.82736302e+09,  8.82736302e+09,\n",
       "        8.82736302e+09,  8.82736302e+09,  8.82736302e+09,  8.82736302e+09,\n",
       "        8.82736302e+09, -1.30975711e+10, -1.30975711e+10, -1.30975711e+10,\n",
       "       -1.30975711e+10, -1.30975711e+10, -1.30975711e+10, -1.30975711e+10,\n",
       "       -1.30975711e+10, -1.30975711e+10, -1.30975711e+10, -1.30975711e+10,\n",
       "       -1.30975711e+10, -1.30975711e+10, -1.30975711e+10, -1.30975711e+10,\n",
       "       -1.01379415e+10, -1.01379415e+10, -1.01379415e+10, -1.01379415e+10,\n",
       "       -1.01379415e+10, -1.01379415e+10, -1.01379415e+10, -1.01379415e+10,\n",
       "       -1.01379415e+10, -1.01379415e+10, -1.01379415e+10, -1.01379415e+10,\n",
       "       -1.01379415e+10, -1.01379415e+10, -1.01379415e+10, -1.01379415e+10,\n",
       "       -1.01379415e+10, -1.01379415e+10, -1.01379415e+10, -1.01379415e+10,\n",
       "       -1.01379415e+10, -1.01379415e+10, -1.01379415e+10,  3.13062144e+09,\n",
       "        3.13062144e+09,  3.13062144e+09,  3.13062144e+09])"
      ]
     },
     "execution_count": 87,
     "metadata": {},
     "output_type": "execute_result"
    }
   ],
   "source": [
    "from sklearn.linear_model import LinearRegression\r\n",
    "mlr = LinearRegression()\r\n",
    "\r\n",
    "# fit the model to the training data\r\n",
    "model = mlr.fit(X_train,y_train)\r\n",
    "\r\n",
    "# print the intercept\r\n",
    "print(\"Intercept: {0:.5f}\".format(model.intercept_))\r\n",
    "model.coef_"
   ]
  },
  {
   "cell_type": "code",
   "execution_count": 89,
   "metadata": {},
   "outputs": [
    {
     "data": {
      "text/html": [
       "<div>\n",
       "<style scoped>\n",
       "    .dataframe tbody tr th:only-of-type {\n",
       "        vertical-align: middle;\n",
       "    }\n",
       "\n",
       "    .dataframe tbody tr th {\n",
       "        vertical-align: top;\n",
       "    }\n",
       "\n",
       "    .dataframe thead th {\n",
       "        text-align: right;\n",
       "    }\n",
       "</style>\n",
       "<table border=\"1\" class=\"dataframe\">\n",
       "  <thead>\n",
       "    <tr style=\"text-align: right;\">\n",
       "      <th></th>\n",
       "      <th>Engine</th>\n",
       "      <th>Cylinders</th>\n",
       "      <th>FC_City</th>\n",
       "      <th>FC_Highway</th>\n",
       "      <th>Acura</th>\n",
       "      <th>Alfa Romeo</th>\n",
       "      <th>Aston Martin</th>\n",
       "      <th>Audi</th>\n",
       "      <th>BMW</th>\n",
       "      <th>Bentley</th>\n",
       "      <th>...</th>\n",
       "      <th>AV6</th>\n",
       "      <th>AV7</th>\n",
       "      <th>AV8</th>\n",
       "      <th>M5</th>\n",
       "      <th>M6</th>\n",
       "      <th>M7</th>\n",
       "      <th>D</th>\n",
       "      <th>E</th>\n",
       "      <th>X</th>\n",
       "      <th>Z</th>\n",
       "    </tr>\n",
       "  </thead>\n",
       "  <tbody>\n",
       "    <tr>\n",
       "      <th>Coefficient</th>\n",
       "      <td>-0.006784</td>\n",
       "      <td>0.004029</td>\n",
       "      <td>1.738454</td>\n",
       "      <td>0.914921</td>\n",
       "      <td>8.827363e+09</td>\n",
       "      <td>8.827363e+09</td>\n",
       "      <td>8.827363e+09</td>\n",
       "      <td>8.827363e+09</td>\n",
       "      <td>8.827363e+09</td>\n",
       "      <td>8.827363e+09</td>\n",
       "      <td>...</td>\n",
       "      <td>-1.013794e+10</td>\n",
       "      <td>-1.013794e+10</td>\n",
       "      <td>-1.013794e+10</td>\n",
       "      <td>-1.013794e+10</td>\n",
       "      <td>-1.013794e+10</td>\n",
       "      <td>-1.013794e+10</td>\n",
       "      <td>3.130621e+09</td>\n",
       "      <td>3.130621e+09</td>\n",
       "      <td>3.130621e+09</td>\n",
       "      <td>3.130621e+09</td>\n",
       "    </tr>\n",
       "  </tbody>\n",
       "</table>\n",
       "<p>1 rows × 83 columns</p>\n",
       "</div>"
      ],
      "text/plain": [
       "               Engine  Cylinders   FC_City  FC_Highway         Acura  \\\n",
       "Coefficient -0.006784   0.004029  1.738454    0.914921  8.827363e+09   \n",
       "\n",
       "               Alfa Romeo  Aston Martin          Audi           BMW  \\\n",
       "Coefficient  8.827363e+09  8.827363e+09  8.827363e+09  8.827363e+09   \n",
       "\n",
       "                  Bentley  ...           AV6           AV7           AV8  \\\n",
       "Coefficient  8.827363e+09  ... -1.013794e+10 -1.013794e+10 -1.013794e+10   \n",
       "\n",
       "                       M5            M6            M7             D  \\\n",
       "Coefficient -1.013794e+10 -1.013794e+10 -1.013794e+10  3.130621e+09   \n",
       "\n",
       "                        E             X             Z  \n",
       "Coefficient  3.130621e+09  3.130621e+09  3.130621e+09  \n",
       "\n",
       "[1 rows x 83 columns]"
      ]
     },
     "execution_count": 89,
     "metadata": {},
     "output_type": "execute_result"
    }
   ],
   "source": [
    "# Let's see the coefficient\r\n",
    "coeff_df = pd.DataFrame(mlr.coef_, X_test.columns, columns=['Coefficient'])\r\n",
    "coeff_df.T"
   ]
  },
  {
   "cell_type": "markdown",
   "metadata": {},
   "source": [
    "## **Prediction**\r\n",
    "######################################################################################################################"
   ]
  },
  {
   "cell_type": "code",
   "execution_count": 91,
   "metadata": {},
   "outputs": [
    {
     "data": {
      "text/html": [
       "<div>\n",
       "<style scoped>\n",
       "    .dataframe tbody tr th:only-of-type {\n",
       "        vertical-align: middle;\n",
       "    }\n",
       "\n",
       "    .dataframe tbody tr th {\n",
       "        vertical-align: top;\n",
       "    }\n",
       "\n",
       "    .dataframe thead th {\n",
       "        text-align: right;\n",
       "    }\n",
       "</style>\n",
       "<table border=\"1\" class=\"dataframe\">\n",
       "  <thead>\n",
       "    <tr style=\"text-align: right;\">\n",
       "      <th></th>\n",
       "      <th>284</th>\n",
       "      <th>442</th>\n",
       "      <th>39</th>\n",
       "      <th>425</th>\n",
       "      <th>596</th>\n",
       "      <th>817</th>\n",
       "      <th>348</th>\n",
       "      <th>848</th>\n",
       "      <th>592</th>\n",
       "      <th>548</th>\n",
       "      <th>...</th>\n",
       "      <th>368</th>\n",
       "      <th>97</th>\n",
       "      <th>202</th>\n",
       "      <th>582</th>\n",
       "      <th>864</th>\n",
       "      <th>440</th>\n",
       "      <th>820</th>\n",
       "      <th>25</th>\n",
       "      <th>84</th>\n",
       "      <th>10</th>\n",
       "    </tr>\n",
       "  </thead>\n",
       "  <tbody>\n",
       "    <tr>\n",
       "      <th>Actual</th>\n",
       "      <td>10.000000</td>\n",
       "      <td>4.200000</td>\n",
       "      <td>14.100000</td>\n",
       "      <td>9.600000</td>\n",
       "      <td>8.800000</td>\n",
       "      <td>16.700000</td>\n",
       "      <td>9.500000</td>\n",
       "      <td>9.400000</td>\n",
       "      <td>8.3000</td>\n",
       "      <td>9.500000</td>\n",
       "      <td>...</td>\n",
       "      <td>13.800000</td>\n",
       "      <td>12.000000</td>\n",
       "      <td>15.700000</td>\n",
       "      <td>13.200000</td>\n",
       "      <td>8.400000</td>\n",
       "      <td>7.800000</td>\n",
       "      <td>16.300000</td>\n",
       "      <td>9.200000</td>\n",
       "      <td>9.800000</td>\n",
       "      <td>9.600000</td>\n",
       "    </tr>\n",
       "    <tr>\n",
       "      <th>Predicted</th>\n",
       "      <td>10.053572</td>\n",
       "      <td>4.204779</td>\n",
       "      <td>14.047308</td>\n",
       "      <td>9.558071</td>\n",
       "      <td>8.858755</td>\n",
       "      <td>16.630398</td>\n",
       "      <td>9.497738</td>\n",
       "      <td>9.358465</td>\n",
       "      <td>8.3326</td>\n",
       "      <td>9.454794</td>\n",
       "      <td>...</td>\n",
       "      <td>13.821461</td>\n",
       "      <td>12.073896</td>\n",
       "      <td>15.728525</td>\n",
       "      <td>13.220062</td>\n",
       "      <td>8.455923</td>\n",
       "      <td>7.848385</td>\n",
       "      <td>16.300638</td>\n",
       "      <td>9.170712</td>\n",
       "      <td>9.780439</td>\n",
       "      <td>9.653145</td>\n",
       "    </tr>\n",
       "  </tbody>\n",
       "</table>\n",
       "<p>2 rows × 178 columns</p>\n",
       "</div>"
      ],
      "text/plain": [
       "                 284       442        39        425       596        817  \\\n",
       "Actual     10.000000  4.200000  14.100000  9.600000  8.800000  16.700000   \n",
       "Predicted  10.053572  4.204779  14.047308  9.558071  8.858755  16.630398   \n",
       "\n",
       "                348       848     592       548  ...        368        97   \\\n",
       "Actual     9.500000  9.400000  8.3000  9.500000  ...  13.800000  12.000000   \n",
       "Predicted  9.497738  9.358465  8.3326  9.454794  ...  13.821461  12.073896   \n",
       "\n",
       "                 202        582       864       440        820       25   \\\n",
       "Actual     15.700000  13.200000  8.400000  7.800000  16.300000  9.200000   \n",
       "Predicted  15.728525  13.220062  8.455923  7.848385  16.300638  9.170712   \n",
       "\n",
       "                84        10   \n",
       "Actual     9.800000  9.600000  \n",
       "Predicted  9.780439  9.653145  \n",
       "\n",
       "[2 rows x 178 columns]"
      ]
     },
     "execution_count": 91,
     "metadata": {},
     "output_type": "execute_result"
    }
   ],
   "source": [
    "# Making predictions using the model\r\n",
    "y_pred = mlr.predict(X_test)\r\n",
    "\r\n",
    "df_pred = pd.DataFrame({'Actual': y_test, 'Predicted': y_pred})\r\n",
    "df_pred.T"
   ]
  },
  {
   "cell_type": "markdown",
   "metadata": {},
   "source": [
    "## **Evaluation**\r\n",
    "######################################################################################################################"
   ]
  },
  {
   "cell_type": "code",
   "execution_count": 94,
   "metadata": {},
   "outputs": [
    {
     "name": "stdout",
     "output_type": "stream",
     "text": [
      "Mean Absolute Error: 0.03219\n",
      "Mean Squared Error: 0.00210\n",
      "Root Mean Squared Error: 0.04580\n",
      "\n",
      "R-Squared Value: 0.99965\n"
     ]
    }
   ],
   "source": [
    "# Calculating error terms\r\n",
    "from sklearn.metrics import mean_absolute_error, mean_squared_error, r2_score\r\n",
    "\r\n",
    "mae = mean_absolute_error(y_test, y_pred)\r\n",
    "mse = mean_squared_error(y_test, y_pred)\r\n",
    "rmse = np.sqrt(mean_squared_error(y_test, y_pred))\r\n",
    "r_squared = r2_score(y_test, y_pred)\r\n",
    "\r\n",
    "print('Mean Absolute Error: {0:.5f}'.format(mae))  \r\n",
    "print('Mean Squared Error: {0:.5f}'.format(mse))  \r\n",
    "print('Root Mean Squared Error: {0:.5f}'.format(rmse))\r\n",
    "\r\n",
    "print('\\nR-Squared Value: {0:.5f}'.format(r_squared))\r\n"
   ]
  }
 ],
 "metadata": {
  "interpreter": {
   "hash": "90fbebc59edbfa4bc7f807b5b75d61a245d791400c308c72c68befd4fafec827"
  },
  "kernelspec": {
   "display_name": "Python 3.8.5 64-bit ('Python': virtualenv)",
   "name": "python3"
  },
  "language_info": {
   "codemirror_mode": {
    "name": "ipython",
    "version": 3
   },
   "file_extension": ".py",
   "mimetype": "text/x-python",
   "name": "python",
   "nbconvert_exporter": "python",
   "pygments_lexer": "ipython3",
   "version": "3.8.5"
  },
  "orig_nbformat": 4
 },
 "nbformat": 4,
 "nbformat_minor": 2
}