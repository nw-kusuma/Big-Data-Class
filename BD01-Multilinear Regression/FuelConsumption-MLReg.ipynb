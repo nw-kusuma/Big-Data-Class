{
 "cells": [
  {
   "cell_type": "markdown",
   "source": [
    "***\r\n",
    "# **Libraries**\r\n",
    "***\r\n",
    "Import needed common libraries"
   ],
   "metadata": {}
  },
  {
   "cell_type": "code",
   "execution_count": 66,
   "source": [
    "import numpy as np\r\n",
    "import pandas as pd\r\n",
    "import seaborn as sns\r\n",
    "\r\n",
    "import matplotlib.pyplot as plt\r\n",
    "%matplotlib inline \r\n",
    "\r\n",
    "plt.style.use('bmh')\r\n",
    "sns.set_style('whitegrid')\r\n",
    "pd.set_option('display.float', '{:.2f}'.format)"
   ],
   "outputs": [],
   "metadata": {}
  },
  {
   "cell_type": "markdown",
   "source": [
    "***\r\n",
    "# **Data Understanding**\r\n",
    "***\r\n",
    "\r\n",
    "## **Data Information:**\r\n",
    "I have downloaded a fuel consumption dataset from Canada Open Data repository, [Dataset source](http://open.canada.ca/data/en/dataset/98f1a129-f628-4ce4-b24d-6f16bf24dd64).\r\n",
    "\r\n",
    "Its contains vehicle's fuel consumption ratings and carbon dioxide (CO2) emissions for retail sale in Canada. \r\n",
    "\r\n",
    "## **Understanding the table**\t\r\n",
    "01. **Year:** Vehicle's model year (2021)\r\n",
    "02. **Make:** Vehicle's makes (i.e. brands)\r\n",
    "03. **Model:** 4WD/4X4 = *Four-wheel drive*, AWD = *All-wheel drive*, FFV = *Flexible-fuel vehicle*, SWB = *Short wheelbase*, LWB = *Long wheelbase*, EWB = *Extended wheelbase*\r\n",
    "04. **Class:** Vehicle's classes (i.e. SUV, Van, Pickup, Compact, etc)\r\n",
    "05. **Transmission:** A = *automatic*, AM = *automated manual*, AS = *automatic with select shift*, AV = *continuously variable*, M = *manual*, 3 – 10 = *Number of gears*\r\n",
    "\r\n",
    "06. **Fuel type:** X = *regular gasoline*, Z = *premium gasoline*, D = *diesel*, E = *ethanol (E85)*, N = *natural gas*\r\n",
    "\r\n",
    "07. **Fuel consumption:** *City* and *highway* fuel consumption ratings are shown in litres per 100 kilometres (L/100 km), The combined rating (55% city, 45% hwy) is shown in L/100 km and in miles per imperial gallon (mpg)\r\n",
    "\r\n",
    "08. **CO2 emissions:** The tailpipe emissions of carbon dioxide (in grams per kilometre) for combined city and highway driving\r\n",
    "\r\n",
    "09. **CO2 rating:** The tailpipe emissions of carbon dioxide rated on a scale from 1 (worst) to 10 (best)\r\n",
    "\r\n",
    "10. **Smog rating:** The tailpipe emissions of smog-forming pollutants rated on a scale from 1 (worst) to 10 (best)\r\n",
    "\r\n",
    "## **Load dataset:**  \r\n",
    "## `MY2021 Fuel Consumption Ratings.csv`"
   ],
   "metadata": {}
  },
  {
   "cell_type": "code",
   "execution_count": 67,
   "source": [
    "df = pd.read_csv(\"../BD00-Datasets/csv-datasets/MY2021-FuelConsumptionRatings.csv\")\r\n",
    "df.info();"
   ],
   "outputs": [
    {
     "output_type": "stream",
     "name": "stdout",
     "text": [
      "<class 'pandas.core.frame.DataFrame'>\n",
      "RangeIndex: 917 entries, 0 to 916\n",
      "Data columns (total 15 columns):\n",
      " #   Column         Non-Null Count  Dtype  \n",
      "---  ------         --------------  -----  \n",
      " 0   Year           917 non-null    int64  \n",
      " 1   Make           917 non-null    object \n",
      " 2   Model          917 non-null    object \n",
      " 3   Class          917 non-null    object \n",
      " 4   Engine         917 non-null    float64\n",
      " 5   Cylinders      917 non-null    int64  \n",
      " 6   Transmission   917 non-null    object \n",
      " 7   Fuel           917 non-null    object \n",
      " 8   FC_City        917 non-null    float64\n",
      " 9   FC_Highway     917 non-null    float64\n",
      " 10  FC_Comb        917 non-null    float64\n",
      " 11  FC_MPG         917 non-null    int64  \n",
      " 12  CO2_Emissions  917 non-null    int64  \n",
      " 13  CO2_Ratings    917 non-null    int64  \n",
      " 14  Smog_Rating    917 non-null    int64  \n",
      "dtypes: float64(4), int64(6), object(5)\n",
      "memory usage: 107.6+ KB\n"
     ]
    }
   ],
   "metadata": {}
  },
  {
   "cell_type": "markdown",
   "source": [
    "***\r\n",
    "# **Exploratory Data Analysys (EDA)**\r\n",
    "***\r\n",
    "### **Data Exploration**"
   ],
   "metadata": {}
  },
  {
   "cell_type": "code",
   "execution_count": 68,
   "source": [
    "print(\"The first 5 rows of the dataset:\")\r\n",
    "df.head()"
   ],
   "outputs": [
    {
     "output_type": "stream",
     "name": "stdout",
     "text": [
      "The first 5 rows of the dataset:\n"
     ]
    },
    {
     "output_type": "execute_result",
     "data": {
      "text/plain": [
       "   Year   Make              Model       Class  Engine  Cylinders Transmission  \\\n",
       "0  2021  Acura                ILX     Compact    2.40          4          AM8   \n",
       "1  2021  Acura                NSX  Two-seater    3.50          6          AM9   \n",
       "2  2021  Acura         RDX SH-AWD  SUV: Small    2.00          4         AS10   \n",
       "3  2021  Acura  RDX SH-AWD A-SPEC  SUV: Small    2.00          4         AS10   \n",
       "4  2021  Acura         TLX SH-AWD     Compact    2.00          4         AS10   \n",
       "\n",
       "  Fuel  FC_City  FC_Highway  FC_Comb  FC_MPG  CO2_Emissions  CO2_Ratings  \\\n",
       "0    Z     9.90        7.00     8.60      33            199            6   \n",
       "1    Z    11.10       10.80    11.00      26            256            4   \n",
       "2    Z    11.00        8.60     9.90      29            232            5   \n",
       "3    Z    11.30        9.10    10.30      27            242            5   \n",
       "4    Z    11.20        8.00     9.80      29            230            5   \n",
       "\n",
       "   Smog_Rating  \n",
       "0            3  \n",
       "1            3  \n",
       "2            6  \n",
       "3            6  \n",
       "4            7  "
      ],
      "text/html": [
       "<div>\n",
       "<style scoped>\n",
       "    .dataframe tbody tr th:only-of-type {\n",
       "        vertical-align: middle;\n",
       "    }\n",
       "\n",
       "    .dataframe tbody tr th {\n",
       "        vertical-align: top;\n",
       "    }\n",
       "\n",
       "    .dataframe thead th {\n",
       "        text-align: right;\n",
       "    }\n",
       "</style>\n",
       "<table border=\"1\" class=\"dataframe\">\n",
       "  <thead>\n",
       "    <tr style=\"text-align: right;\">\n",
       "      <th></th>\n",
       "      <th>Year</th>\n",
       "      <th>Make</th>\n",
       "      <th>Model</th>\n",
       "      <th>Class</th>\n",
       "      <th>Engine</th>\n",
       "      <th>Cylinders</th>\n",
       "      <th>Transmission</th>\n",
       "      <th>Fuel</th>\n",
       "      <th>FC_City</th>\n",
       "      <th>FC_Highway</th>\n",
       "      <th>FC_Comb</th>\n",
       "      <th>FC_MPG</th>\n",
       "      <th>CO2_Emissions</th>\n",
       "      <th>CO2_Ratings</th>\n",
       "      <th>Smog_Rating</th>\n",
       "    </tr>\n",
       "  </thead>\n",
       "  <tbody>\n",
       "    <tr>\n",
       "      <th>0</th>\n",
       "      <td>2021</td>\n",
       "      <td>Acura</td>\n",
       "      <td>ILX</td>\n",
       "      <td>Compact</td>\n",
       "      <td>2.40</td>\n",
       "      <td>4</td>\n",
       "      <td>AM8</td>\n",
       "      <td>Z</td>\n",
       "      <td>9.90</td>\n",
       "      <td>7.00</td>\n",
       "      <td>8.60</td>\n",
       "      <td>33</td>\n",
       "      <td>199</td>\n",
       "      <td>6</td>\n",
       "      <td>3</td>\n",
       "    </tr>\n",
       "    <tr>\n",
       "      <th>1</th>\n",
       "      <td>2021</td>\n",
       "      <td>Acura</td>\n",
       "      <td>NSX</td>\n",
       "      <td>Two-seater</td>\n",
       "      <td>3.50</td>\n",
       "      <td>6</td>\n",
       "      <td>AM9</td>\n",
       "      <td>Z</td>\n",
       "      <td>11.10</td>\n",
       "      <td>10.80</td>\n",
       "      <td>11.00</td>\n",
       "      <td>26</td>\n",
       "      <td>256</td>\n",
       "      <td>4</td>\n",
       "      <td>3</td>\n",
       "    </tr>\n",
       "    <tr>\n",
       "      <th>2</th>\n",
       "      <td>2021</td>\n",
       "      <td>Acura</td>\n",
       "      <td>RDX SH-AWD</td>\n",
       "      <td>SUV: Small</td>\n",
       "      <td>2.00</td>\n",
       "      <td>4</td>\n",
       "      <td>AS10</td>\n",
       "      <td>Z</td>\n",
       "      <td>11.00</td>\n",
       "      <td>8.60</td>\n",
       "      <td>9.90</td>\n",
       "      <td>29</td>\n",
       "      <td>232</td>\n",
       "      <td>5</td>\n",
       "      <td>6</td>\n",
       "    </tr>\n",
       "    <tr>\n",
       "      <th>3</th>\n",
       "      <td>2021</td>\n",
       "      <td>Acura</td>\n",
       "      <td>RDX SH-AWD A-SPEC</td>\n",
       "      <td>SUV: Small</td>\n",
       "      <td>2.00</td>\n",
       "      <td>4</td>\n",
       "      <td>AS10</td>\n",
       "      <td>Z</td>\n",
       "      <td>11.30</td>\n",
       "      <td>9.10</td>\n",
       "      <td>10.30</td>\n",
       "      <td>27</td>\n",
       "      <td>242</td>\n",
       "      <td>5</td>\n",
       "      <td>6</td>\n",
       "    </tr>\n",
       "    <tr>\n",
       "      <th>4</th>\n",
       "      <td>2021</td>\n",
       "      <td>Acura</td>\n",
       "      <td>TLX SH-AWD</td>\n",
       "      <td>Compact</td>\n",
       "      <td>2.00</td>\n",
       "      <td>4</td>\n",
       "      <td>AS10</td>\n",
       "      <td>Z</td>\n",
       "      <td>11.20</td>\n",
       "      <td>8.00</td>\n",
       "      <td>9.80</td>\n",
       "      <td>29</td>\n",
       "      <td>230</td>\n",
       "      <td>5</td>\n",
       "      <td>7</td>\n",
       "    </tr>\n",
       "  </tbody>\n",
       "</table>\n",
       "</div>"
      ]
     },
     "metadata": {},
     "execution_count": 68
    }
   ],
   "metadata": {}
  },
  {
   "cell_type": "code",
   "execution_count": 69,
   "source": [
    "print(\"The count of each column\\'s distinct values:\")\r\n",
    "df.nunique()"
   ],
   "outputs": [
    {
     "output_type": "stream",
     "name": "stdout",
     "text": [
      "The count of each column's distinct values:\n"
     ]
    },
    {
     "output_type": "execute_result",
     "data": {
      "text/plain": [
       "Year               1\n",
       "Make              38\n",
       "Model            690\n",
       "Class             15\n",
       "Engine            37\n",
       "Cylinders          8\n",
       "Transmission      23\n",
       "Fuel               4\n",
       "FC_City          145\n",
       "FC_Highway       108\n",
       "FC_Comb          129\n",
       "FC_MPG            49\n",
       "CO2_Emissions    235\n",
       "CO2_Ratings       10\n",
       "Smog_Rating        5\n",
       "dtype: int64"
      ]
     },
     "metadata": {},
     "execution_count": 69
    }
   ],
   "metadata": {}
  },
  {
   "cell_type": "code",
   "execution_count": 70,
   "source": [
    "print(\"Table's summary description:\")\r\n",
    "df.describe().T"
   ],
   "outputs": [
    {
     "output_type": "stream",
     "name": "stdout",
     "text": [
      "Table's summary description:\n"
     ]
    },
    {
     "output_type": "execute_result",
     "data": {
      "text/plain": [
       "               count    mean   std     min     25%     50%     75%     max\n",
       "Year          917.00 2021.00  0.00 2021.00 2021.00 2021.00 2021.00 2021.00\n",
       "Engine        917.00    3.20  1.39    1.00    2.00    3.00    4.00    8.00\n",
       "Cylinders     917.00    5.69  1.98    3.00    4.00    6.00    8.00   16.00\n",
       "FC_City       917.00   12.44  3.48    4.00   10.10   12.00   14.70   30.30\n",
       "FC_Highway    917.00    9.26  2.20    3.90    7.70    9.00   10.70   20.90\n",
       "FC_Comb       917.00   11.01  2.86    4.00    9.10   10.60   12.90   26.10\n",
       "FC_MPG        917.00   27.47  7.74   11.00   22.00   27.00   31.00   71.00\n",
       "CO2_Emissions 917.00  257.52 64.49   94.00  212.00  253.00  301.00  608.00\n",
       "CO2_Ratings   917.00    4.38  1.64    1.00    3.00    4.00    5.00   10.00\n",
       "Smog_Rating   917.00    4.71  1.72    1.00    3.00    5.00    6.00    7.00"
      ],
      "text/html": [
       "<div>\n",
       "<style scoped>\n",
       "    .dataframe tbody tr th:only-of-type {\n",
       "        vertical-align: middle;\n",
       "    }\n",
       "\n",
       "    .dataframe tbody tr th {\n",
       "        vertical-align: top;\n",
       "    }\n",
       "\n",
       "    .dataframe thead th {\n",
       "        text-align: right;\n",
       "    }\n",
       "</style>\n",
       "<table border=\"1\" class=\"dataframe\">\n",
       "  <thead>\n",
       "    <tr style=\"text-align: right;\">\n",
       "      <th></th>\n",
       "      <th>count</th>\n",
       "      <th>mean</th>\n",
       "      <th>std</th>\n",
       "      <th>min</th>\n",
       "      <th>25%</th>\n",
       "      <th>50%</th>\n",
       "      <th>75%</th>\n",
       "      <th>max</th>\n",
       "    </tr>\n",
       "  </thead>\n",
       "  <tbody>\n",
       "    <tr>\n",
       "      <th>Year</th>\n",
       "      <td>917.00</td>\n",
       "      <td>2021.00</td>\n",
       "      <td>0.00</td>\n",
       "      <td>2021.00</td>\n",
       "      <td>2021.00</td>\n",
       "      <td>2021.00</td>\n",
       "      <td>2021.00</td>\n",
       "      <td>2021.00</td>\n",
       "    </tr>\n",
       "    <tr>\n",
       "      <th>Engine</th>\n",
       "      <td>917.00</td>\n",
       "      <td>3.20</td>\n",
       "      <td>1.39</td>\n",
       "      <td>1.00</td>\n",
       "      <td>2.00</td>\n",
       "      <td>3.00</td>\n",
       "      <td>4.00</td>\n",
       "      <td>8.00</td>\n",
       "    </tr>\n",
       "    <tr>\n",
       "      <th>Cylinders</th>\n",
       "      <td>917.00</td>\n",
       "      <td>5.69</td>\n",
       "      <td>1.98</td>\n",
       "      <td>3.00</td>\n",
       "      <td>4.00</td>\n",
       "      <td>6.00</td>\n",
       "      <td>8.00</td>\n",
       "      <td>16.00</td>\n",
       "    </tr>\n",
       "    <tr>\n",
       "      <th>FC_City</th>\n",
       "      <td>917.00</td>\n",
       "      <td>12.44</td>\n",
       "      <td>3.48</td>\n",
       "      <td>4.00</td>\n",
       "      <td>10.10</td>\n",
       "      <td>12.00</td>\n",
       "      <td>14.70</td>\n",
       "      <td>30.30</td>\n",
       "    </tr>\n",
       "    <tr>\n",
       "      <th>FC_Highway</th>\n",
       "      <td>917.00</td>\n",
       "      <td>9.26</td>\n",
       "      <td>2.20</td>\n",
       "      <td>3.90</td>\n",
       "      <td>7.70</td>\n",
       "      <td>9.00</td>\n",
       "      <td>10.70</td>\n",
       "      <td>20.90</td>\n",
       "    </tr>\n",
       "    <tr>\n",
       "      <th>FC_Comb</th>\n",
       "      <td>917.00</td>\n",
       "      <td>11.01</td>\n",
       "      <td>2.86</td>\n",
       "      <td>4.00</td>\n",
       "      <td>9.10</td>\n",
       "      <td>10.60</td>\n",
       "      <td>12.90</td>\n",
       "      <td>26.10</td>\n",
       "    </tr>\n",
       "    <tr>\n",
       "      <th>FC_MPG</th>\n",
       "      <td>917.00</td>\n",
       "      <td>27.47</td>\n",
       "      <td>7.74</td>\n",
       "      <td>11.00</td>\n",
       "      <td>22.00</td>\n",
       "      <td>27.00</td>\n",
       "      <td>31.00</td>\n",
       "      <td>71.00</td>\n",
       "    </tr>\n",
       "    <tr>\n",
       "      <th>CO2_Emissions</th>\n",
       "      <td>917.00</td>\n",
       "      <td>257.52</td>\n",
       "      <td>64.49</td>\n",
       "      <td>94.00</td>\n",
       "      <td>212.00</td>\n",
       "      <td>253.00</td>\n",
       "      <td>301.00</td>\n",
       "      <td>608.00</td>\n",
       "    </tr>\n",
       "    <tr>\n",
       "      <th>CO2_Ratings</th>\n",
       "      <td>917.00</td>\n",
       "      <td>4.38</td>\n",
       "      <td>1.64</td>\n",
       "      <td>1.00</td>\n",
       "      <td>3.00</td>\n",
       "      <td>4.00</td>\n",
       "      <td>5.00</td>\n",
       "      <td>10.00</td>\n",
       "    </tr>\n",
       "    <tr>\n",
       "      <th>Smog_Rating</th>\n",
       "      <td>917.00</td>\n",
       "      <td>4.71</td>\n",
       "      <td>1.72</td>\n",
       "      <td>1.00</td>\n",
       "      <td>3.00</td>\n",
       "      <td>5.00</td>\n",
       "      <td>6.00</td>\n",
       "      <td>7.00</td>\n",
       "    </tr>\n",
       "  </tbody>\n",
       "</table>\n",
       "</div>"
      ]
     },
     "metadata": {},
     "execution_count": 70
    }
   ],
   "metadata": {}
  },
  {
   "cell_type": "code",
   "execution_count": 71,
   "source": [
    "print(\"The sum of missing values:\")\r\n",
    "df.isna().sum()"
   ],
   "outputs": [
    {
     "output_type": "stream",
     "name": "stdout",
     "text": [
      "The sum of missing values:\n"
     ]
    },
    {
     "output_type": "execute_result",
     "data": {
      "text/plain": [
       "Year             0\n",
       "Make             0\n",
       "Model            0\n",
       "Class            0\n",
       "Engine           0\n",
       "Cylinders        0\n",
       "Transmission     0\n",
       "Fuel             0\n",
       "FC_City          0\n",
       "FC_Highway       0\n",
       "FC_Comb          0\n",
       "FC_MPG           0\n",
       "CO2_Emissions    0\n",
       "CO2_Ratings      0\n",
       "Smog_Rating      0\n",
       "dtype: int64"
      ]
     },
     "metadata": {},
     "execution_count": 71
    }
   ],
   "metadata": {}
  },
  {
   "cell_type": "markdown",
   "source": [
    "***\r\n",
    "# **Data Preparation**\r\n",
    "***\r\n",
    "## **Outliers Analysis:** \r\n",
    "### Continuous features check"
   ],
   "metadata": {}
  },
  {
   "cell_type": "code",
   "execution_count": 72,
   "source": [
    "sns.pairplot(df, x_vars= ['Engine', 'Cylinders', 'FC_City', 'FC_Highway'], \r\n",
    "                 y_vars='FC_Comb', height=7, aspect=0.7, kind='scatter', diag_kind=None);\r\n",
    "#sns.pairplot(df, kind='kde', height=1.5);"
   ],
   "outputs": [
    {
     "output_type": "display_data",
     "data": {
      "text/plain": [
       "<Figure size 1411.2x504 with 4 Axes>"
      ],
      "image/png": "[encoded data removed]"
     },
     "metadata": {}
    }
   ],
   "metadata": {}
  },
  {
   "cell_type": "code",
   "execution_count": 73,
   "source": [
    "print(f\"The skewness of vehicle's engine volume: {df['Engine'].skew():.5f}\")\r\n",
    "sns.boxplot(x='Engine', data=df);"
   ],
   "outputs": [
    {
     "output_type": "stream",
     "name": "stdout",
     "text": [
      "The skewness of vehicle's engine volume: 0.90168\n"
     ]
    },
    {
     "output_type": "display_data",
     "data": {
      "text/plain": [
       "<Figure size 432x288 with 1 Axes>"
      ],
      "image/png": "[encoded data removed]"
     },
     "metadata": {}
    }
   ],
   "metadata": {}
  },
  {
   "cell_type": "code",
   "execution_count": 74,
   "source": [
    "print(f\"The skewness of vehicle's cylinders amount: {df['Cylinders'].skew():.5f}\")\r\n",
    "sns.boxplot(x='Cylinders', data=df);"
   ],
   "outputs": [
    {
     "output_type": "stream",
     "name": "stdout",
     "text": [
      "The skewness of vehicle's cylinders amount: 1.15968\n"
     ]
    },
    {
     "output_type": "display_data",
     "data": {
      "text/plain": [
       "<Figure size 432x288 with 1 Axes>"
      ],
      "image/png": "[encoded data removed]"
     },
     "metadata": {}
    }
   ],
   "metadata": {}
  },
  {
   "cell_type": "code",
   "execution_count": 75,
   "source": [
    "print(f\"The skewness of fuel consumption in city driving: {df['FC_City'].skew():.5f}\")\r\n",
    "sns.boxplot(x='FC_City', data=df);"
   ],
   "outputs": [
    {
     "output_type": "stream",
     "name": "stdout",
     "text": [
      "The skewness of fuel consumption in city driving: 0.78434\n"
     ]
    },
    {
     "output_type": "display_data",
     "data": {
      "text/plain": [
       "<Figure size 432x288 with 1 Axes>"
      ],
      "image/png": "[encoded data removed]"
     },
     "metadata": {}
    }
   ],
   "metadata": {}
  },
  {
   "cell_type": "code",
   "execution_count": 76,
   "source": [
    "print(f\"The skewness of fuel consumption in highway driving: {df['FC_Highway'].skew():.5f}\")\r\n",
    "sns.boxplot(x='FC_Highway', data=df);"
   ],
   "outputs": [
    {
     "output_type": "stream",
     "name": "stdout",
     "text": [
      "The skewness of fuel consumption in highway driving: 0.68804\n"
     ]
    },
    {
     "output_type": "display_data",
     "data": {
      "text/plain": [
       "<Figure size 432x288 with 1 Axes>"
      ],
      "image/png": "[encoded data removed]"
     },
     "metadata": {}
    }
   ],
   "metadata": {}
  },
  {
   "cell_type": "markdown",
   "source": [
    "### **Removing outliers**\r\n",
    "***"
   ],
   "metadata": {}
  },
  {
   "cell_type": "code",
   "execution_count": 77,
   "source": [
    "cdf = ['Engine', 'Cylinders', 'FC_City', 'FC_Highway']"
   ],
   "outputs": [],
   "metadata": {}
  },
  {
   "cell_type": "code",
   "execution_count": 78,
   "source": [
    "for i in cdf:\r\n",
    "    print(f\"Min & Max values of {i}:\")\r\n",
    "    q75, q25 = np.percentile(df.loc[:, i], [75, 25])\r\n",
    "    iqr = q75 - q25\r\n",
    "\r\n",
    "    min = q25 - (iqr*1.5)\r\n",
    "    max = q75 + (iqr*1.5)\r\n",
    "    print(F\"Min: {min:.5f}\")\r\n",
    "    print(f\"Max: {max:.5f}\\n{'-'*45}\")\r\n",
    "    \r\n",
    "    df = df.drop(df[df.loc[:, i] < min].index)\r\n",
    "    df = df.drop(df[df.loc[:, i] > max].index)"
   ],
   "outputs": [
    {
     "output_type": "stream",
     "name": "stdout",
     "text": [
      "Min & Max values of Engine:\n",
      "Min: -1.00000\n",
      "Max: 7.00000\n",
      "---------------------------------------------\n",
      "Min & Max values of Cylinders:\n",
      "Min: -2.00000\n",
      "Max: 14.00000\n",
      "---------------------------------------------\n",
      "Min & Max values of FC_City:\n",
      "Min: 3.20000\n",
      "Max: 21.60000\n",
      "---------------------------------------------\n",
      "Min & Max values of FC_Highway:\n",
      "Min: 3.35000\n",
      "Max: 14.95000\n",
      "---------------------------------------------\n"
     ]
    }
   ],
   "metadata": {}
  },
  {
   "cell_type": "code",
   "execution_count": 79,
   "source": [
    "print(\"The updated first 5 rows of the dataset:\")\r\n",
    "df.describe().T"
   ],
   "outputs": [
    {
     "output_type": "stream",
     "name": "stdout",
     "text": [
      "The updated first 5 rows of the dataset:\n"
     ]
    },
    {
     "output_type": "execute_result",
     "data": {
      "text/plain": [
       "               count    mean   std     min     25%     50%     75%     max\n",
       "Year          903.00 2021.00  0.00 2021.00 2021.00 2021.00 2021.00 2021.00\n",
       "Engine        903.00    3.16  1.36    1.00    2.00    3.00    4.00    6.70\n",
       "Cylinders     903.00    5.63  1.88    3.00    4.00    6.00    6.00   12.00\n",
       "FC_City       903.00   12.26  3.15    4.00   10.10   12.00   14.45   21.50\n",
       "FC_Highway    903.00    9.15  2.01    3.90    7.70    8.90   10.50   14.50\n",
       "FC_Comb       903.00   10.86  2.59    4.00    9.00   10.60   12.70   18.30\n",
       "FC_MPG        903.00   27.68  7.61   15.00   22.00   27.00   31.00   71.00\n",
       "CO2_Emissions 903.00  254.87 60.05   94.00  211.00  252.00  298.50  413.00\n",
       "CO2_Ratings   903.00    4.42  1.62    1.00    3.00    4.00    5.00   10.00\n",
       "Smog_Rating   903.00    4.76  1.69    1.00    3.00    5.00    6.00    7.00"
      ],
      "text/html": [
       "<div>\n",
       "<style scoped>\n",
       "    .dataframe tbody tr th:only-of-type {\n",
       "        vertical-align: middle;\n",
       "    }\n",
       "\n",
       "    .dataframe tbody tr th {\n",
       "        vertical-align: top;\n",
       "    }\n",
       "\n",
       "    .dataframe thead th {\n",
       "        text-align: right;\n",
       "    }\n",
       "</style>\n",
       "<table border=\"1\" class=\"dataframe\">\n",
       "  <thead>\n",
       "    <tr style=\"text-align: right;\">\n",
       "      <th></th>\n",
       "      <th>count</th>\n",
       "      <th>mean</th>\n",
       "      <th>std</th>\n",
       "      <th>min</th>\n",
       "      <th>25%</th>\n",
       "      <th>50%</th>\n",
       "      <th>75%</th>\n",
       "      <th>max</th>\n",
       "    </tr>\n",
       "  </thead>\n",
       "  <tbody>\n",
       "    <tr>\n",
       "      <th>Year</th>\n",
       "      <td>903.00</td>\n",
       "      <td>2021.00</td>\n",
       "      <td>0.00</td>\n",
       "      <td>2021.00</td>\n",
       "      <td>2021.00</td>\n",
       "      <td>2021.00</td>\n",
       "      <td>2021.00</td>\n",
       "      <td>2021.00</td>\n",
       "    </tr>\n",
       "    <tr>\n",
       "      <th>Engine</th>\n",
       "      <td>903.00</td>\n",
       "      <td>3.16</td>\n",
       "      <td>1.36</td>\n",
       "      <td>1.00</td>\n",
       "      <td>2.00</td>\n",
       "      <td>3.00</td>\n",
       "      <td>4.00</td>\n",
       "      <td>6.70</td>\n",
       "    </tr>\n",
       "    <tr>\n",
       "      <th>Cylinders</th>\n",
       "      <td>903.00</td>\n",
       "      <td>5.63</td>\n",
       "      <td>1.88</td>\n",
       "      <td>3.00</td>\n",
       "      <td>4.00</td>\n",
       "      <td>6.00</td>\n",
       "      <td>6.00</td>\n",
       "      <td>12.00</td>\n",
       "    </tr>\n",
       "    <tr>\n",
       "      <th>FC_City</th>\n",
       "      <td>903.00</td>\n",
       "      <td>12.26</td>\n",
       "      <td>3.15</td>\n",
       "      <td>4.00</td>\n",
       "      <td>10.10</td>\n",
       "      <td>12.00</td>\n",
       "      <td>14.45</td>\n",
       "      <td>21.50</td>\n",
       "    </tr>\n",
       "    <tr>\n",
       "      <th>FC_Highway</th>\n",
       "      <td>903.00</td>\n",
       "      <td>9.15</td>\n",
       "      <td>2.01</td>\n",
       "      <td>3.90</td>\n",
       "      <td>7.70</td>\n",
       "      <td>8.90</td>\n",
       "      <td>10.50</td>\n",
       "      <td>14.50</td>\n",
       "    </tr>\n",
       "    <tr>\n",
       "      <th>FC_Comb</th>\n",
       "      <td>903.00</td>\n",
       "      <td>10.86</td>\n",
       "      <td>2.59</td>\n",
       "      <td>4.00</td>\n",
       "      <td>9.00</td>\n",
       "      <td>10.60</td>\n",
       "      <td>12.70</td>\n",
       "      <td>18.30</td>\n",
       "    </tr>\n",
       "    <tr>\n",
       "      <th>FC_MPG</th>\n",
       "      <td>903.00</td>\n",
       "      <td>27.68</td>\n",
       "      <td>7.61</td>\n",
       "      <td>15.00</td>\n",
       "      <td>22.00</td>\n",
       "      <td>27.00</td>\n",
       "      <td>31.00</td>\n",
       "      <td>71.00</td>\n",
       "    </tr>\n",
       "    <tr>\n",
       "      <th>CO2_Emissions</th>\n",
       "      <td>903.00</td>\n",
       "      <td>254.87</td>\n",
       "      <td>60.05</td>\n",
       "      <td>94.00</td>\n",
       "      <td>211.00</td>\n",
       "      <td>252.00</td>\n",
       "      <td>298.50</td>\n",
       "      <td>413.00</td>\n",
       "    </tr>\n",
       "    <tr>\n",
       "      <th>CO2_Ratings</th>\n",
       "      <td>903.00</td>\n",
       "      <td>4.42</td>\n",
       "      <td>1.62</td>\n",
       "      <td>1.00</td>\n",
       "      <td>3.00</td>\n",
       "      <td>4.00</td>\n",
       "      <td>5.00</td>\n",
       "      <td>10.00</td>\n",
       "    </tr>\n",
       "    <tr>\n",
       "      <th>Smog_Rating</th>\n",
       "      <td>903.00</td>\n",
       "      <td>4.76</td>\n",
       "      <td>1.69</td>\n",
       "      <td>1.00</td>\n",
       "      <td>3.00</td>\n",
       "      <td>5.00</td>\n",
       "      <td>6.00</td>\n",
       "      <td>7.00</td>\n",
       "    </tr>\n",
       "  </tbody>\n",
       "</table>\n",
       "</div>"
      ]
     },
     "metadata": {},
     "execution_count": 79
    }
   ],
   "metadata": {}
  },
  {
   "cell_type": "markdown",
   "source": [
    "## **Correlation analysis**\r\n",
    "***"
   ],
   "metadata": {}
  },
  {
   "cell_type": "code",
   "execution_count": 80,
   "source": [
    "df_corr = df.loc[:, cdf]\r\n",
    "#Set the width and hieght of the plot\r\n",
    "f, ax = plt.subplots(figsize=(7, 5))\r\n",
    "\r\n",
    "#Generate correlation matrix\r\n",
    "corr = df_corr.corr()\r\n",
    "\r\n",
    "print(f\"Correlations between continuous features:\\n{'-'*55}\\n{corr}\\n{'-'*55}\")\r\n",
    "\r\n",
    "#Plot using seaborn library\r\n",
    "sns.heatmap(corr, mask=np.zeros_like(corr, dtype=bool), \r\n",
    "            cmap=sns.diverging_palette(220, 10, as_cmap=True),\r\n",
    "            square=True, ax=ax, annot=True);"
   ],
   "outputs": [
    {
     "output_type": "stream",
     "name": "stdout",
     "text": [
      "Correlations between continuous features:\n",
      "-------------------------------------------------------\n",
      "            Engine  Cylinders  FC_City  FC_Highway\n",
      "Engine        1.00       0.92     0.84        0.75\n",
      "Cylinders     0.92       1.00     0.84        0.74\n",
      "FC_City       0.84       0.84     1.00        0.92\n",
      "FC_Highway    0.75       0.74     0.92        1.00\n",
      "-------------------------------------------------------\n"
     ]
    },
    {
     "output_type": "display_data",
     "data": {
      "text/plain": [
       "<Figure size 504x360 with 2 Axes>"
      ],
      "image/png": "[encoded data removed]"
     },
     "metadata": {}
    }
   ],
   "metadata": {}
  },
  {
   "cell_type": "markdown",
   "source": [
    "### **Dropping unneeded columns**\r\n",
    "***"
   ],
   "metadata": {}
  },
  {
   "cell_type": "code",
   "execution_count": 81,
   "source": [
    "df = df.drop(['Year', 'Make', 'Model', 'FC_MPG', 'CO2_Emissions', 'CO2_Ratings', 'Smog_Rating'], axis=1)\r\n",
    "\r\n",
    "print(\"The first 5 rows of the reduced dataset:\")\r\n",
    "df.head()"
   ],
   "outputs": [
    {
     "output_type": "stream",
     "name": "stdout",
     "text": [
      "The first 5 rows of the reduced dataset:\n"
     ]
    },
    {
     "output_type": "execute_result",
     "data": {
      "text/plain": [
       "        Class  Engine  Cylinders Transmission Fuel  FC_City  FC_Highway  \\\n",
       "0     Compact    2.40          4          AM8    Z     9.90        7.00   \n",
       "1  Two-seater    3.50          6          AM9    Z    11.10       10.80   \n",
       "2  SUV: Small    2.00          4         AS10    Z    11.00        8.60   \n",
       "3  SUV: Small    2.00          4         AS10    Z    11.30        9.10   \n",
       "4     Compact    2.00          4         AS10    Z    11.20        8.00   \n",
       "\n",
       "   FC_Comb  \n",
       "0     8.60  \n",
       "1    11.00  \n",
       "2     9.90  \n",
       "3    10.30  \n",
       "4     9.80  "
      ],
      "text/html": [
       "<div>\n",
       "<style scoped>\n",
       "    .dataframe tbody tr th:only-of-type {\n",
       "        vertical-align: middle;\n",
       "    }\n",
       "\n",
       "    .dataframe tbody tr th {\n",
       "        vertical-align: top;\n",
       "    }\n",
       "\n",
       "    .dataframe thead th {\n",
       "        text-align: right;\n",
       "    }\n",
       "</style>\n",
       "<table border=\"1\" class=\"dataframe\">\n",
       "  <thead>\n",
       "    <tr style=\"text-align: right;\">\n",
       "      <th></th>\n",
       "      <th>Class</th>\n",
       "      <th>Engine</th>\n",
       "      <th>Cylinders</th>\n",
       "      <th>Transmission</th>\n",
       "      <th>Fuel</th>\n",
       "      <th>FC_City</th>\n",
       "      <th>FC_Highway</th>\n",
       "      <th>FC_Comb</th>\n",
       "    </tr>\n",
       "  </thead>\n",
       "  <tbody>\n",
       "    <tr>\n",
       "      <th>0</th>\n",
       "      <td>Compact</td>\n",
       "      <td>2.40</td>\n",
       "      <td>4</td>\n",
       "      <td>AM8</td>\n",
       "      <td>Z</td>\n",
       "      <td>9.90</td>\n",
       "      <td>7.00</td>\n",
       "      <td>8.60</td>\n",
       "    </tr>\n",
       "    <tr>\n",
       "      <th>1</th>\n",
       "      <td>Two-seater</td>\n",
       "      <td>3.50</td>\n",
       "      <td>6</td>\n",
       "      <td>AM9</td>\n",
       "      <td>Z</td>\n",
       "      <td>11.10</td>\n",
       "      <td>10.80</td>\n",
       "      <td>11.00</td>\n",
       "    </tr>\n",
       "    <tr>\n",
       "      <th>2</th>\n",
       "      <td>SUV: Small</td>\n",
       "      <td>2.00</td>\n",
       "      <td>4</td>\n",
       "      <td>AS10</td>\n",
       "      <td>Z</td>\n",
       "      <td>11.00</td>\n",
       "      <td>8.60</td>\n",
       "      <td>9.90</td>\n",
       "    </tr>\n",
       "    <tr>\n",
       "      <th>3</th>\n",
       "      <td>SUV: Small</td>\n",
       "      <td>2.00</td>\n",
       "      <td>4</td>\n",
       "      <td>AS10</td>\n",
       "      <td>Z</td>\n",
       "      <td>11.30</td>\n",
       "      <td>9.10</td>\n",
       "      <td>10.30</td>\n",
       "    </tr>\n",
       "    <tr>\n",
       "      <th>4</th>\n",
       "      <td>Compact</td>\n",
       "      <td>2.00</td>\n",
       "      <td>4</td>\n",
       "      <td>AS10</td>\n",
       "      <td>Z</td>\n",
       "      <td>11.20</td>\n",
       "      <td>8.00</td>\n",
       "      <td>9.80</td>\n",
       "    </tr>\n",
       "  </tbody>\n",
       "</table>\n",
       "</div>"
      ]
     },
     "metadata": {},
     "execution_count": 81
    }
   ],
   "metadata": {}
  },
  {
   "cell_type": "markdown",
   "source": [
    "\r\n",
    "## **Categorical features check**\r\n",
    "***"
   ],
   "metadata": {}
  },
  {
   "cell_type": "code",
   "execution_count": 82,
   "source": [
    "# Helper procedure for displaying bar plot\r\n",
    "def b_plot(data=None, col=None):\r\n",
    "    df_count = data[col].value_counts()\r\n",
    "    sns.set(style='darkgrid')\r\n",
    "    sns.barplot(x=df_count.index, y=df_count.values, alpha=.9)\r\n",
    "    if (col=='Class' or col=='Make'):\r\n",
    "        label = f\"Vehicle {col}\"\r\n",
    "    elif (col=='Fuel' or col=='Model'):\r\n",
    "        label = f\"{col} Type\"\r\n",
    "    else: label = col\r\n",
    "    \r\n",
    "    plt.title(f\"Frequency Distribution of {label}\")\r\n",
    "    plt.ylabel(\"Number of Occurrences\", fontsize=12)\r\n",
    "    plt.xlabel(label, fontsize=12)\r\n",
    "    plt.show()"
   ],
   "outputs": [],
   "metadata": {}
  },
  {
   "cell_type": "markdown",
   "source": [
    "b_plot(df, 'Make')"
   ],
   "metadata": {}
  },
  {
   "cell_type": "code",
   "execution_count": 83,
   "source": [
    "b_plot(df, 'Class')"
   ],
   "outputs": [
    {
     "output_type": "display_data",
     "data": {
      "text/plain": [
       "<Figure size 432x288 with 1 Axes>"
      ],
      "image/png": "[encoded data removed]"
     },
     "metadata": {}
    }
   ],
   "metadata": {}
  },
  {
   "cell_type": "code",
   "execution_count": 84,
   "source": [
    "b_plot(df, 'Transmission')"
   ],
   "outputs": [
    {
     "output_type": "display_data",
     "data": {
      "text/plain": [
       "<Figure size 432x288 with 1 Axes>"
      ],
      "image/png": "[encoded data removed]"
     },
     "metadata": {}
    }
   ],
   "metadata": {}
  },
  {
   "cell_type": "code",
   "execution_count": 85,
   "source": [
    "b_plot(df, 'Fuel')"
   ],
   "outputs": [
    {
     "output_type": "display_data",
     "data": {
      "text/plain": [
       "<Figure size 432x288 with 1 Axes>"
      ],
      "image/png": "[encoded data removed]"
     },
     "metadata": {}
    }
   ],
   "metadata": {}
  },
  {
   "cell_type": "markdown",
   "source": [
    "***\r\n",
    "### **Analysis of Variance (ANOVA)** of categorical features with linearOLS model\r\n",
    "***"
   ],
   "metadata": {}
  },
  {
   "cell_type": "code",
   "execution_count": 86,
   "source": [
    "from scipy import stats\r\n",
    "import statsmodels.api as sm\r\n",
    "from statsmodels.formula.api import ols as olsm\r\n",
    "\r\n",
    "# Fit categorical features using ordinary least squares model \r\n",
    "# to minimizes the sum of the squared residuals\r\n",
    "#olsm_fit = olsm('CO2_Emissions ~ C(Make) + C(Class) + C(Transmission) + C(Fuel)', data = df).fit()\r\n",
    "olsm_fit = olsm('FC_Comb ~ C(Class) + C(Transmission) + C(Fuel)', data = df).fit()\r\n",
    "anova = sm.stats.anova_lm(olsm_fit, typ=2)\r\n",
    "#print(f\"{sm.stats.anova_lm(ols_fit, typ=2)}\\n\\n{ols_fit.summary()}\")\r\n",
    "print(f\"ANOVA result of models total variation, degree of freedom,\\n\" +\r\n",
    "      f\"and F-Stats & P-value significance:\\n{'-'*60}\\n{anova}\\n{'-'*60}\")\r\n"
   ],
   "outputs": [
    {
     "output_type": "stream",
     "name": "stdout",
     "text": [
      "ANOVA result of models total variation, degree of freedom,\n",
      "and F-Stats & P-value significance:\n",
      "------------------------------------------------------------\n",
      "                 sum_sq     df     F  PR(>F)\n",
      "C(Class)         685.13  14.00 16.39    0.00\n",
      "C(Transmission)  729.66  22.00 11.11    0.00\n",
      "C(Fuel)          603.42   3.00 67.37    0.00\n",
      "Residual        2576.44 863.00   nan     nan\n",
      "------------------------------------------------------------\n"
     ]
    }
   ],
   "metadata": {}
  },
  {
   "cell_type": "markdown",
   "source": [
    "## **Rebuilt final dataframe**\r\n",
    "***\r\n",
    "#### **Encoding categorical features**"
   ],
   "metadata": {}
  },
  {
   "cell_type": "code",
   "execution_count": 87,
   "source": [
    "cat_df= df.select_dtypes(include=['object']).copy()\r\n",
    "\r\n",
    "print(f\"Categorical features shape: {cat_df.shape}\")"
   ],
   "outputs": [
    {
     "output_type": "stream",
     "name": "stdout",
     "text": [
      "Categorical features shape: (903, 3)\n"
     ]
    }
   ],
   "metadata": {}
  },
  {
   "cell_type": "code",
   "execution_count": 88,
   "source": [
    "from sklearn.preprocessing import LabelBinarizer\r\n",
    "\r\n",
    "# Helper function for encoding categorical variabels\r\n",
    "def lb_results(data=None):\r\n",
    "    lb = LabelBinarizer()\r\n",
    "    lb_fit = lb.fit_transform(data)\r\n",
    "    lb_result = pd.DataFrame(lb_fit, columns=lb.classes_)\r\n",
    "    return lb_result"
   ],
   "outputs": [],
   "metadata": {}
  },
  {
   "cell_type": "markdown",
   "source": [
    "lb_make = lb_results(cat_df['Make'])\r\n",
    "\r\n",
    "print(f\"Encoded vehicle's makes features dimension: {lb_make.shape}\")\r\n",
    "lb_make.head()"
   ],
   "metadata": {}
  },
  {
   "cell_type": "code",
   "execution_count": 89,
   "source": [
    "lb_class = lb_results(cat_df['Class'])\r\n",
    "\r\n",
    "print(f\"Encoded vehicle's class features dimension: {lb_class.shape}\")\r\n",
    "lb_class.head()"
   ],
   "outputs": [
    {
     "output_type": "stream",
     "name": "stdout",
     "text": [
      "Encoded vehicle's class features dimension: (903, 15)\n"
     ]
    },
    {
     "output_type": "execute_result",
     "data": {
      "text/plain": [
       "   Compact  Full-size  Mid-size  Minicompact  Minivan  Pickup truck: Small  \\\n",
       "0        1          0         0            0        0                    0   \n",
       "1        0          0         0            0        0                    0   \n",
       "2        0          0         0            0        0                    0   \n",
       "3        0          0         0            0        0                    0   \n",
       "4        1          0         0            0        0                    0   \n",
       "\n",
       "   Pickup truck: Standard  SUV: Small  SUV: Standard  Special purpose vehicle  \\\n",
       "0                       0           0              0                        0   \n",
       "1                       0           0              0                        0   \n",
       "2                       0           1              0                        0   \n",
       "3                       0           1              0                        0   \n",
       "4                       0           0              0                        0   \n",
       "\n",
       "   Station wagon: Mid-size  Station wagon: Small  Subcompact  Two-seater  \\\n",
       "0                        0                     0           0           0   \n",
       "1                        0                     0           0           1   \n",
       "2                        0                     0           0           0   \n",
       "3                        0                     0           0           0   \n",
       "4                        0                     0           0           0   \n",
       "\n",
       "   Van: Passenger  \n",
       "0               0  \n",
       "1               0  \n",
       "2               0  \n",
       "3               0  \n",
       "4               0  "
      ],
      "text/html": [
       "<div>\n",
       "<style scoped>\n",
       "    .dataframe tbody tr th:only-of-type {\n",
       "        vertical-align: middle;\n",
       "    }\n",
       "\n",
       "    .dataframe tbody tr th {\n",
       "        vertical-align: top;\n",
       "    }\n",
       "\n",
       "    .dataframe thead th {\n",
       "        text-align: right;\n",
       "    }\n",
       "</style>\n",
       "<table border=\"1\" class=\"dataframe\">\n",
       "  <thead>\n",
       "    <tr style=\"text-align: right;\">\n",
       "      <th></th>\n",
       "      <th>Compact</th>\n",
       "      <th>Full-size</th>\n",
       "      <th>Mid-size</th>\n",
       "      <th>Minicompact</th>\n",
       "      <th>Minivan</th>\n",
       "      <th>Pickup truck: Small</th>\n",
       "      <th>Pickup truck: Standard</th>\n",
       "      <th>SUV: Small</th>\n",
       "      <th>SUV: Standard</th>\n",
       "      <th>Special purpose vehicle</th>\n",
       "      <th>Station wagon: Mid-size</th>\n",
       "      <th>Station wagon: Small</th>\n",
       "      <th>Subcompact</th>\n",
       "      <th>Two-seater</th>\n",
       "      <th>Van: Passenger</th>\n",
       "    </tr>\n",
       "  </thead>\n",
       "  <tbody>\n",
       "    <tr>\n",
       "      <th>0</th>\n",
       "      <td>1</td>\n",
       "      <td>0</td>\n",
       "      <td>0</td>\n",
       "      <td>0</td>\n",
       "      <td>0</td>\n",
       "      <td>0</td>\n",
       "      <td>0</td>\n",
       "      <td>0</td>\n",
       "      <td>0</td>\n",
       "      <td>0</td>\n",
       "      <td>0</td>\n",
       "      <td>0</td>\n",
       "      <td>0</td>\n",
       "      <td>0</td>\n",
       "      <td>0</td>\n",
       "    </tr>\n",
       "    <tr>\n",
       "      <th>1</th>\n",
       "      <td>0</td>\n",
       "      <td>0</td>\n",
       "      <td>0</td>\n",
       "      <td>0</td>\n",
       "      <td>0</td>\n",
       "      <td>0</td>\n",
       "      <td>0</td>\n",
       "      <td>0</td>\n",
       "      <td>0</td>\n",
       "      <td>0</td>\n",
       "      <td>0</td>\n",
       "      <td>0</td>\n",
       "      <td>0</td>\n",
       "      <td>1</td>\n",
       "      <td>0</td>\n",
       "    </tr>\n",
       "    <tr>\n",
       "      <th>2</th>\n",
       "      <td>0</td>\n",
       "      <td>0</td>\n",
       "      <td>0</td>\n",
       "      <td>0</td>\n",
       "      <td>0</td>\n",
       "      <td>0</td>\n",
       "      <td>0</td>\n",
       "      <td>1</td>\n",
       "      <td>0</td>\n",
       "      <td>0</td>\n",
       "      <td>0</td>\n",
       "      <td>0</td>\n",
       "      <td>0</td>\n",
       "      <td>0</td>\n",
       "      <td>0</td>\n",
       "    </tr>\n",
       "    <tr>\n",
       "      <th>3</th>\n",
       "      <td>0</td>\n",
       "      <td>0</td>\n",
       "      <td>0</td>\n",
       "      <td>0</td>\n",
       "      <td>0</td>\n",
       "      <td>0</td>\n",
       "      <td>0</td>\n",
       "      <td>1</td>\n",
       "      <td>0</td>\n",
       "      <td>0</td>\n",
       "      <td>0</td>\n",
       "      <td>0</td>\n",
       "      <td>0</td>\n",
       "      <td>0</td>\n",
       "      <td>0</td>\n",
       "    </tr>\n",
       "    <tr>\n",
       "      <th>4</th>\n",
       "      <td>1</td>\n",
       "      <td>0</td>\n",
       "      <td>0</td>\n",
       "      <td>0</td>\n",
       "      <td>0</td>\n",
       "      <td>0</td>\n",
       "      <td>0</td>\n",
       "      <td>0</td>\n",
       "      <td>0</td>\n",
       "      <td>0</td>\n",
       "      <td>0</td>\n",
       "      <td>0</td>\n",
       "      <td>0</td>\n",
       "      <td>0</td>\n",
       "      <td>0</td>\n",
       "    </tr>\n",
       "  </tbody>\n",
       "</table>\n",
       "</div>"
      ]
     },
     "metadata": {},
     "execution_count": 89
    }
   ],
   "metadata": {}
  },
  {
   "cell_type": "code",
   "execution_count": 90,
   "source": [
    "lb_trans = lb_results(cat_df['Transmission'])\r\n",
    "\r\n",
    "print(f\"Encoded vehicle's transmission features dimension: {lb_trans.shape}\")\r\n",
    "lb_trans.head()"
   ],
   "outputs": [
    {
     "output_type": "stream",
     "name": "stdout",
     "text": [
      "Encoded vehicle's transmission features dimension: (903, 23)\n"
     ]
    },
    {
     "output_type": "execute_result",
     "data": {
      "text/plain": [
       "   A10  A6  A8  A9  AM6  AM7  AM8  AM9  AS10  AS5  ...  AS9  AV  AV1  AV10  \\\n",
       "0    0   0   0   0    0    0    1    0     0    0  ...    0   0    0     0   \n",
       "1    0   0   0   0    0    0    0    1     0    0  ...    0   0    0     0   \n",
       "2    0   0   0   0    0    0    0    0     1    0  ...    0   0    0     0   \n",
       "3    0   0   0   0    0    0    0    0     1    0  ...    0   0    0     0   \n",
       "4    0   0   0   0    0    0    0    0     1    0  ...    0   0    0     0   \n",
       "\n",
       "   AV6  AV7  AV8  M5  M6  M7  \n",
       "0    0    0    0   0   0   0  \n",
       "1    0    0    0   0   0   0  \n",
       "2    0    0    0   0   0   0  \n",
       "3    0    0    0   0   0   0  \n",
       "4    0    0    0   0   0   0  \n",
       "\n",
       "[5 rows x 23 columns]"
      ],
      "text/html": [
       "<div>\n",
       "<style scoped>\n",
       "    .dataframe tbody tr th:only-of-type {\n",
       "        vertical-align: middle;\n",
       "    }\n",
       "\n",
       "    .dataframe tbody tr th {\n",
       "        vertical-align: top;\n",
       "    }\n",
       "\n",
       "    .dataframe thead th {\n",
       "        text-align: right;\n",
       "    }\n",
       "</style>\n",
       "<table border=\"1\" class=\"dataframe\">\n",
       "  <thead>\n",
       "    <tr style=\"text-align: right;\">\n",
       "      <th></th>\n",
       "      <th>A10</th>\n",
       "      <th>A6</th>\n",
       "      <th>A8</th>\n",
       "      <th>A9</th>\n",
       "      <th>AM6</th>\n",
       "      <th>AM7</th>\n",
       "      <th>AM8</th>\n",
       "      <th>AM9</th>\n",
       "      <th>AS10</th>\n",
       "      <th>AS5</th>\n",
       "      <th>...</th>\n",
       "      <th>AS9</th>\n",
       "      <th>AV</th>\n",
       "      <th>AV1</th>\n",
       "      <th>AV10</th>\n",
       "      <th>AV6</th>\n",
       "      <th>AV7</th>\n",
       "      <th>AV8</th>\n",
       "      <th>M5</th>\n",
       "      <th>M6</th>\n",
       "      <th>M7</th>\n",
       "    </tr>\n",
       "  </thead>\n",
       "  <tbody>\n",
       "    <tr>\n",
       "      <th>0</th>\n",
       "      <td>0</td>\n",
       "      <td>0</td>\n",
       "      <td>0</td>\n",
       "      <td>0</td>\n",
       "      <td>0</td>\n",
       "      <td>0</td>\n",
       "      <td>1</td>\n",
       "      <td>0</td>\n",
       "      <td>0</td>\n",
       "      <td>0</td>\n",
       "      <td>...</td>\n",
       "      <td>0</td>\n",
       "      <td>0</td>\n",
       "      <td>0</td>\n",
       "      <td>0</td>\n",
       "      <td>0</td>\n",
       "      <td>0</td>\n",
       "      <td>0</td>\n",
       "      <td>0</td>\n",
       "      <td>0</td>\n",
       "      <td>0</td>\n",
       "    </tr>\n",
       "    <tr>\n",
       "      <th>1</th>\n",
       "      <td>0</td>\n",
       "      <td>0</td>\n",
       "      <td>0</td>\n",
       "      <td>0</td>\n",
       "      <td>0</td>\n",
       "      <td>0</td>\n",
       "      <td>0</td>\n",
       "      <td>1</td>\n",
       "      <td>0</td>\n",
       "      <td>0</td>\n",
       "      <td>...</td>\n",
       "      <td>0</td>\n",
       "      <td>0</td>\n",
       "      <td>0</td>\n",
       "      <td>0</td>\n",
       "      <td>0</td>\n",
       "      <td>0</td>\n",
       "      <td>0</td>\n",
       "      <td>0</td>\n",
       "      <td>0</td>\n",
       "      <td>0</td>\n",
       "    </tr>\n",
       "    <tr>\n",
       "      <th>2</th>\n",
       "      <td>0</td>\n",
       "      <td>0</td>\n",
       "      <td>0</td>\n",
       "      <td>0</td>\n",
       "      <td>0</td>\n",
       "      <td>0</td>\n",
       "      <td>0</td>\n",
       "      <td>0</td>\n",
       "      <td>1</td>\n",
       "      <td>0</td>\n",
       "      <td>...</td>\n",
       "      <td>0</td>\n",
       "      <td>0</td>\n",
       "      <td>0</td>\n",
       "      <td>0</td>\n",
       "      <td>0</td>\n",
       "      <td>0</td>\n",
       "      <td>0</td>\n",
       "      <td>0</td>\n",
       "      <td>0</td>\n",
       "      <td>0</td>\n",
       "    </tr>\n",
       "    <tr>\n",
       "      <th>3</th>\n",
       "      <td>0</td>\n",
       "      <td>0</td>\n",
       "      <td>0</td>\n",
       "      <td>0</td>\n",
       "      <td>0</td>\n",
       "      <td>0</td>\n",
       "      <td>0</td>\n",
       "      <td>0</td>\n",
       "      <td>1</td>\n",
       "      <td>0</td>\n",
       "      <td>...</td>\n",
       "      <td>0</td>\n",
       "      <td>0</td>\n",
       "      <td>0</td>\n",
       "      <td>0</td>\n",
       "      <td>0</td>\n",
       "      <td>0</td>\n",
       "      <td>0</td>\n",
       "      <td>0</td>\n",
       "      <td>0</td>\n",
       "      <td>0</td>\n",
       "    </tr>\n",
       "    <tr>\n",
       "      <th>4</th>\n",
       "      <td>0</td>\n",
       "      <td>0</td>\n",
       "      <td>0</td>\n",
       "      <td>0</td>\n",
       "      <td>0</td>\n",
       "      <td>0</td>\n",
       "      <td>0</td>\n",
       "      <td>0</td>\n",
       "      <td>1</td>\n",
       "      <td>0</td>\n",
       "      <td>...</td>\n",
       "      <td>0</td>\n",
       "      <td>0</td>\n",
       "      <td>0</td>\n",
       "      <td>0</td>\n",
       "      <td>0</td>\n",
       "      <td>0</td>\n",
       "      <td>0</td>\n",
       "      <td>0</td>\n",
       "      <td>0</td>\n",
       "      <td>0</td>\n",
       "    </tr>\n",
       "  </tbody>\n",
       "</table>\n",
       "<p>5 rows × 23 columns</p>\n",
       "</div>"
      ]
     },
     "metadata": {},
     "execution_count": 90
    }
   ],
   "metadata": {}
  },
  {
   "cell_type": "code",
   "execution_count": 91,
   "source": [
    "lb_fuel = lb_results(cat_df['Fuel'])\r\n",
    "\r\n",
    "print(f\"Encoded vehicle's fuel type features dimension: {lb_fuel.shape}\")\r\n",
    "lb_fuel.head()"
   ],
   "outputs": [
    {
     "output_type": "stream",
     "name": "stdout",
     "text": [
      "Encoded vehicle's fuel type features dimension: (903, 4)\n"
     ]
    },
    {
     "output_type": "execute_result",
     "data": {
      "text/plain": [
       "   D  E  X  Z\n",
       "0  0  0  0  1\n",
       "1  0  0  0  1\n",
       "2  0  0  0  1\n",
       "3  0  0  0  1\n",
       "4  0  0  0  1"
      ],
      "text/html": [
       "<div>\n",
       "<style scoped>\n",
       "    .dataframe tbody tr th:only-of-type {\n",
       "        vertical-align: middle;\n",
       "    }\n",
       "\n",
       "    .dataframe tbody tr th {\n",
       "        vertical-align: top;\n",
       "    }\n",
       "\n",
       "    .dataframe thead th {\n",
       "        text-align: right;\n",
       "    }\n",
       "</style>\n",
       "<table border=\"1\" class=\"dataframe\">\n",
       "  <thead>\n",
       "    <tr style=\"text-align: right;\">\n",
       "      <th></th>\n",
       "      <th>D</th>\n",
       "      <th>E</th>\n",
       "      <th>X</th>\n",
       "      <th>Z</th>\n",
       "    </tr>\n",
       "  </thead>\n",
       "  <tbody>\n",
       "    <tr>\n",
       "      <th>0</th>\n",
       "      <td>0</td>\n",
       "      <td>0</td>\n",
       "      <td>0</td>\n",
       "      <td>1</td>\n",
       "    </tr>\n",
       "    <tr>\n",
       "      <th>1</th>\n",
       "      <td>0</td>\n",
       "      <td>0</td>\n",
       "      <td>0</td>\n",
       "      <td>1</td>\n",
       "    </tr>\n",
       "    <tr>\n",
       "      <th>2</th>\n",
       "      <td>0</td>\n",
       "      <td>0</td>\n",
       "      <td>0</td>\n",
       "      <td>1</td>\n",
       "    </tr>\n",
       "    <tr>\n",
       "      <th>3</th>\n",
       "      <td>0</td>\n",
       "      <td>0</td>\n",
       "      <td>0</td>\n",
       "      <td>1</td>\n",
       "    </tr>\n",
       "    <tr>\n",
       "      <th>4</th>\n",
       "      <td>0</td>\n",
       "      <td>0</td>\n",
       "      <td>0</td>\n",
       "      <td>1</td>\n",
       "    </tr>\n",
       "  </tbody>\n",
       "</table>\n",
       "</div>"
      ]
     },
     "metadata": {},
     "execution_count": 91
    }
   ],
   "metadata": {}
  },
  {
   "cell_type": "markdown",
   "source": [
    "### **Final dataframe**\r\n",
    "***"
   ],
   "metadata": {}
  },
  {
   "cell_type": "code",
   "execution_count": 92,
   "source": [
    "# Get the continous variabels\r\n",
    "cont_df = df[['Engine', 'Cylinders', 'FC_City', 'FC_Highway', 'FC_Comb']]\r\n",
    "\r\n",
    "# Combining encoded categorical variabels dataframe\r\n",
    "#encoded_df = pd.concat([lb_make, lb_class, lb_trans, lb_fuel], axis=1)\r\n",
    "encoded_df = pd.concat([lb_class, lb_trans, lb_fuel], axis=1)\r\n",
    "\r\n",
    "print(f\"Continuous features shape          : {cont_df.shape}\")\r\n",
    "print(f\"Encoded categorical features shape : {encoded_df.shape}\")"
   ],
   "outputs": [
    {
     "output_type": "stream",
     "name": "stdout",
     "text": [
      "Continuous features shape          : (903, 5)\n",
      "Encoded categorical features shape : (903, 42)\n"
     ]
    }
   ],
   "metadata": {}
  },
  {
   "cell_type": "code",
   "execution_count": 93,
   "source": [
    "# Built final dataframe from combination of continous and categorical variabels dataframes\r\n",
    "final_df = pd.concat([cont_df, encoded_df], axis=1)\r\n",
    "\r\n",
    "print(f\"Raw final dataframe shape : {final_df.shape}\")\r\n",
    "# Missing values checks\r\n",
    "print(\"And missing values checks :\")\r\n",
    "final_df.isna().sum()"
   ],
   "outputs": [
    {
     "output_type": "stream",
     "name": "stdout",
     "text": [
      "Raw final dataframe shape : (917, 47)\n",
      "And missing values checks :\n"
     ]
    },
    {
     "output_type": "execute_result",
     "data": {
      "text/plain": [
       "Engine                     14\n",
       "Cylinders                  14\n",
       "FC_City                    14\n",
       "FC_Highway                 14\n",
       "FC_Comb                    14\n",
       "Compact                    14\n",
       "Full-size                  14\n",
       "Mid-size                   14\n",
       "Minicompact                14\n",
       "Minivan                    14\n",
       "Pickup truck: Small        14\n",
       "Pickup truck: Standard     14\n",
       "SUV: Small                 14\n",
       "SUV: Standard              14\n",
       "Special purpose vehicle    14\n",
       "Station wagon: Mid-size    14\n",
       "Station wagon: Small       14\n",
       "Subcompact                 14\n",
       "Two-seater                 14\n",
       "Van: Passenger             14\n",
       "A10                        14\n",
       "A6                         14\n",
       "A8                         14\n",
       "A9                         14\n",
       "AM6                        14\n",
       "AM7                        14\n",
       "AM8                        14\n",
       "AM9                        14\n",
       "AS10                       14\n",
       "AS5                        14\n",
       "AS6                        14\n",
       "AS7                        14\n",
       "AS8                        14\n",
       "AS9                        14\n",
       "AV                         14\n",
       "AV1                        14\n",
       "AV10                       14\n",
       "AV6                        14\n",
       "AV7                        14\n",
       "AV8                        14\n",
       "M5                         14\n",
       "M6                         14\n",
       "M7                         14\n",
       "D                          14\n",
       "E                          14\n",
       "X                          14\n",
       "Z                          14\n",
       "dtype: int64"
      ]
     },
     "metadata": {},
     "execution_count": 93
    }
   ],
   "metadata": {}
  },
  {
   "cell_type": "code",
   "execution_count": 94,
   "source": [
    "# Removing missing values since its only an insignificant numbers\r\n",
    "final_df = final_df.dropna()\r\n",
    "\r\n",
    "print(f\"Final dataframe dimension : {final_df.shape}\\nAnd lookup first 5 rows   :\")\r\n",
    "final_df.head()"
   ],
   "outputs": [
    {
     "output_type": "stream",
     "name": "stdout",
     "text": [
      "Final dataframe dimension : (889, 47)\n",
      "And lookup first 5 rows   :\n"
     ]
    },
    {
     "output_type": "execute_result",
     "data": {
      "text/plain": [
       "   Engine  Cylinders  FC_City  FC_Highway  FC_Comb  Compact  Full-size  \\\n",
       "0    2.40       4.00     9.90        7.00     8.60     1.00       0.00   \n",
       "1    3.50       6.00    11.10       10.80    11.00     0.00       0.00   \n",
       "2    2.00       4.00    11.00        8.60     9.90     0.00       0.00   \n",
       "3    2.00       4.00    11.30        9.10    10.30     0.00       0.00   \n",
       "4    2.00       4.00    11.20        8.00     9.80     1.00       0.00   \n",
       "\n",
       "   Mid-size  Minicompact  Minivan  ...  AV6  AV7  AV8   M5   M6   M7    D  \\\n",
       "0      0.00         0.00     0.00  ... 0.00 0.00 0.00 0.00 0.00 0.00 0.00   \n",
       "1      0.00         0.00     0.00  ... 0.00 0.00 0.00 0.00 0.00 0.00 0.00   \n",
       "2      0.00         0.00     0.00  ... 0.00 0.00 0.00 0.00 0.00 0.00 0.00   \n",
       "3      0.00         0.00     0.00  ... 0.00 0.00 0.00 0.00 0.00 0.00 0.00   \n",
       "4      0.00         0.00     0.00  ... 0.00 0.00 0.00 0.00 0.00 0.00 0.00   \n",
       "\n",
       "     E    X    Z  \n",
       "0 0.00 0.00 1.00  \n",
       "1 0.00 0.00 1.00  \n",
       "2 0.00 0.00 1.00  \n",
       "3 0.00 0.00 1.00  \n",
       "4 0.00 0.00 1.00  \n",
       "\n",
       "[5 rows x 47 columns]"
      ],
      "text/html": [
       "<div>\n",
       "<style scoped>\n",
       "    .dataframe tbody tr th:only-of-type {\n",
       "        vertical-align: middle;\n",
       "    }\n",
       "\n",
       "    .dataframe tbody tr th {\n",
       "        vertical-align: top;\n",
       "    }\n",
       "\n",
       "    .dataframe thead th {\n",
       "        text-align: right;\n",
       "    }\n",
       "</style>\n",
       "<table border=\"1\" class=\"dataframe\">\n",
       "  <thead>\n",
       "    <tr style=\"text-align: right;\">\n",
       "      <th></th>\n",
       "      <th>Engine</th>\n",
       "      <th>Cylinders</th>\n",
       "      <th>FC_City</th>\n",
       "      <th>FC_Highway</th>\n",
       "      <th>FC_Comb</th>\n",
       "      <th>Compact</th>\n",
       "      <th>Full-size</th>\n",
       "      <th>Mid-size</th>\n",
       "      <th>Minicompact</th>\n",
       "      <th>Minivan</th>\n",
       "      <th>...</th>\n",
       "      <th>AV6</th>\n",
       "      <th>AV7</th>\n",
       "      <th>AV8</th>\n",
       "      <th>M5</th>\n",
       "      <th>M6</th>\n",
       "      <th>M7</th>\n",
       "      <th>D</th>\n",
       "      <th>E</th>\n",
       "      <th>X</th>\n",
       "      <th>Z</th>\n",
       "    </tr>\n",
       "  </thead>\n",
       "  <tbody>\n",
       "    <tr>\n",
       "      <th>0</th>\n",
       "      <td>2.40</td>\n",
       "      <td>4.00</td>\n",
       "      <td>9.90</td>\n",
       "      <td>7.00</td>\n",
       "      <td>8.60</td>\n",
       "      <td>1.00</td>\n",
       "      <td>0.00</td>\n",
       "      <td>0.00</td>\n",
       "      <td>0.00</td>\n",
       "      <td>0.00</td>\n",
       "      <td>...</td>\n",
       "      <td>0.00</td>\n",
       "      <td>0.00</td>\n",
       "      <td>0.00</td>\n",
       "      <td>0.00</td>\n",
       "      <td>0.00</td>\n",
       "      <td>0.00</td>\n",
       "      <td>0.00</td>\n",
       "      <td>0.00</td>\n",
       "      <td>0.00</td>\n",
       "      <td>1.00</td>\n",
       "    </tr>\n",
       "    <tr>\n",
       "      <th>1</th>\n",
       "      <td>3.50</td>\n",
       "      <td>6.00</td>\n",
       "      <td>11.10</td>\n",
       "      <td>10.80</td>\n",
       "      <td>11.00</td>\n",
       "      <td>0.00</td>\n",
       "      <td>0.00</td>\n",
       "      <td>0.00</td>\n",
       "      <td>0.00</td>\n",
       "      <td>0.00</td>\n",
       "      <td>...</td>\n",
       "      <td>0.00</td>\n",
       "      <td>0.00</td>\n",
       "      <td>0.00</td>\n",
       "      <td>0.00</td>\n",
       "      <td>0.00</td>\n",
       "      <td>0.00</td>\n",
       "      <td>0.00</td>\n",
       "      <td>0.00</td>\n",
       "      <td>0.00</td>\n",
       "      <td>1.00</td>\n",
       "    </tr>\n",
       "    <tr>\n",
       "      <th>2</th>\n",
       "      <td>2.00</td>\n",
       "      <td>4.00</td>\n",
       "      <td>11.00</td>\n",
       "      <td>8.60</td>\n",
       "      <td>9.90</td>\n",
       "      <td>0.00</td>\n",
       "      <td>0.00</td>\n",
       "      <td>0.00</td>\n",
       "      <td>0.00</td>\n",
       "      <td>0.00</td>\n",
       "      <td>...</td>\n",
       "      <td>0.00</td>\n",
       "      <td>0.00</td>\n",
       "      <td>0.00</td>\n",
       "      <td>0.00</td>\n",
       "      <td>0.00</td>\n",
       "      <td>0.00</td>\n",
       "      <td>0.00</td>\n",
       "      <td>0.00</td>\n",
       "      <td>0.00</td>\n",
       "      <td>1.00</td>\n",
       "    </tr>\n",
       "    <tr>\n",
       "      <th>3</th>\n",
       "      <td>2.00</td>\n",
       "      <td>4.00</td>\n",
       "      <td>11.30</td>\n",
       "      <td>9.10</td>\n",
       "      <td>10.30</td>\n",
       "      <td>0.00</td>\n",
       "      <td>0.00</td>\n",
       "      <td>0.00</td>\n",
       "      <td>0.00</td>\n",
       "      <td>0.00</td>\n",
       "      <td>...</td>\n",
       "      <td>0.00</td>\n",
       "      <td>0.00</td>\n",
       "      <td>0.00</td>\n",
       "      <td>0.00</td>\n",
       "      <td>0.00</td>\n",
       "      <td>0.00</td>\n",
       "      <td>0.00</td>\n",
       "      <td>0.00</td>\n",
       "      <td>0.00</td>\n",
       "      <td>1.00</td>\n",
       "    </tr>\n",
       "    <tr>\n",
       "      <th>4</th>\n",
       "      <td>2.00</td>\n",
       "      <td>4.00</td>\n",
       "      <td>11.20</td>\n",
       "      <td>8.00</td>\n",
       "      <td>9.80</td>\n",
       "      <td>1.00</td>\n",
       "      <td>0.00</td>\n",
       "      <td>0.00</td>\n",
       "      <td>0.00</td>\n",
       "      <td>0.00</td>\n",
       "      <td>...</td>\n",
       "      <td>0.00</td>\n",
       "      <td>0.00</td>\n",
       "      <td>0.00</td>\n",
       "      <td>0.00</td>\n",
       "      <td>0.00</td>\n",
       "      <td>0.00</td>\n",
       "      <td>0.00</td>\n",
       "      <td>0.00</td>\n",
       "      <td>0.00</td>\n",
       "      <td>1.00</td>\n",
       "    </tr>\n",
       "  </tbody>\n",
       "</table>\n",
       "<p>5 rows × 47 columns</p>\n",
       "</div>"
      ]
     },
     "metadata": {},
     "execution_count": 94
    }
   ],
   "metadata": {}
  },
  {
   "cell_type": "markdown",
   "source": [
    "### **Continuous feature scaling**\r\n",
    "***"
   ],
   "metadata": {}
  },
  {
   "cell_type": "code",
   "execution_count": 127,
   "source": [
    "cnames = ['Engine','Cylinders', 'FC_City', 'FC_Highway']\r\n",
    "for i in cnames:\r\n",
    "    #print(i)\r\n",
    "    final_df[i] = (final_df[i] - final_df[i].mean())/final_df[i].std()\r\n",
    "\r\n",
    "print(\"Final dataframe first 5 rows:\")\r\n",
    "final_df.tail()"
   ],
   "outputs": [
    {
     "output_type": "stream",
     "name": "stdout",
     "text": [
      "Final dataframe first 5 rows:\n"
     ]
    },
    {
     "output_type": "execute_result",
     "data": {
      "text/plain": [
       "     Engine  Cylinders  FC_City  FC_Highway  FC_Comb  Compact  Full-size  \\\n",
       "898   -1.31      -0.88    -1.38       -1.67     6.90     0.00       0.00   \n",
       "899   -0.87      -0.88    -0.81       -1.17     8.40     0.00       0.00   \n",
       "900   -0.87      -0.88    -0.81       -1.07     8.50     0.00       0.00   \n",
       "901   -0.87      -0.88    -0.78       -1.27     8.30     0.00       0.00   \n",
       "902   -0.87      -0.88    -0.59       -0.53     9.40     0.00       0.00   \n",
       "\n",
       "     Mid-size  Minicompact  Minivan  ...  AV6  AV7  AV8   M5   M6   M7    D  \\\n",
       "898      0.00         0.00     0.00  ... 0.00 0.00 0.00 0.00 0.00 0.00 0.00   \n",
       "899      0.00         0.00     0.00  ... 0.00 0.00 0.00 0.00 0.00 0.00 0.00   \n",
       "900      0.00         0.00     0.00  ... 0.00 0.00 0.00 0.00 0.00 0.00 0.00   \n",
       "901      0.00         0.00     0.00  ... 0.00 0.00 0.00 0.00 0.00 0.00 0.00   \n",
       "902      0.00         0.00     0.00  ... 0.00 0.00 0.00 0.00 0.00 0.00 0.00   \n",
       "\n",
       "       E    X    Z  \n",
       "898 0.00 0.00 1.00  \n",
       "899 0.00 0.00 1.00  \n",
       "900 0.00 0.00 1.00  \n",
       "901 0.00 0.00 1.00  \n",
       "902 0.00 0.00 1.00  \n",
       "\n",
       "[5 rows x 47 columns]"
      ],
      "text/html": [
       "<div>\n",
       "<style scoped>\n",
       "    .dataframe tbody tr th:only-of-type {\n",
       "        vertical-align: middle;\n",
       "    }\n",
       "\n",
       "    .dataframe tbody tr th {\n",
       "        vertical-align: top;\n",
       "    }\n",
       "\n",
       "    .dataframe thead th {\n",
       "        text-align: right;\n",
       "    }\n",
       "</style>\n",
       "<table border=\"1\" class=\"dataframe\">\n",
       "  <thead>\n",
       "    <tr style=\"text-align: right;\">\n",
       "      <th></th>\n",
       "      <th>Engine</th>\n",
       "      <th>Cylinders</th>\n",
       "      <th>FC_City</th>\n",
       "      <th>FC_Highway</th>\n",
       "      <th>FC_Comb</th>\n",
       "      <th>Compact</th>\n",
       "      <th>Full-size</th>\n",
       "      <th>Mid-size</th>\n",
       "      <th>Minicompact</th>\n",
       "      <th>Minivan</th>\n",
       "      <th>...</th>\n",
       "      <th>AV6</th>\n",
       "      <th>AV7</th>\n",
       "      <th>AV8</th>\n",
       "      <th>M5</th>\n",
       "      <th>M6</th>\n",
       "      <th>M7</th>\n",
       "      <th>D</th>\n",
       "      <th>E</th>\n",
       "      <th>X</th>\n",
       "      <th>Z</th>\n",
       "    </tr>\n",
       "  </thead>\n",
       "  <tbody>\n",
       "    <tr>\n",
       "      <th>898</th>\n",
       "      <td>-1.31</td>\n",
       "      <td>-0.88</td>\n",
       "      <td>-1.38</td>\n",
       "      <td>-1.67</td>\n",
       "      <td>6.90</td>\n",
       "      <td>0.00</td>\n",
       "      <td>0.00</td>\n",
       "      <td>0.00</td>\n",
       "      <td>0.00</td>\n",
       "      <td>0.00</td>\n",
       "      <td>...</td>\n",
       "      <td>0.00</td>\n",
       "      <td>0.00</td>\n",
       "      <td>0.00</td>\n",
       "      <td>0.00</td>\n",
       "      <td>0.00</td>\n",
       "      <td>0.00</td>\n",
       "      <td>0.00</td>\n",
       "      <td>0.00</td>\n",
       "      <td>0.00</td>\n",
       "      <td>1.00</td>\n",
       "    </tr>\n",
       "    <tr>\n",
       "      <th>899</th>\n",
       "      <td>-0.87</td>\n",
       "      <td>-0.88</td>\n",
       "      <td>-0.81</td>\n",
       "      <td>-1.17</td>\n",
       "      <td>8.40</td>\n",
       "      <td>0.00</td>\n",
       "      <td>0.00</td>\n",
       "      <td>0.00</td>\n",
       "      <td>0.00</td>\n",
       "      <td>0.00</td>\n",
       "      <td>...</td>\n",
       "      <td>0.00</td>\n",
       "      <td>0.00</td>\n",
       "      <td>0.00</td>\n",
       "      <td>0.00</td>\n",
       "      <td>0.00</td>\n",
       "      <td>0.00</td>\n",
       "      <td>0.00</td>\n",
       "      <td>0.00</td>\n",
       "      <td>0.00</td>\n",
       "      <td>1.00</td>\n",
       "    </tr>\n",
       "    <tr>\n",
       "      <th>900</th>\n",
       "      <td>-0.87</td>\n",
       "      <td>-0.88</td>\n",
       "      <td>-0.81</td>\n",
       "      <td>-1.07</td>\n",
       "      <td>8.50</td>\n",
       "      <td>0.00</td>\n",
       "      <td>0.00</td>\n",
       "      <td>0.00</td>\n",
       "      <td>0.00</td>\n",
       "      <td>0.00</td>\n",
       "      <td>...</td>\n",
       "      <td>0.00</td>\n",
       "      <td>0.00</td>\n",
       "      <td>0.00</td>\n",
       "      <td>0.00</td>\n",
       "      <td>0.00</td>\n",
       "      <td>0.00</td>\n",
       "      <td>0.00</td>\n",
       "      <td>0.00</td>\n",
       "      <td>0.00</td>\n",
       "      <td>1.00</td>\n",
       "    </tr>\n",
       "    <tr>\n",
       "      <th>901</th>\n",
       "      <td>-0.87</td>\n",
       "      <td>-0.88</td>\n",
       "      <td>-0.78</td>\n",
       "      <td>-1.27</td>\n",
       "      <td>8.30</td>\n",
       "      <td>0.00</td>\n",
       "      <td>0.00</td>\n",
       "      <td>0.00</td>\n",
       "      <td>0.00</td>\n",
       "      <td>0.00</td>\n",
       "      <td>...</td>\n",
       "      <td>0.00</td>\n",
       "      <td>0.00</td>\n",
       "      <td>0.00</td>\n",
       "      <td>0.00</td>\n",
       "      <td>0.00</td>\n",
       "      <td>0.00</td>\n",
       "      <td>0.00</td>\n",
       "      <td>0.00</td>\n",
       "      <td>0.00</td>\n",
       "      <td>1.00</td>\n",
       "    </tr>\n",
       "    <tr>\n",
       "      <th>902</th>\n",
       "      <td>-0.87</td>\n",
       "      <td>-0.88</td>\n",
       "      <td>-0.59</td>\n",
       "      <td>-0.53</td>\n",
       "      <td>9.40</td>\n",
       "      <td>0.00</td>\n",
       "      <td>0.00</td>\n",
       "      <td>0.00</td>\n",
       "      <td>0.00</td>\n",
       "      <td>0.00</td>\n",
       "      <td>...</td>\n",
       "      <td>0.00</td>\n",
       "      <td>0.00</td>\n",
       "      <td>0.00</td>\n",
       "      <td>0.00</td>\n",
       "      <td>0.00</td>\n",
       "      <td>0.00</td>\n",
       "      <td>0.00</td>\n",
       "      <td>0.00</td>\n",
       "      <td>0.00</td>\n",
       "      <td>1.00</td>\n",
       "    </tr>\n",
       "  </tbody>\n",
       "</table>\n",
       "<p>5 rows × 47 columns</p>\n",
       "</div>"
      ]
     },
     "metadata": {},
     "execution_count": 127
    }
   ],
   "metadata": {}
  },
  {
   "cell_type": "markdown",
   "source": [
    "***\r\n",
    "# **Data Modeling**\r\n",
    "***\r\n",
    "### **Feature Selection**"
   ],
   "metadata": {}
  },
  {
   "cell_type": "code",
   "execution_count": 96,
   "source": [
    "X = final_df.drop(['FC_Comb'], axis=1)\r\n",
    "y = final_df['FC_Comb']\r\n",
    "\r\n",
    "print(f\"X features shape : {X.shape}\")\r\n",
    "print(f\"y target shape   : {y.shape}\")"
   ],
   "outputs": [
    {
     "output_type": "stream",
     "name": "stdout",
     "text": [
      "X features shape : (889, 46)\n",
      "y target shape   : (889,)\n"
     ]
    }
   ],
   "metadata": {}
  },
  {
   "cell_type": "markdown",
   "source": [
    "### **Divides dataframe into train and test**\r\n",
    "***"
   ],
   "metadata": {}
  },
  {
   "cell_type": "code",
   "execution_count": 102,
   "source": [
    "#random_state is the seed used by the random number generator. It can be any integer.\r\n",
    "from sklearn.model_selection import train_test_split\r\n",
    "X_train, X_true, y_train, y_true = train_test_split(X, y, test_size=0.2 , random_state=42)\r\n",
    "\r\n",
    "print(f\"X_train shape: {X_train.shape}\\ny_train shape: {y_train.shape}\\n{'-'*25}\\n\"+\r\n",
    "      f\"X_valid shape: {X_true.shape}\\ny_valid shape: {y_true.shape}\")"
   ],
   "outputs": [
    {
     "output_type": "stream",
     "name": "stdout",
     "text": [
      "X_train shape: (711, 46)\n",
      "y_train shape: (711,)\n",
      "-------------------------\n",
      "X_valid shape: (178, 46)\n",
      "y_valid shape: (178,)\n"
     ]
    }
   ],
   "metadata": {}
  },
  {
   "cell_type": "markdown",
   "source": [
    "***\r\n",
    "# **Multilinear Regression**\r\n",
    "***"
   ],
   "metadata": {}
  },
  {
   "cell_type": "code",
   "execution_count": 103,
   "source": [
    "from sklearn.linear_model import LinearRegression\r\n",
    "#from statsmodels.regression.linear_model import OLS\r\n",
    "\r\n",
    "#ols = OLS(endog=y_train, exog=X_train)\r\n",
    "#res = ols.fit()\r\n",
    "\r\n",
    "#print(res.summary())\r\n",
    "\r\n",
    "mlr = LinearRegression()\r\n",
    "lr_fit = mlr.fit(X_train, y_train)\r\n",
    "\r\n",
    "accu = lr_fit.score(X_true, y_true)\r\n",
    "intc = lr_fit.intercept_\r\n",
    "coef = lr_fit.coef_\r\n",
    "\r\n",
    "print(f\"Accuracy   : {accu:.5f}\\nIntercept  : {intc:.5f}\\nCoefficient:\")\r\n",
    "coef"
   ],
   "outputs": [
    {
     "output_type": "stream",
     "name": "stdout",
     "text": [
      "Accuracy   : 0.99968\n",
      "Intercept  : 49933303089.82623\n",
      "Coefficient:\n"
     ]
    },
    {
     "output_type": "execute_result",
     "data": {
      "text/plain": [
       "array([-4.95048171e-03,  5.55328587e-05,  1.74754338e+00,  9.08818602e-01,\n",
       "       -2.22603283e+10, -2.22603283e+10, -2.22603283e+10, -2.22603283e+10,\n",
       "       -2.22603283e+10, -2.22603283e+10, -2.22603283e+10, -2.22603283e+10,\n",
       "       -2.22603283e+10, -2.22603283e+10, -2.22603283e+10, -2.22603283e+10,\n",
       "       -2.22603283e+10, -2.22603283e+10, -2.22603283e+10, -1.36057049e+10,\n",
       "       -1.36057049e+10, -1.36057049e+10, -1.36057049e+10, -1.36057049e+10,\n",
       "       -1.36057049e+10, -1.36057049e+10, -1.36057049e+10, -1.36057049e+10,\n",
       "       -1.36057049e+10, -1.36057049e+10, -1.36057049e+10, -1.36057049e+10,\n",
       "       -1.36057049e+10, -1.36057049e+10, -1.36057049e+10, -1.36057049e+10,\n",
       "       -1.36057049e+10, -1.36057049e+10, -1.36057049e+10, -1.36057049e+10,\n",
       "       -1.36057049e+10, -1.36057049e+10, -1.40672700e+10, -1.40672700e+10,\n",
       "       -1.40672700e+10, -1.40672700e+10])"
      ]
     },
     "metadata": {},
     "execution_count": 103
    }
   ],
   "metadata": {}
  },
  {
   "cell_type": "code",
   "execution_count": 106,
   "source": [
    "df_coef = pd.DataFrame(coef, X_true.columns, columns=['Coefficient'])\r\n",
    "\r\n",
    "print(\"Coefficient of each features:\")\r\n",
    "df_coef.T"
   ],
   "outputs": [
    {
     "output_type": "stream",
     "name": "stdout",
     "text": [
      "Coefficient of each features:\n"
     ]
    },
    {
     "output_type": "execute_result",
     "data": {
      "text/plain": [
       "             Engine  Cylinders  FC_City  FC_Highway         Compact  \\\n",
       "Coefficient   -0.00       0.00     1.75        0.91 -22260328256.21   \n",
       "\n",
       "                  Full-size        Mid-size     Minicompact         Minivan  \\\n",
       "Coefficient -22260328256.22 -22260328256.21 -22260328256.22 -22260328256.23   \n",
       "\n",
       "             Pickup truck: Small  ...             AV6             AV7  \\\n",
       "Coefficient      -22260328256.24  ... -13605704854.30 -13605704854.24   \n",
       "\n",
       "                        AV8              M5              M6              M7  \\\n",
       "Coefficient -13605704854.25 -13605704854.26 -13605704854.25 -13605704854.24   \n",
       "\n",
       "                          D               E               X               Z  \n",
       "Coefficient -14067269968.48 -14067269968.49 -14067269968.49 -14067269968.49  \n",
       "\n",
       "[1 rows x 46 columns]"
      ],
      "text/html": [
       "<div>\n",
       "<style scoped>\n",
       "    .dataframe tbody tr th:only-of-type {\n",
       "        vertical-align: middle;\n",
       "    }\n",
       "\n",
       "    .dataframe tbody tr th {\n",
       "        vertical-align: top;\n",
       "    }\n",
       "\n",
       "    .dataframe thead th {\n",
       "        text-align: right;\n",
       "    }\n",
       "</style>\n",
       "<table border=\"1\" class=\"dataframe\">\n",
       "  <thead>\n",
       "    <tr style=\"text-align: right;\">\n",
       "      <th></th>\n",
       "      <th>Engine</th>\n",
       "      <th>Cylinders</th>\n",
       "      <th>FC_City</th>\n",
       "      <th>FC_Highway</th>\n",
       "      <th>Compact</th>\n",
       "      <th>Full-size</th>\n",
       "      <th>Mid-size</th>\n",
       "      <th>Minicompact</th>\n",
       "      <th>Minivan</th>\n",
       "      <th>Pickup truck: Small</th>\n",
       "      <th>...</th>\n",
       "      <th>AV6</th>\n",
       "      <th>AV7</th>\n",
       "      <th>AV8</th>\n",
       "      <th>M5</th>\n",
       "      <th>M6</th>\n",
       "      <th>M7</th>\n",
       "      <th>D</th>\n",
       "      <th>E</th>\n",
       "      <th>X</th>\n",
       "      <th>Z</th>\n",
       "    </tr>\n",
       "  </thead>\n",
       "  <tbody>\n",
       "    <tr>\n",
       "      <th>Coefficient</th>\n",
       "      <td>-0.00</td>\n",
       "      <td>0.00</td>\n",
       "      <td>1.75</td>\n",
       "      <td>0.91</td>\n",
       "      <td>-22260328256.21</td>\n",
       "      <td>-22260328256.22</td>\n",
       "      <td>-22260328256.21</td>\n",
       "      <td>-22260328256.22</td>\n",
       "      <td>-22260328256.23</td>\n",
       "      <td>-22260328256.24</td>\n",
       "      <td>...</td>\n",
       "      <td>-13605704854.30</td>\n",
       "      <td>-13605704854.24</td>\n",
       "      <td>-13605704854.25</td>\n",
       "      <td>-13605704854.26</td>\n",
       "      <td>-13605704854.25</td>\n",
       "      <td>-13605704854.24</td>\n",
       "      <td>-14067269968.48</td>\n",
       "      <td>-14067269968.49</td>\n",
       "      <td>-14067269968.49</td>\n",
       "      <td>-14067269968.49</td>\n",
       "    </tr>\n",
       "  </tbody>\n",
       "</table>\n",
       "<p>1 rows × 46 columns</p>\n",
       "</div>"
      ]
     },
     "metadata": {},
     "execution_count": 106
    }
   ],
   "metadata": {}
  },
  {
   "cell_type": "markdown",
   "source": [
    "***\r\n",
    "# **Prediction**\r\n",
    "***"
   ],
   "metadata": {}
  },
  {
   "cell_type": "code",
   "execution_count": 107,
   "source": [
    "# Making predictions using the model\r\n",
    "\r\n",
    "#y_pred = ols_fit.predict(X_valid)\r\n",
    "#df_pred = pd.DataFrame({'Actual': y_valid, 'Predicted': y_pred})\r\n",
    "\r\n",
    "#print(\"Prediction results:\")\r\n",
    "#df_pred.T\r\n",
    "\r\n",
    "y_pred = lr_fit.predict(X_true)\r\n",
    "df_pred = pd.DataFrame({'Actual': y_true, 'Predicted': y_pred})\r\n",
    "\r\n",
    "print(\"Prediction results:\")\r\n",
    "df_pred.T"
   ],
   "outputs": [
    {
     "output_type": "stream",
     "name": "stdout",
     "text": [
      "Prediction results:\n"
     ]
    },
    {
     "output_type": "execute_result",
     "data": {
      "text/plain": [
       "            284  442   39   425  596   817  348  848  592  548  ...   368  \\\n",
       "Actual    10.00 4.20 14.10 9.60 8.80 16.70 9.50 9.40 8.30 9.50  ... 13.80   \n",
       "Predicted 10.07 4.20 14.06 9.54 8.84 16.63 9.50 9.36 8.32 9.47  ... 13.82   \n",
       "\n",
       "            97    202   582  864  440   820  25   84   10   \n",
       "Actual    12.00 15.70 13.20 8.40 7.80 16.30 9.20 9.80 9.60  \n",
       "Predicted 12.06 15.72 13.21 8.46 7.85 16.30 9.17 9.77 9.67  \n",
       "\n",
       "[2 rows x 178 columns]"
      ],
      "text/html": [
       "<div>\n",
       "<style scoped>\n",
       "    .dataframe tbody tr th:only-of-type {\n",
       "        vertical-align: middle;\n",
       "    }\n",
       "\n",
       "    .dataframe tbody tr th {\n",
       "        vertical-align: top;\n",
       "    }\n",
       "\n",
       "    .dataframe thead th {\n",
       "        text-align: right;\n",
       "    }\n",
       "</style>\n",
       "<table border=\"1\" class=\"dataframe\">\n",
       "  <thead>\n",
       "    <tr style=\"text-align: right;\">\n",
       "      <th></th>\n",
       "      <th>284</th>\n",
       "      <th>442</th>\n",
       "      <th>39</th>\n",
       "      <th>425</th>\n",
       "      <th>596</th>\n",
       "      <th>817</th>\n",
       "      <th>348</th>\n",
       "      <th>848</th>\n",
       "      <th>592</th>\n",
       "      <th>548</th>\n",
       "      <th>...</th>\n",
       "      <th>368</th>\n",
       "      <th>97</th>\n",
       "      <th>202</th>\n",
       "      <th>582</th>\n",
       "      <th>864</th>\n",
       "      <th>440</th>\n",
       "      <th>820</th>\n",
       "      <th>25</th>\n",
       "      <th>84</th>\n",
       "      <th>10</th>\n",
       "    </tr>\n",
       "  </thead>\n",
       "  <tbody>\n",
       "    <tr>\n",
       "      <th>Actual</th>\n",
       "      <td>10.00</td>\n",
       "      <td>4.20</td>\n",
       "      <td>14.10</td>\n",
       "      <td>9.60</td>\n",
       "      <td>8.80</td>\n",
       "      <td>16.70</td>\n",
       "      <td>9.50</td>\n",
       "      <td>9.40</td>\n",
       "      <td>8.30</td>\n",
       "      <td>9.50</td>\n",
       "      <td>...</td>\n",
       "      <td>13.80</td>\n",
       "      <td>12.00</td>\n",
       "      <td>15.70</td>\n",
       "      <td>13.20</td>\n",
       "      <td>8.40</td>\n",
       "      <td>7.80</td>\n",
       "      <td>16.30</td>\n",
       "      <td>9.20</td>\n",
       "      <td>9.80</td>\n",
       "      <td>9.60</td>\n",
       "    </tr>\n",
       "    <tr>\n",
       "      <th>Predicted</th>\n",
       "      <td>10.07</td>\n",
       "      <td>4.20</td>\n",
       "      <td>14.06</td>\n",
       "      <td>9.54</td>\n",
       "      <td>8.84</td>\n",
       "      <td>16.63</td>\n",
       "      <td>9.50</td>\n",
       "      <td>9.36</td>\n",
       "      <td>8.32</td>\n",
       "      <td>9.47</td>\n",
       "      <td>...</td>\n",
       "      <td>13.82</td>\n",
       "      <td>12.06</td>\n",
       "      <td>15.72</td>\n",
       "      <td>13.21</td>\n",
       "      <td>8.46</td>\n",
       "      <td>7.85</td>\n",
       "      <td>16.30</td>\n",
       "      <td>9.17</td>\n",
       "      <td>9.77</td>\n",
       "      <td>9.67</td>\n",
       "    </tr>\n",
       "  </tbody>\n",
       "</table>\n",
       "<p>2 rows × 178 columns</p>\n",
       "</div>"
      ]
     },
     "metadata": {},
     "execution_count": 107
    }
   ],
   "metadata": {}
  },
  {
   "cell_type": "markdown",
   "source": [
    "***\r\n",
    "# **Evaluation**\r\n",
    "***"
   ],
   "metadata": {}
  },
  {
   "cell_type": "code",
   "execution_count": 108,
   "source": [
    "# Calculating error terms\r\n",
    "from sklearn.metrics import mean_absolute_error, mean_squared_error, r2_score\r\n",
    "\r\n",
    "#mae = mean_absolute_error(y_valid, y_pred)\r\n",
    "#mse = mean_squared_error(y_valid, y_pred)\r\n",
    "#rmse = np.sqrt(mean_squared_error(y_valid, y_pred))\r\n",
    "#r_squared = ols_fit.rsquared\r\n",
    "#adj_r_squared = ols_fit.rsquared_adj\r\n",
    "\r\n",
    "mae = mean_absolute_error(y_true, y_pred)\r\n",
    "mse = mean_squared_error(y_true, y_pred)\r\n",
    "rmse = np.sqrt(mse)\r\n",
    "r_squared = r2_score(y_true, y_pred)\r\n",
    "adj_r_squared = 1 - ((1 - r_squared)*(len(y_true) - 1) / (len(y_true) - X_true.shape[1] - 1))\r\n",
    "\r\n",
    "# Adjusted R2 = 1 – [(1-RSquared)*(n-1)/(n-k-1)]\r\n",
    "# n: The number of observations, k: The number of predictor variables"
   ],
   "outputs": [],
   "metadata": {}
  },
  {
   "cell_type": "code",
   "execution_count": 109,
   "source": [
    "print(f\"{'*'*48}\\n\"+\r\n",
    "      f\"{' '*12}Mean Absolute Error : {mae:.5f}\\n\"+  \r\n",
    "      f\"{' '*13}Mean Squared Error : {mse:.5f}\\n\"+  \r\n",
    "      f\"{' '*8}Root Mean Squared Error : {rmse:.5f}\\n\"+\r\n",
    "      f\"{'-'*48}\\n\"+\r\n",
    "      f\"{' '*16}R-Squared Score : {r_squared:.5f}\\n\"+\r\n",
    "      f\"{' '*7}Adjusted R-Squared Score : {adj_r_squared:.5f}\\n\"+\r\n",
    "      f\"{'*'*48}\")\r\n",
    "\r\n",
    "# Plot outputs\r\n",
    "plt.scatter(y_true, y_pred,  color='red')\r\n",
    "plt.plot(y_true, y_pred, color='blue')\r\n",
    "\r\n",
    "plt.show()"
   ],
   "outputs": [
    {
     "output_type": "stream",
     "name": "stdout",
     "text": [
      "************************************************\n",
      "            Mean Absolute Error : 0.03070\n",
      "             Mean Squared Error : 0.00192\n",
      "        Root Mean Squared Error : 0.04378\n",
      "------------------------------------------------\n",
      "                R-Squared Score : 0.99968\n",
      "       Adjusted R-Squared Score : 0.99957\n",
      "************************************************\n"
     ]
    },
    {
     "output_type": "display_data",
     "data": {
      "text/plain": [
       "<Figure size 432x288 with 1 Axes>"
      ],
      "image/png": "[encoded data removed]"
     },
     "metadata": {}
    }
   ],
   "metadata": {}
  }
 ],
 "metadata": {
  "interpreter": {
   "hash": "90fbebc59edbfa4bc7f807b5b75d61a245d791400c308c72c68befd4fafec827"
  },
  "kernelspec": {
   "display_name": "Python 3.8.5 64-bit (conda)",
   "name": "python3"
  },
  "language_info": {
   "codemirror_mode": {
    "name": "ipython",
    "version": 3
   },
   "file_extension": ".py",
   "mimetype": "text/x-python",
   "name": "python",
   "nbconvert_exporter": "python",
   "pygments_lexer": "ipython3",
   "version": "3.8.5"
  },
  "orig_nbformat": 4
 },
 "nbformat": 4,
 "nbformat_minor": 2
}